{
 "cells": [
  {
   "cell_type": "code",
   "execution_count": 359,
   "id": "c9587c94",
   "metadata": {},
   "outputs": [
    {
     "data": {
      "text/html": [
       "<div>\n",
       "<style scoped>\n",
       "    .dataframe tbody tr th:only-of-type {\n",
       "        vertical-align: middle;\n",
       "    }\n",
       "\n",
       "    .dataframe tbody tr th {\n",
       "        vertical-align: top;\n",
       "    }\n",
       "\n",
       "    .dataframe thead th {\n",
       "        text-align: right;\n",
       "    }\n",
       "</style>\n",
       "<table border=\"1\" class=\"dataframe\">\n",
       "  <thead>\n",
       "    <tr style=\"text-align: right;\">\n",
       "      <th></th>\n",
       "      <th>time</th>\n",
       "      <th>day</th>\n",
       "      <th>month</th>\n",
       "      <th>year</th>\n",
       "      <th>t2m</th>\n",
       "      <th>u10</th>\n",
       "      <th>v10</th>\n",
       "      <th>SST</th>\n",
       "      <th>SIC</th>\n",
       "      <th>r1_MAR</th>\n",
       "      <th>r2_MAR</th>\n",
       "      <th>r3_MAR</th>\n",
       "      <th>r4_MAR</th>\n",
       "      <th>r5_MAR</th>\n",
       "      <th>Y4</th>\n",
       "    </tr>\n",
       "  </thead>\n",
       "  <tbody>\n",
       "    <tr>\n",
       "      <th>0</th>\n",
       "      <td>01-01-13</td>\n",
       "      <td>1</td>\n",
       "      <td>1</td>\n",
       "      <td>2013</td>\n",
       "      <td>-21.926931</td>\n",
       "      <td>-0.973994</td>\n",
       "      <td>3.149094</td>\n",
       "      <td>-1.690511</td>\n",
       "      <td>90.745710</td>\n",
       "      <td>0.034537</td>\n",
       "      <td>0.033345</td>\n",
       "      <td>0.0</td>\n",
       "      <td>0.0</td>\n",
       "      <td>0.0</td>\n",
       "      <td>0</td>\n",
       "    </tr>\n",
       "    <tr>\n",
       "      <th>1</th>\n",
       "      <td>02-01-13</td>\n",
       "      <td>2</td>\n",
       "      <td>1</td>\n",
       "      <td>2013</td>\n",
       "      <td>-23.696195</td>\n",
       "      <td>-6.502908</td>\n",
       "      <td>2.494894</td>\n",
       "      <td>-1.690511</td>\n",
       "      <td>88.502980</td>\n",
       "      <td>0.034527</td>\n",
       "      <td>0.033326</td>\n",
       "      <td>0.0</td>\n",
       "      <td>0.0</td>\n",
       "      <td>0.0</td>\n",
       "      <td>0</td>\n",
       "    </tr>\n",
       "    <tr>\n",
       "      <th>2</th>\n",
       "      <td>03-01-13</td>\n",
       "      <td>3</td>\n",
       "      <td>1</td>\n",
       "      <td>2013</td>\n",
       "      <td>-25.644027</td>\n",
       "      <td>-3.557411</td>\n",
       "      <td>1.025486</td>\n",
       "      <td>-1.689860</td>\n",
       "      <td>88.734091</td>\n",
       "      <td>0.034523</td>\n",
       "      <td>0.033321</td>\n",
       "      <td>0.0</td>\n",
       "      <td>0.0</td>\n",
       "      <td>0.0</td>\n",
       "      <td>0</td>\n",
       "    </tr>\n",
       "    <tr>\n",
       "      <th>3</th>\n",
       "      <td>04-01-13</td>\n",
       "      <td>4</td>\n",
       "      <td>1</td>\n",
       "      <td>2013</td>\n",
       "      <td>-23.566887</td>\n",
       "      <td>-1.888075</td>\n",
       "      <td>-3.486122</td>\n",
       "      <td>-1.690511</td>\n",
       "      <td>89.149576</td>\n",
       "      <td>0.034509</td>\n",
       "      <td>0.033306</td>\n",
       "      <td>0.0</td>\n",
       "      <td>0.0</td>\n",
       "      <td>0.0</td>\n",
       "      <td>0</td>\n",
       "    </tr>\n",
       "    <tr>\n",
       "      <th>4</th>\n",
       "      <td>05-01-13</td>\n",
       "      <td>5</td>\n",
       "      <td>1</td>\n",
       "      <td>2013</td>\n",
       "      <td>-22.897768</td>\n",
       "      <td>-2.748844</td>\n",
       "      <td>-3.491206</td>\n",
       "      <td>-1.689860</td>\n",
       "      <td>91.613955</td>\n",
       "      <td>0.034492</td>\n",
       "      <td>0.033290</td>\n",
       "      <td>0.0</td>\n",
       "      <td>0.0</td>\n",
       "      <td>0.0</td>\n",
       "      <td>0</td>\n",
       "    </tr>\n",
       "    <tr>\n",
       "      <th>...</th>\n",
       "      <td>...</td>\n",
       "      <td>...</td>\n",
       "      <td>...</td>\n",
       "      <td>...</td>\n",
       "      <td>...</td>\n",
       "      <td>...</td>\n",
       "      <td>...</td>\n",
       "      <td>...</td>\n",
       "      <td>...</td>\n",
       "      <td>...</td>\n",
       "      <td>...</td>\n",
       "      <td>...</td>\n",
       "      <td>...</td>\n",
       "      <td>...</td>\n",
       "      <td>...</td>\n",
       "    </tr>\n",
       "    <tr>\n",
       "      <th>2551</th>\n",
       "      <td>27-12-19</td>\n",
       "      <td>27</td>\n",
       "      <td>12</td>\n",
       "      <td>2019</td>\n",
       "      <td>-27.316822</td>\n",
       "      <td>1.597207</td>\n",
       "      <td>-0.091400</td>\n",
       "      <td>-1.689860</td>\n",
       "      <td>95.102792</td>\n",
       "      <td>0.466891</td>\n",
       "      <td>0.462179</td>\n",
       "      <td>0.0</td>\n",
       "      <td>0.0</td>\n",
       "      <td>0.0</td>\n",
       "      <td>1</td>\n",
       "    </tr>\n",
       "    <tr>\n",
       "      <th>2552</th>\n",
       "      <td>28-12-19</td>\n",
       "      <td>28</td>\n",
       "      <td>12</td>\n",
       "      <td>2019</td>\n",
       "      <td>-27.998255</td>\n",
       "      <td>3.917396</td>\n",
       "      <td>0.498397</td>\n",
       "      <td>-1.690511</td>\n",
       "      <td>93.949257</td>\n",
       "      <td>0.466818</td>\n",
       "      <td>0.462108</td>\n",
       "      <td>0.0</td>\n",
       "      <td>0.0</td>\n",
       "      <td>0.0</td>\n",
       "      <td>0</td>\n",
       "    </tr>\n",
       "    <tr>\n",
       "      <th>2553</th>\n",
       "      <td>29-12-19</td>\n",
       "      <td>29</td>\n",
       "      <td>12</td>\n",
       "      <td>2019</td>\n",
       "      <td>-23.289798</td>\n",
       "      <td>4.664877</td>\n",
       "      <td>2.332191</td>\n",
       "      <td>-1.689860</td>\n",
       "      <td>93.989076</td>\n",
       "      <td>0.417442</td>\n",
       "      <td>0.414464</td>\n",
       "      <td>0.0</td>\n",
       "      <td>0.0</td>\n",
       "      <td>0.0</td>\n",
       "      <td>0</td>\n",
       "    </tr>\n",
       "    <tr>\n",
       "      <th>2554</th>\n",
       "      <td>30-12-19</td>\n",
       "      <td>30</td>\n",
       "      <td>12</td>\n",
       "      <td>2019</td>\n",
       "      <td>-25.674814</td>\n",
       "      <td>0.062261</td>\n",
       "      <td>3.760923</td>\n",
       "      <td>-1.689860</td>\n",
       "      <td>94.875746</td>\n",
       "      <td>0.306203</td>\n",
       "      <td>0.306203</td>\n",
       "      <td>0.0</td>\n",
       "      <td>0.0</td>\n",
       "      <td>0.0</td>\n",
       "      <td>1</td>\n",
       "    </tr>\n",
       "    <tr>\n",
       "      <th>2555</th>\n",
       "      <td>31-12-19</td>\n",
       "      <td>31</td>\n",
       "      <td>12</td>\n",
       "      <td>2019</td>\n",
       "      <td>-25.219157</td>\n",
       "      <td>-2.973199</td>\n",
       "      <td>5.587938</td>\n",
       "      <td>-1.689860</td>\n",
       "      <td>96.787318</td>\n",
       "      <td>0.306346</td>\n",
       "      <td>0.306346</td>\n",
       "      <td>0.0</td>\n",
       "      <td>0.0</td>\n",
       "      <td>0.0</td>\n",
       "      <td>0</td>\n",
       "    </tr>\n",
       "  </tbody>\n",
       "</table>\n",
       "<p>2556 rows × 15 columns</p>\n",
       "</div>"
      ],
      "text/plain": [
       "          time  day  month  year        t2m       u10       v10       SST  \\\n",
       "0     01-01-13    1      1  2013 -21.926931 -0.973994  3.149094 -1.690511   \n",
       "1     02-01-13    2      1  2013 -23.696195 -6.502908  2.494894 -1.690511   \n",
       "2     03-01-13    3      1  2013 -25.644027 -3.557411  1.025486 -1.689860   \n",
       "3     04-01-13    4      1  2013 -23.566887 -1.888075 -3.486122 -1.690511   \n",
       "4     05-01-13    5      1  2013 -22.897768 -2.748844 -3.491206 -1.689860   \n",
       "...        ...  ...    ...   ...        ...       ...       ...       ...   \n",
       "2551  27-12-19   27     12  2019 -27.316822  1.597207 -0.091400 -1.689860   \n",
       "2552  28-12-19   28     12  2019 -27.998255  3.917396  0.498397 -1.690511   \n",
       "2553  29-12-19   29     12  2019 -23.289798  4.664877  2.332191 -1.689860   \n",
       "2554  30-12-19   30     12  2019 -25.674814  0.062261  3.760923 -1.689860   \n",
       "2555  31-12-19   31     12  2019 -25.219157 -2.973199  5.587938 -1.689860   \n",
       "\n",
       "            SIC    r1_MAR    r2_MAR  r3_MAR  r4_MAR  r5_MAR  Y4  \n",
       "0     90.745710  0.034537  0.033345     0.0     0.0     0.0   0  \n",
       "1     88.502980  0.034527  0.033326     0.0     0.0     0.0   0  \n",
       "2     88.734091  0.034523  0.033321     0.0     0.0     0.0   0  \n",
       "3     89.149576  0.034509  0.033306     0.0     0.0     0.0   0  \n",
       "4     91.613955  0.034492  0.033290     0.0     0.0     0.0   0  \n",
       "...         ...       ...       ...     ...     ...     ...  ..  \n",
       "2551  95.102792  0.466891  0.462179     0.0     0.0     0.0   1  \n",
       "2552  93.949257  0.466818  0.462108     0.0     0.0     0.0   0  \n",
       "2553  93.989076  0.417442  0.414464     0.0     0.0     0.0   0  \n",
       "2554  94.875746  0.306203  0.306203     0.0     0.0     0.0   1  \n",
       "2555  96.787318  0.306346  0.306346     0.0     0.0     0.0   0  \n",
       "\n",
       "[2556 rows x 15 columns]"
      ]
     },
     "execution_count": 359,
     "metadata": {},
     "output_type": "execute_result"
    }
   ],
   "source": [
    "import pandas as pd\n",
    "import numpy as np\n",
    "import matplotlib.pyplot as plt\n",
    "%matplotlib inline\n",
    "#### data = pd.read_csv('time3.csv')\n",
    "data = pd.read_csv('MALM2DS.csv')\n",
    "data"
   ]
  },
  {
   "cell_type": "code",
   "execution_count": 360,
   "id": "c4d55dc2",
   "metadata": {},
   "outputs": [],
   "source": [
    "del data[\"time\"]"
   ]
  },
  {
   "cell_type": "code",
   "execution_count": 361,
   "id": "7f3d1d48",
   "metadata": {},
   "outputs": [
    {
     "data": {
      "text/html": [
       "<div>\n",
       "<style scoped>\n",
       "    .dataframe tbody tr th:only-of-type {\n",
       "        vertical-align: middle;\n",
       "    }\n",
       "\n",
       "    .dataframe tbody tr th {\n",
       "        vertical-align: top;\n",
       "    }\n",
       "\n",
       "    .dataframe thead th {\n",
       "        text-align: right;\n",
       "    }\n",
       "</style>\n",
       "<table border=\"1\" class=\"dataframe\">\n",
       "  <thead>\n",
       "    <tr style=\"text-align: right;\">\n",
       "      <th></th>\n",
       "      <th>day</th>\n",
       "      <th>month</th>\n",
       "      <th>year</th>\n",
       "      <th>t2m</th>\n",
       "      <th>u10</th>\n",
       "      <th>v10</th>\n",
       "      <th>SST</th>\n",
       "      <th>SIC</th>\n",
       "      <th>r1_MAR</th>\n",
       "      <th>r2_MAR</th>\n",
       "      <th>r3_MAR</th>\n",
       "      <th>r4_MAR</th>\n",
       "      <th>r5_MAR</th>\n",
       "      <th>Y4</th>\n",
       "    </tr>\n",
       "  </thead>\n",
       "  <tbody>\n",
       "    <tr>\n",
       "      <th>0</th>\n",
       "      <td>1</td>\n",
       "      <td>1</td>\n",
       "      <td>2013</td>\n",
       "      <td>-21.926931</td>\n",
       "      <td>-0.973994</td>\n",
       "      <td>3.149094</td>\n",
       "      <td>-1.690511</td>\n",
       "      <td>90.745710</td>\n",
       "      <td>0.034537</td>\n",
       "      <td>0.033345</td>\n",
       "      <td>0.0</td>\n",
       "      <td>0.0</td>\n",
       "      <td>0.0</td>\n",
       "      <td>0</td>\n",
       "    </tr>\n",
       "    <tr>\n",
       "      <th>1</th>\n",
       "      <td>2</td>\n",
       "      <td>1</td>\n",
       "      <td>2013</td>\n",
       "      <td>-23.696195</td>\n",
       "      <td>-6.502908</td>\n",
       "      <td>2.494894</td>\n",
       "      <td>-1.690511</td>\n",
       "      <td>88.502980</td>\n",
       "      <td>0.034527</td>\n",
       "      <td>0.033326</td>\n",
       "      <td>0.0</td>\n",
       "      <td>0.0</td>\n",
       "      <td>0.0</td>\n",
       "      <td>0</td>\n",
       "    </tr>\n",
       "    <tr>\n",
       "      <th>2</th>\n",
       "      <td>3</td>\n",
       "      <td>1</td>\n",
       "      <td>2013</td>\n",
       "      <td>-25.644027</td>\n",
       "      <td>-3.557411</td>\n",
       "      <td>1.025486</td>\n",
       "      <td>-1.689860</td>\n",
       "      <td>88.734091</td>\n",
       "      <td>0.034523</td>\n",
       "      <td>0.033321</td>\n",
       "      <td>0.0</td>\n",
       "      <td>0.0</td>\n",
       "      <td>0.0</td>\n",
       "      <td>0</td>\n",
       "    </tr>\n",
       "    <tr>\n",
       "      <th>3</th>\n",
       "      <td>4</td>\n",
       "      <td>1</td>\n",
       "      <td>2013</td>\n",
       "      <td>-23.566887</td>\n",
       "      <td>-1.888075</td>\n",
       "      <td>-3.486122</td>\n",
       "      <td>-1.690511</td>\n",
       "      <td>89.149576</td>\n",
       "      <td>0.034509</td>\n",
       "      <td>0.033306</td>\n",
       "      <td>0.0</td>\n",
       "      <td>0.0</td>\n",
       "      <td>0.0</td>\n",
       "      <td>0</td>\n",
       "    </tr>\n",
       "    <tr>\n",
       "      <th>4</th>\n",
       "      <td>5</td>\n",
       "      <td>1</td>\n",
       "      <td>2013</td>\n",
       "      <td>-22.897768</td>\n",
       "      <td>-2.748844</td>\n",
       "      <td>-3.491206</td>\n",
       "      <td>-1.689860</td>\n",
       "      <td>91.613955</td>\n",
       "      <td>0.034492</td>\n",
       "      <td>0.033290</td>\n",
       "      <td>0.0</td>\n",
       "      <td>0.0</td>\n",
       "      <td>0.0</td>\n",
       "      <td>0</td>\n",
       "    </tr>\n",
       "    <tr>\n",
       "      <th>...</th>\n",
       "      <td>...</td>\n",
       "      <td>...</td>\n",
       "      <td>...</td>\n",
       "      <td>...</td>\n",
       "      <td>...</td>\n",
       "      <td>...</td>\n",
       "      <td>...</td>\n",
       "      <td>...</td>\n",
       "      <td>...</td>\n",
       "      <td>...</td>\n",
       "      <td>...</td>\n",
       "      <td>...</td>\n",
       "      <td>...</td>\n",
       "      <td>...</td>\n",
       "    </tr>\n",
       "    <tr>\n",
       "      <th>2551</th>\n",
       "      <td>27</td>\n",
       "      <td>12</td>\n",
       "      <td>2019</td>\n",
       "      <td>-27.316822</td>\n",
       "      <td>1.597207</td>\n",
       "      <td>-0.091400</td>\n",
       "      <td>-1.689860</td>\n",
       "      <td>95.102792</td>\n",
       "      <td>0.466891</td>\n",
       "      <td>0.462179</td>\n",
       "      <td>0.0</td>\n",
       "      <td>0.0</td>\n",
       "      <td>0.0</td>\n",
       "      <td>1</td>\n",
       "    </tr>\n",
       "    <tr>\n",
       "      <th>2552</th>\n",
       "      <td>28</td>\n",
       "      <td>12</td>\n",
       "      <td>2019</td>\n",
       "      <td>-27.998255</td>\n",
       "      <td>3.917396</td>\n",
       "      <td>0.498397</td>\n",
       "      <td>-1.690511</td>\n",
       "      <td>93.949257</td>\n",
       "      <td>0.466818</td>\n",
       "      <td>0.462108</td>\n",
       "      <td>0.0</td>\n",
       "      <td>0.0</td>\n",
       "      <td>0.0</td>\n",
       "      <td>0</td>\n",
       "    </tr>\n",
       "    <tr>\n",
       "      <th>2553</th>\n",
       "      <td>29</td>\n",
       "      <td>12</td>\n",
       "      <td>2019</td>\n",
       "      <td>-23.289798</td>\n",
       "      <td>4.664877</td>\n",
       "      <td>2.332191</td>\n",
       "      <td>-1.689860</td>\n",
       "      <td>93.989076</td>\n",
       "      <td>0.417442</td>\n",
       "      <td>0.414464</td>\n",
       "      <td>0.0</td>\n",
       "      <td>0.0</td>\n",
       "      <td>0.0</td>\n",
       "      <td>0</td>\n",
       "    </tr>\n",
       "    <tr>\n",
       "      <th>2554</th>\n",
       "      <td>30</td>\n",
       "      <td>12</td>\n",
       "      <td>2019</td>\n",
       "      <td>-25.674814</td>\n",
       "      <td>0.062261</td>\n",
       "      <td>3.760923</td>\n",
       "      <td>-1.689860</td>\n",
       "      <td>94.875746</td>\n",
       "      <td>0.306203</td>\n",
       "      <td>0.306203</td>\n",
       "      <td>0.0</td>\n",
       "      <td>0.0</td>\n",
       "      <td>0.0</td>\n",
       "      <td>1</td>\n",
       "    </tr>\n",
       "    <tr>\n",
       "      <th>2555</th>\n",
       "      <td>31</td>\n",
       "      <td>12</td>\n",
       "      <td>2019</td>\n",
       "      <td>-25.219157</td>\n",
       "      <td>-2.973199</td>\n",
       "      <td>5.587938</td>\n",
       "      <td>-1.689860</td>\n",
       "      <td>96.787318</td>\n",
       "      <td>0.306346</td>\n",
       "      <td>0.306346</td>\n",
       "      <td>0.0</td>\n",
       "      <td>0.0</td>\n",
       "      <td>0.0</td>\n",
       "      <td>0</td>\n",
       "    </tr>\n",
       "  </tbody>\n",
       "</table>\n",
       "<p>2556 rows × 14 columns</p>\n",
       "</div>"
      ],
      "text/plain": [
       "      day  month  year        t2m       u10       v10       SST        SIC  \\\n",
       "0       1      1  2013 -21.926931 -0.973994  3.149094 -1.690511  90.745710   \n",
       "1       2      1  2013 -23.696195 -6.502908  2.494894 -1.690511  88.502980   \n",
       "2       3      1  2013 -25.644027 -3.557411  1.025486 -1.689860  88.734091   \n",
       "3       4      1  2013 -23.566887 -1.888075 -3.486122 -1.690511  89.149576   \n",
       "4       5      1  2013 -22.897768 -2.748844 -3.491206 -1.689860  91.613955   \n",
       "...   ...    ...   ...        ...       ...       ...       ...        ...   \n",
       "2551   27     12  2019 -27.316822  1.597207 -0.091400 -1.689860  95.102792   \n",
       "2552   28     12  2019 -27.998255  3.917396  0.498397 -1.690511  93.949257   \n",
       "2553   29     12  2019 -23.289798  4.664877  2.332191 -1.689860  93.989076   \n",
       "2554   30     12  2019 -25.674814  0.062261  3.760923 -1.689860  94.875746   \n",
       "2555   31     12  2019 -25.219157 -2.973199  5.587938 -1.689860  96.787318   \n",
       "\n",
       "        r1_MAR    r2_MAR  r3_MAR  r4_MAR  r5_MAR  Y4  \n",
       "0     0.034537  0.033345     0.0     0.0     0.0   0  \n",
       "1     0.034527  0.033326     0.0     0.0     0.0   0  \n",
       "2     0.034523  0.033321     0.0     0.0     0.0   0  \n",
       "3     0.034509  0.033306     0.0     0.0     0.0   0  \n",
       "4     0.034492  0.033290     0.0     0.0     0.0   0  \n",
       "...        ...       ...     ...     ...     ...  ..  \n",
       "2551  0.466891  0.462179     0.0     0.0     0.0   1  \n",
       "2552  0.466818  0.462108     0.0     0.0     0.0   0  \n",
       "2553  0.417442  0.414464     0.0     0.0     0.0   0  \n",
       "2554  0.306203  0.306203     0.0     0.0     0.0   1  \n",
       "2555  0.306346  0.306346     0.0     0.0     0.0   0  \n",
       "\n",
       "[2556 rows x 14 columns]"
      ]
     },
     "execution_count": 361,
     "metadata": {},
     "output_type": "execute_result"
    }
   ],
   "source": [
    "data"
   ]
  },
  {
   "cell_type": "code",
   "execution_count": 362,
   "id": "e0eb17a2",
   "metadata": {},
   "outputs": [
    {
     "data": {
      "text/html": [
       "<div>\n",
       "<style scoped>\n",
       "    .dataframe tbody tr th:only-of-type {\n",
       "        vertical-align: middle;\n",
       "    }\n",
       "\n",
       "    .dataframe tbody tr th {\n",
       "        vertical-align: top;\n",
       "    }\n",
       "\n",
       "    .dataframe thead th {\n",
       "        text-align: right;\n",
       "    }\n",
       "</style>\n",
       "<table border=\"1\" class=\"dataframe\">\n",
       "  <thead>\n",
       "    <tr style=\"text-align: right;\">\n",
       "      <th></th>\n",
       "      <th>day</th>\n",
       "      <th>month</th>\n",
       "      <th>year</th>\n",
       "      <th>t2m</th>\n",
       "      <th>u10</th>\n",
       "      <th>v10</th>\n",
       "      <th>SST</th>\n",
       "      <th>SIC</th>\n",
       "      <th>r1_MAR</th>\n",
       "      <th>r2_MAR</th>\n",
       "      <th>r3_MAR</th>\n",
       "      <th>r4_MAR</th>\n",
       "      <th>r5_MAR</th>\n",
       "      <th>Y4</th>\n",
       "    </tr>\n",
       "  </thead>\n",
       "  <tbody>\n",
       "    <tr>\n",
       "      <th>count</th>\n",
       "      <td>2556.000000</td>\n",
       "      <td>2556.000000</td>\n",
       "      <td>2556.0</td>\n",
       "      <td>2556.000000</td>\n",
       "      <td>2556.000000</td>\n",
       "      <td>2556.000000</td>\n",
       "      <td>2556.000000</td>\n",
       "      <td>2556.000000</td>\n",
       "      <td>2556.000000</td>\n",
       "      <td>2556.000000</td>\n",
       "      <td>2556.000000</td>\n",
       "      <td>2556.000000</td>\n",
       "      <td>2556.000000</td>\n",
       "      <td>2556.000000</td>\n",
       "    </tr>\n",
       "    <tr>\n",
       "      <th>mean</th>\n",
       "      <td>15.725743</td>\n",
       "      <td>6.524257</td>\n",
       "      <td>2016.0</td>\n",
       "      <td>-10.190040</td>\n",
       "      <td>0.139648</td>\n",
       "      <td>0.626351</td>\n",
       "      <td>-0.858922</td>\n",
       "      <td>73.267808</td>\n",
       "      <td>18.789275</td>\n",
       "      <td>11.522362</td>\n",
       "      <td>1.328740</td>\n",
       "      <td>4.382248</td>\n",
       "      <td>5.191286</td>\n",
       "      <td>3.955399</td>\n",
       "    </tr>\n",
       "    <tr>\n",
       "      <th>std</th>\n",
       "      <td>8.800168</td>\n",
       "      <td>3.449013</td>\n",
       "      <td>2.0</td>\n",
       "      <td>10.340583</td>\n",
       "      <td>5.013640</td>\n",
       "      <td>3.955417</td>\n",
       "      <td>1.446165</td>\n",
       "      <td>29.250724</td>\n",
       "      <td>47.703600</td>\n",
       "      <td>27.942124</td>\n",
       "      <td>3.393452</td>\n",
       "      <td>12.971518</td>\n",
       "      <td>13.406972</td>\n",
       "      <td>25.622969</td>\n",
       "    </tr>\n",
       "    <tr>\n",
       "      <th>min</th>\n",
       "      <td>1.000000</td>\n",
       "      <td>1.000000</td>\n",
       "      <td>2013.0</td>\n",
       "      <td>-32.019122</td>\n",
       "      <td>-13.846656</td>\n",
       "      <td>-12.316128</td>\n",
       "      <td>-1.692462</td>\n",
       "      <td>0.000000</td>\n",
       "      <td>0.000000</td>\n",
       "      <td>0.000000</td>\n",
       "      <td>0.000000</td>\n",
       "      <td>0.000000</td>\n",
       "      <td>0.000000</td>\n",
       "      <td>0.000000</td>\n",
       "    </tr>\n",
       "    <tr>\n",
       "      <th>25%</th>\n",
       "      <td>8.000000</td>\n",
       "      <td>4.000000</td>\n",
       "      <td>2014.0</td>\n",
       "      <td>-19.877500</td>\n",
       "      <td>-3.610168</td>\n",
       "      <td>-2.079422</td>\n",
       "      <td>-1.689860</td>\n",
       "      <td>70.000000</td>\n",
       "      <td>0.123798</td>\n",
       "      <td>0.121437</td>\n",
       "      <td>0.000000</td>\n",
       "      <td>0.000000</td>\n",
       "      <td>0.000000</td>\n",
       "      <td>0.000000</td>\n",
       "    </tr>\n",
       "    <tr>\n",
       "      <th>50%</th>\n",
       "      <td>16.000000</td>\n",
       "      <td>7.000000</td>\n",
       "      <td>2016.0</td>\n",
       "      <td>-9.596479</td>\n",
       "      <td>-0.187084</td>\n",
       "      <td>0.912780</td>\n",
       "      <td>-1.689860</td>\n",
       "      <td>84.601769</td>\n",
       "      <td>0.481870</td>\n",
       "      <td>0.481870</td>\n",
       "      <td>0.000000</td>\n",
       "      <td>0.000000</td>\n",
       "      <td>0.000000</td>\n",
       "      <td>0.000000</td>\n",
       "    </tr>\n",
       "    <tr>\n",
       "      <th>75%</th>\n",
       "      <td>23.000000</td>\n",
       "      <td>10.000000</td>\n",
       "      <td>2018.0</td>\n",
       "      <td>0.167824</td>\n",
       "      <td>3.807440</td>\n",
       "      <td>3.483397</td>\n",
       "      <td>-0.297573</td>\n",
       "      <td>90.362319</td>\n",
       "      <td>4.080174</td>\n",
       "      <td>3.961181</td>\n",
       "      <td>0.004413</td>\n",
       "      <td>0.010148</td>\n",
       "      <td>0.000150</td>\n",
       "      <td>0.000000</td>\n",
       "    </tr>\n",
       "    <tr>\n",
       "      <th>max</th>\n",
       "      <td>31.000000</td>\n",
       "      <td>12.000000</td>\n",
       "      <td>2019.0</td>\n",
       "      <td>7.840619</td>\n",
       "      <td>14.640913</td>\n",
       "      <td>12.811255</td>\n",
       "      <td>6.054536</td>\n",
       "      <td>99.500682</td>\n",
       "      <td>479.722174</td>\n",
       "      <td>281.673389</td>\n",
       "      <td>23.241791</td>\n",
       "      <td>115.876574</td>\n",
       "      <td>88.054318</td>\n",
       "      <td>624.000000</td>\n",
       "    </tr>\n",
       "  </tbody>\n",
       "</table>\n",
       "</div>"
      ],
      "text/plain": [
       "               day        month    year          t2m          u10  \\\n",
       "count  2556.000000  2556.000000  2556.0  2556.000000  2556.000000   \n",
       "mean     15.725743     6.524257  2016.0   -10.190040     0.139648   \n",
       "std       8.800168     3.449013     2.0    10.340583     5.013640   \n",
       "min       1.000000     1.000000  2013.0   -32.019122   -13.846656   \n",
       "25%       8.000000     4.000000  2014.0   -19.877500    -3.610168   \n",
       "50%      16.000000     7.000000  2016.0    -9.596479    -0.187084   \n",
       "75%      23.000000    10.000000  2018.0     0.167824     3.807440   \n",
       "max      31.000000    12.000000  2019.0     7.840619    14.640913   \n",
       "\n",
       "               v10          SST          SIC       r1_MAR       r2_MAR  \\\n",
       "count  2556.000000  2556.000000  2556.000000  2556.000000  2556.000000   \n",
       "mean      0.626351    -0.858922    73.267808    18.789275    11.522362   \n",
       "std       3.955417     1.446165    29.250724    47.703600    27.942124   \n",
       "min     -12.316128    -1.692462     0.000000     0.000000     0.000000   \n",
       "25%      -2.079422    -1.689860    70.000000     0.123798     0.121437   \n",
       "50%       0.912780    -1.689860    84.601769     0.481870     0.481870   \n",
       "75%       3.483397    -0.297573    90.362319     4.080174     3.961181   \n",
       "max      12.811255     6.054536    99.500682   479.722174   281.673389   \n",
       "\n",
       "            r3_MAR       r4_MAR       r5_MAR           Y4  \n",
       "count  2556.000000  2556.000000  2556.000000  2556.000000  \n",
       "mean      1.328740     4.382248     5.191286     3.955399  \n",
       "std       3.393452    12.971518    13.406972    25.622969  \n",
       "min       0.000000     0.000000     0.000000     0.000000  \n",
       "25%       0.000000     0.000000     0.000000     0.000000  \n",
       "50%       0.000000     0.000000     0.000000     0.000000  \n",
       "75%       0.004413     0.010148     0.000150     0.000000  \n",
       "max      23.241791   115.876574    88.054318   624.000000  "
      ]
     },
     "execution_count": 362,
     "metadata": {},
     "output_type": "execute_result"
    }
   ],
   "source": [
    "data.describe()\n",
    "#### chaque colone contient 2556 valeurs, pas de missing values"
   ]
  },
  {
   "cell_type": "code",
   "execution_count": 363,
   "id": "dd95b551",
   "metadata": {},
   "outputs": [
    {
     "name": "stdout",
     "output_type": "stream",
     "text": [
      "        day  month   year    t2m    u10    v10    SST    SIC  r1_MAR  r2_MAR  \\\n",
      "0     False  False  False  False  False  False  False  False   False   False   \n",
      "1     False  False  False  False  False  False  False  False   False   False   \n",
      "2     False  False  False  False  False  False  False  False   False   False   \n",
      "3     False  False  False  False  False  False  False  False   False   False   \n",
      "4     False  False  False  False  False  False  False  False   False   False   \n",
      "...     ...    ...    ...    ...    ...    ...    ...    ...     ...     ...   \n",
      "2551  False  False  False  False  False  False  False  False   False   False   \n",
      "2552  False  False  False  False  False  False  False  False   False   False   \n",
      "2553  False  False  False  False  False  False  False  False   False   False   \n",
      "2554  False  False  False  False  False  False  False  False   False   False   \n",
      "2555  False  False  False  False  False  False  False  False   False   False   \n",
      "\n",
      "      r3_MAR  r4_MAR  r5_MAR     Y4  \n",
      "0      False   False   False  False  \n",
      "1      False   False   False  False  \n",
      "2      False   False   False  False  \n",
      "3      False   False   False  False  \n",
      "4      False   False   False  False  \n",
      "...      ...     ...     ...    ...  \n",
      "2551   False   False   False  False  \n",
      "2552   False   False   False  False  \n",
      "2553   False   False   False  False  \n",
      "2554   False   False   False  False  \n",
      "2555   False   False   False  False  \n",
      "\n",
      "[2556 rows x 14 columns]\n"
     ]
    }
   ],
   "source": [
    "print(data.isna())\n",
    "##### pas de données manquantes"
   ]
  },
  {
   "cell_type": "code",
   "execution_count": 364,
   "id": "3c6c0bca",
   "metadata": {},
   "outputs": [
    {
     "data": {
      "image/png": "[encoded data removed]",
      "text/plain": [
       "<Figure size 432x288 with 16 Axes>"
      ]
     },
     "metadata": {
      "needs_background": "light"
     },
     "output_type": "display_data"
    }
   ],
   "source": [
    "data.hist()\n",
    "plt.show()"
   ]
  },
  {
   "cell_type": "code",
   "execution_count": 366,
   "id": "879294e7",
   "metadata": {},
   "outputs": [
    {
     "data": {
      "text/plain": [
       "<seaborn.axisgrid.FacetGrid at 0x19ed3b21100>"
      ]
     },
     "execution_count": 366,
     "metadata": {},
     "output_type": "execute_result"
    },
    {
     "data": {
      "image/png": "[encoded data removed]",
      "text/plain": [
       "<Figure size 433.875x360 with 1 Axes>"
      ]
     },
     "metadata": {
      "needs_background": "light"
     },
     "output_type": "display_data"
    }
   ],
   "source": [
    "import seaborn\n",
    "seaborn.displot(data, bins=10)\n",
    "\n",
    "##### la majorité des valeurs sont proches de 0 \n",
    "### on peut remarquer aussi à quelle variable ces valeurs correspondent"
   ]
  },
  {
   "cell_type": "code",
   "execution_count": 367,
   "id": "550d0a8f",
   "metadata": {},
   "outputs": [
    {
     "data": {
      "text/plain": [
       "(2556, 14)"
      ]
     },
     "execution_count": 367,
     "metadata": {},
     "output_type": "execute_result"
    }
   ],
   "source": [
    "data.shape"
   ]
  },
  {
   "cell_type": "code",
   "execution_count": 368,
   "id": "a8265a2d",
   "metadata": {},
   "outputs": [
    {
     "data": {
      "text/html": [
       "<div>\n",
       "<style scoped>\n",
       "    .dataframe tbody tr th:only-of-type {\n",
       "        vertical-align: middle;\n",
       "    }\n",
       "\n",
       "    .dataframe tbody tr th {\n",
       "        vertical-align: top;\n",
       "    }\n",
       "\n",
       "    .dataframe thead th {\n",
       "        text-align: right;\n",
       "    }\n",
       "</style>\n",
       "<table border=\"1\" class=\"dataframe\">\n",
       "  <thead>\n",
       "    <tr style=\"text-align: right;\">\n",
       "      <th></th>\n",
       "      <th>day</th>\n",
       "      <th>month</th>\n",
       "      <th>year</th>\n",
       "      <th>t2m</th>\n",
       "      <th>u10</th>\n",
       "      <th>v10</th>\n",
       "      <th>SST</th>\n",
       "      <th>SIC</th>\n",
       "      <th>r1_MAR</th>\n",
       "      <th>r2_MAR</th>\n",
       "      <th>r3_MAR</th>\n",
       "      <th>r4_MAR</th>\n",
       "      <th>r5_MAR</th>\n",
       "      <th>Y4</th>\n",
       "    </tr>\n",
       "  </thead>\n",
       "  <tbody>\n",
       "    <tr>\n",
       "      <th>day</th>\n",
       "      <td>1.000000e+00</td>\n",
       "      <td>1.110914e-02</td>\n",
       "      <td>6.991684e-15</td>\n",
       "      <td>0.026046</td>\n",
       "      <td>-0.029511</td>\n",
       "      <td>0.018818</td>\n",
       "      <td>0.011854</td>\n",
       "      <td>-0.013149</td>\n",
       "      <td>-0.022391</td>\n",
       "      <td>-0.016970</td>\n",
       "      <td>-0.013002</td>\n",
       "      <td>-0.014051</td>\n",
       "      <td>-0.017219</td>\n",
       "      <td>-0.009170</td>\n",
       "    </tr>\n",
       "    <tr>\n",
       "      <th>month</th>\n",
       "      <td>1.110914e-02</td>\n",
       "      <td>1.000000e+00</td>\n",
       "      <td>5.938022e-14</td>\n",
       "      <td>0.284924</td>\n",
       "      <td>-0.005198</td>\n",
       "      <td>-0.005529</td>\n",
       "      <td>0.233726</td>\n",
       "      <td>-0.387799</td>\n",
       "      <td>0.077423</td>\n",
       "      <td>0.078995</td>\n",
       "      <td>0.078838</td>\n",
       "      <td>0.070267</td>\n",
       "      <td>0.066905</td>\n",
       "      <td>-0.056774</td>\n",
       "    </tr>\n",
       "    <tr>\n",
       "      <th>year</th>\n",
       "      <td>6.991684e-15</td>\n",
       "      <td>5.938022e-14</td>\n",
       "      <td>1.000000e+00</td>\n",
       "      <td>0.028625</td>\n",
       "      <td>0.010377</td>\n",
       "      <td>-0.028601</td>\n",
       "      <td>0.073869</td>\n",
       "      <td>0.100083</td>\n",
       "      <td>0.045742</td>\n",
       "      <td>0.041591</td>\n",
       "      <td>0.028484</td>\n",
       "      <td>0.044822</td>\n",
       "      <td>0.017101</td>\n",
       "      <td>0.043274</td>\n",
       "    </tr>\n",
       "    <tr>\n",
       "      <th>t2m</th>\n",
       "      <td>2.604620e-02</td>\n",
       "      <td>2.849244e-01</td>\n",
       "      <td>2.862524e-02</td>\n",
       "      <td>1.000000</td>\n",
       "      <td>0.075862</td>\n",
       "      <td>-0.131807</td>\n",
       "      <td>0.657489</td>\n",
       "      <td>-0.454902</td>\n",
       "      <td>0.437481</td>\n",
       "      <td>0.451639</td>\n",
       "      <td>0.444990</td>\n",
       "      <td>0.381854</td>\n",
       "      <td>0.436673</td>\n",
       "      <td>-0.057888</td>\n",
       "    </tr>\n",
       "    <tr>\n",
       "      <th>u10</th>\n",
       "      <td>-2.951115e-02</td>\n",
       "      <td>-5.197889e-03</td>\n",
       "      <td>1.037743e-02</td>\n",
       "      <td>0.075862</td>\n",
       "      <td>1.000000</td>\n",
       "      <td>-0.075057</td>\n",
       "      <td>-0.017954</td>\n",
       "      <td>-0.006444</td>\n",
       "      <td>0.003411</td>\n",
       "      <td>0.003858</td>\n",
       "      <td>0.007325</td>\n",
       "      <td>0.011761</td>\n",
       "      <td>0.002170</td>\n",
       "      <td>-0.058289</td>\n",
       "    </tr>\n",
       "    <tr>\n",
       "      <th>v10</th>\n",
       "      <td>1.881802e-02</td>\n",
       "      <td>-5.529004e-03</td>\n",
       "      <td>-2.860136e-02</td>\n",
       "      <td>-0.131807</td>\n",
       "      <td>-0.075057</td>\n",
       "      <td>1.000000</td>\n",
       "      <td>-0.057318</td>\n",
       "      <td>0.059363</td>\n",
       "      <td>-0.101444</td>\n",
       "      <td>-0.102442</td>\n",
       "      <td>-0.099704</td>\n",
       "      <td>-0.085138</td>\n",
       "      <td>-0.108167</td>\n",
       "      <td>-0.036743</td>\n",
       "    </tr>\n",
       "    <tr>\n",
       "      <th>SST</th>\n",
       "      <td>1.185431e-02</td>\n",
       "      <td>2.337258e-01</td>\n",
       "      <td>7.386854e-02</td>\n",
       "      <td>0.657489</td>\n",
       "      <td>-0.017954</td>\n",
       "      <td>-0.057318</td>\n",
       "      <td>1.000000</td>\n",
       "      <td>-0.406368</td>\n",
       "      <td>0.426257</td>\n",
       "      <td>0.435023</td>\n",
       "      <td>0.444378</td>\n",
       "      <td>0.367575</td>\n",
       "      <td>0.411861</td>\n",
       "      <td>-0.038005</td>\n",
       "    </tr>\n",
       "    <tr>\n",
       "      <th>SIC</th>\n",
       "      <td>-1.314888e-02</td>\n",
       "      <td>-3.877994e-01</td>\n",
       "      <td>1.000825e-01</td>\n",
       "      <td>-0.454902</td>\n",
       "      <td>-0.006444</td>\n",
       "      <td>0.059363</td>\n",
       "      <td>-0.406368</td>\n",
       "      <td>1.000000</td>\n",
       "      <td>-0.158131</td>\n",
       "      <td>-0.167804</td>\n",
       "      <td>-0.141125</td>\n",
       "      <td>-0.133041</td>\n",
       "      <td>-0.121010</td>\n",
       "      <td>0.012636</td>\n",
       "    </tr>\n",
       "    <tr>\n",
       "      <th>r1_MAR</th>\n",
       "      <td>-2.239054e-02</td>\n",
       "      <td>7.742278e-02</td>\n",
       "      <td>4.574231e-02</td>\n",
       "      <td>0.437481</td>\n",
       "      <td>0.003411</td>\n",
       "      <td>-0.101444</td>\n",
       "      <td>0.426257</td>\n",
       "      <td>-0.158131</td>\n",
       "      <td>1.000000</td>\n",
       "      <td>0.994459</td>\n",
       "      <td>0.935806</td>\n",
       "      <td>0.945813</td>\n",
       "      <td>0.935761</td>\n",
       "      <td>-0.046985</td>\n",
       "    </tr>\n",
       "    <tr>\n",
       "      <th>r2_MAR</th>\n",
       "      <td>-1.697018e-02</td>\n",
       "      <td>7.899473e-02</td>\n",
       "      <td>4.159099e-02</td>\n",
       "      <td>0.451639</td>\n",
       "      <td>0.003858</td>\n",
       "      <td>-0.102442</td>\n",
       "      <td>0.435023</td>\n",
       "      <td>-0.167804</td>\n",
       "      <td>0.994459</td>\n",
       "      <td>1.000000</td>\n",
       "      <td>0.929419</td>\n",
       "      <td>0.928130</td>\n",
       "      <td>0.926574</td>\n",
       "      <td>-0.046014</td>\n",
       "    </tr>\n",
       "    <tr>\n",
       "      <th>r3_MAR</th>\n",
       "      <td>-1.300163e-02</td>\n",
       "      <td>7.883782e-02</td>\n",
       "      <td>2.848405e-02</td>\n",
       "      <td>0.444990</td>\n",
       "      <td>0.007325</td>\n",
       "      <td>-0.099704</td>\n",
       "      <td>0.444378</td>\n",
       "      <td>-0.141125</td>\n",
       "      <td>0.935806</td>\n",
       "      <td>0.929419</td>\n",
       "      <td>1.000000</td>\n",
       "      <td>0.882928</td>\n",
       "      <td>0.948131</td>\n",
       "      <td>-0.049784</td>\n",
       "    </tr>\n",
       "    <tr>\n",
       "      <th>r4_MAR</th>\n",
       "      <td>-1.405081e-02</td>\n",
       "      <td>7.026693e-02</td>\n",
       "      <td>4.482200e-02</td>\n",
       "      <td>0.381854</td>\n",
       "      <td>0.011761</td>\n",
       "      <td>-0.085138</td>\n",
       "      <td>0.367575</td>\n",
       "      <td>-0.133041</td>\n",
       "      <td>0.945813</td>\n",
       "      <td>0.928130</td>\n",
       "      <td>0.882928</td>\n",
       "      <td>1.000000</td>\n",
       "      <td>0.892465</td>\n",
       "      <td>-0.047327</td>\n",
       "    </tr>\n",
       "    <tr>\n",
       "      <th>r5_MAR</th>\n",
       "      <td>-1.721861e-02</td>\n",
       "      <td>6.690530e-02</td>\n",
       "      <td>1.710104e-02</td>\n",
       "      <td>0.436673</td>\n",
       "      <td>0.002170</td>\n",
       "      <td>-0.108167</td>\n",
       "      <td>0.411861</td>\n",
       "      <td>-0.121010</td>\n",
       "      <td>0.935761</td>\n",
       "      <td>0.926574</td>\n",
       "      <td>0.948131</td>\n",
       "      <td>0.892465</td>\n",
       "      <td>1.000000</td>\n",
       "      <td>-0.048999</td>\n",
       "    </tr>\n",
       "    <tr>\n",
       "      <th>Y4</th>\n",
       "      <td>-9.170460e-03</td>\n",
       "      <td>-5.677366e-02</td>\n",
       "      <td>4.327392e-02</td>\n",
       "      <td>-0.057888</td>\n",
       "      <td>-0.058289</td>\n",
       "      <td>-0.036743</td>\n",
       "      <td>-0.038005</td>\n",
       "      <td>0.012636</td>\n",
       "      <td>-0.046985</td>\n",
       "      <td>-0.046014</td>\n",
       "      <td>-0.049784</td>\n",
       "      <td>-0.047327</td>\n",
       "      <td>-0.048999</td>\n",
       "      <td>1.000000</td>\n",
       "    </tr>\n",
       "  </tbody>\n",
       "</table>\n",
       "</div>"
      ],
      "text/plain": [
       "                 day         month          year       t2m       u10  \\\n",
       "day     1.000000e+00  1.110914e-02  6.991684e-15  0.026046 -0.029511   \n",
       "month   1.110914e-02  1.000000e+00  5.938022e-14  0.284924 -0.005198   \n",
       "year    6.991684e-15  5.938022e-14  1.000000e+00  0.028625  0.010377   \n",
       "t2m     2.604620e-02  2.849244e-01  2.862524e-02  1.000000  0.075862   \n",
       "u10    -2.951115e-02 -5.197889e-03  1.037743e-02  0.075862  1.000000   \n",
       "v10     1.881802e-02 -5.529004e-03 -2.860136e-02 -0.131807 -0.075057   \n",
       "SST     1.185431e-02  2.337258e-01  7.386854e-02  0.657489 -0.017954   \n",
       "SIC    -1.314888e-02 -3.877994e-01  1.000825e-01 -0.454902 -0.006444   \n",
       "r1_MAR -2.239054e-02  7.742278e-02  4.574231e-02  0.437481  0.003411   \n",
       "r2_MAR -1.697018e-02  7.899473e-02  4.159099e-02  0.451639  0.003858   \n",
       "r3_MAR -1.300163e-02  7.883782e-02  2.848405e-02  0.444990  0.007325   \n",
       "r4_MAR -1.405081e-02  7.026693e-02  4.482200e-02  0.381854  0.011761   \n",
       "r5_MAR -1.721861e-02  6.690530e-02  1.710104e-02  0.436673  0.002170   \n",
       "Y4     -9.170460e-03 -5.677366e-02  4.327392e-02 -0.057888 -0.058289   \n",
       "\n",
       "             v10       SST       SIC    r1_MAR    r2_MAR    r3_MAR    r4_MAR  \\\n",
       "day     0.018818  0.011854 -0.013149 -0.022391 -0.016970 -0.013002 -0.014051   \n",
       "month  -0.005529  0.233726 -0.387799  0.077423  0.078995  0.078838  0.070267   \n",
       "year   -0.028601  0.073869  0.100083  0.045742  0.041591  0.028484  0.044822   \n",
       "t2m    -0.131807  0.657489 -0.454902  0.437481  0.451639  0.444990  0.381854   \n",
       "u10    -0.075057 -0.017954 -0.006444  0.003411  0.003858  0.007325  0.011761   \n",
       "v10     1.000000 -0.057318  0.059363 -0.101444 -0.102442 -0.099704 -0.085138   \n",
       "SST    -0.057318  1.000000 -0.406368  0.426257  0.435023  0.444378  0.367575   \n",
       "SIC     0.059363 -0.406368  1.000000 -0.158131 -0.167804 -0.141125 -0.133041   \n",
       "r1_MAR -0.101444  0.426257 -0.158131  1.000000  0.994459  0.935806  0.945813   \n",
       "r2_MAR -0.102442  0.435023 -0.167804  0.994459  1.000000  0.929419  0.928130   \n",
       "r3_MAR -0.099704  0.444378 -0.141125  0.935806  0.929419  1.000000  0.882928   \n",
       "r4_MAR -0.085138  0.367575 -0.133041  0.945813  0.928130  0.882928  1.000000   \n",
       "r5_MAR -0.108167  0.411861 -0.121010  0.935761  0.926574  0.948131  0.892465   \n",
       "Y4     -0.036743 -0.038005  0.012636 -0.046985 -0.046014 -0.049784 -0.047327   \n",
       "\n",
       "          r5_MAR        Y4  \n",
       "day    -0.017219 -0.009170  \n",
       "month   0.066905 -0.056774  \n",
       "year    0.017101  0.043274  \n",
       "t2m     0.436673 -0.057888  \n",
       "u10     0.002170 -0.058289  \n",
       "v10    -0.108167 -0.036743  \n",
       "SST     0.411861 -0.038005  \n",
       "SIC    -0.121010  0.012636  \n",
       "r1_MAR  0.935761 -0.046985  \n",
       "r2_MAR  0.926574 -0.046014  \n",
       "r3_MAR  0.948131 -0.049784  \n",
       "r4_MAR  0.892465 -0.047327  \n",
       "r5_MAR  1.000000 -0.048999  \n",
       "Y4     -0.048999  1.000000  "
      ]
     },
     "execution_count": 368,
     "metadata": {},
     "output_type": "execute_result"
    }
   ],
   "source": [
    "data.corr(method='pearson') # Corrélation entre les variables"
   ]
  },
  {
   "cell_type": "code",
   "execution_count": 369,
   "id": "ade2fee3",
   "metadata": {},
   "outputs": [
    {
     "data": {
      "text/plain": [
       "<AxesSubplot:title={'center':'Pearson Correlation of Features'}>"
      ]
     },
     "execution_count": 369,
     "metadata": {},
     "output_type": "execute_result"
    },
    {
     "data": {
      "image/png": "[encoded data removed]",
      "text/plain": [
       "<Figure size 720x720 with 2 Axes>"
      ]
     },
     "metadata": {
      "needs_background": "light"
     },
     "output_type": "display_data"
    }
   ],
   "source": [
    "import seaborn as sns\n",
    "\n",
    "colormap = plt.cm.RdBu\n",
    "plt.figure(figsize=(10,10))\n",
    "plt.title('Pearson Correlation of Features', y=1.05, size=15)\n",
    "sns.heatmap(data.iloc[:,:13].astype(float).corr(),linewidths=0.1,vmax=1.0, \n",
    "            square=True, cmap=colormap, linecolor='white', annot=True)\n",
    "\n",
    "##### on remarque qu'il y a une forte corrélation entre les variables r1_MAR, r2_MAR, r3_MAR. r4_MAR et r5_MAR"
   ]
  },
  {
   "cell_type": "code",
   "execution_count": 370,
   "id": "dc8cd741",
   "metadata": {},
   "outputs": [
    {
     "data": {
      "text/plain": [
       "0      2054\n",
       "1       192\n",
       "2        58\n",
       "3        33\n",
       "4        27\n",
       "       ... \n",
       "50        1\n",
       "38        1\n",
       "36        1\n",
       "34        1\n",
       "329       1\n",
       "Name: Y4, Length: 78, dtype: int64"
      ]
     },
     "execution_count": 370,
     "metadata": {},
     "output_type": "execute_result"
    }
   ],
   "source": [
    "######################     CONVERTIR TARGET VARIABLE EN VARIABLE BINAIRE       ######################3\n",
    "\n",
    "data[\"Y4\"].value_counts()\n",
    "\n",
    "##### we have 329 different values in our target variable, we have to transform it into a binary variable\n",
    "\n",
    "##### on remarque que la majorité sont des valeurs nulles ,on doit choisir un seuil qui maximise la classe 1 pour réduire le déséquilibre"
   ]
  },
  {
   "cell_type": "code",
   "execution_count": 371,
   "id": "11b69cf8",
   "metadata": {},
   "outputs": [
    {
     "data": {
      "text/plain": [
       "3.955399061032864"
      ]
     },
     "execution_count": 371,
     "metadata": {},
     "output_type": "execute_result"
    }
   ],
   "source": [
    "data[\"Y4\"].mean()"
   ]
  },
  {
   "cell_type": "code",
   "execution_count": 372,
   "id": "c1d1ab14",
   "metadata": {},
   "outputs": [
    {
     "data": {
      "text/plain": [
       "0    2054\n",
       "1     502\n",
       "Name: Y4, dtype: int64"
      ]
     },
     "execution_count": 372,
     "metadata": {},
     "output_type": "execute_result"
    }
   ],
   "source": [
    "\n",
    "a = np.where(data[\"Y4\"]> 0.000001, 1 , 0)\n",
    "a= pd.DataFrame(a)\n",
    "data[\"Y4\"]=a\n",
    "data[\"Y4\"].value_counts()"
   ]
  },
  {
   "cell_type": "code",
   "execution_count": 373,
   "id": "3f43fcf9",
   "metadata": {},
   "outputs": [
    {
     "data": {
      "text/plain": [
       "0       0\n",
       "1       0\n",
       "2       0\n",
       "3       0\n",
       "4       0\n",
       "       ..\n",
       "2551    1\n",
       "2552    0\n",
       "2553    0\n",
       "2554    1\n",
       "2555    0\n",
       "Name: Y4, Length: 2556, dtype: int32"
      ]
     },
     "execution_count": 373,
     "metadata": {},
     "output_type": "execute_result"
    }
   ],
   "source": [
    " data.iloc[:,13]"
   ]
  },
  {
   "cell_type": "code",
   "execution_count": 374,
   "id": "0637c7d0",
   "metadata": {},
   "outputs": [
    {
     "data": {
      "image/png": "[encoded data removed]",
      "text/plain": [
       "<Figure size 432x288 with 1 Axes>"
      ]
     },
     "metadata": {
      "needs_background": "light"
     },
     "output_type": "display_data"
    }
   ],
   "source": [
    "value = data.iloc[:,13].value_counts().plot(kind='bar')\n"
   ]
  },
  {
   "cell_type": "code",
   "execution_count": 375,
   "id": "21413d33",
   "metadata": {},
   "outputs": [
    {
     "data": {
      "text/html": [
       "<div>\n",
       "<style scoped>\n",
       "    .dataframe tbody tr th:only-of-type {\n",
       "        vertical-align: middle;\n",
       "    }\n",
       "\n",
       "    .dataframe tbody tr th {\n",
       "        vertical-align: top;\n",
       "    }\n",
       "\n",
       "    .dataframe thead th {\n",
       "        text-align: right;\n",
       "    }\n",
       "</style>\n",
       "<table border=\"1\" class=\"dataframe\">\n",
       "  <thead>\n",
       "    <tr style=\"text-align: right;\">\n",
       "      <th></th>\n",
       "      <th>day</th>\n",
       "      <th>month</th>\n",
       "      <th>year</th>\n",
       "      <th>t2m</th>\n",
       "      <th>u10</th>\n",
       "      <th>v10</th>\n",
       "      <th>SST</th>\n",
       "      <th>SIC</th>\n",
       "      <th>r1_MAR</th>\n",
       "      <th>r2_MAR</th>\n",
       "      <th>r3_MAR</th>\n",
       "      <th>r4_MAR</th>\n",
       "      <th>r5_MAR</th>\n",
       "      <th>Y4</th>\n",
       "    </tr>\n",
       "  </thead>\n",
       "  <tbody>\n",
       "    <tr>\n",
       "      <th>count</th>\n",
       "      <td>2556.000000</td>\n",
       "      <td>2556.000000</td>\n",
       "      <td>2556.0</td>\n",
       "      <td>2556.000000</td>\n",
       "      <td>2556.000000</td>\n",
       "      <td>2556.000000</td>\n",
       "      <td>2556.000000</td>\n",
       "      <td>2556.000000</td>\n",
       "      <td>2556.000000</td>\n",
       "      <td>2556.000000</td>\n",
       "      <td>2556.000000</td>\n",
       "      <td>2556.000000</td>\n",
       "      <td>2556.000000</td>\n",
       "      <td>2556.000000</td>\n",
       "    </tr>\n",
       "    <tr>\n",
       "      <th>mean</th>\n",
       "      <td>1.786982</td>\n",
       "      <td>1.891630</td>\n",
       "      <td>1008.0</td>\n",
       "      <td>-0.985442</td>\n",
       "      <td>0.027854</td>\n",
       "      <td>0.158353</td>\n",
       "      <td>-0.593931</td>\n",
       "      <td>2.504820</td>\n",
       "      <td>0.393875</td>\n",
       "      <td>0.412365</td>\n",
       "      <td>0.391560</td>\n",
       "      <td>0.337836</td>\n",
       "      <td>0.387208</td>\n",
       "      <td>0.196401</td>\n",
       "    </tr>\n",
       "    <tr>\n",
       "      <th>std</th>\n",
       "      <td>1.000000</td>\n",
       "      <td>1.000000</td>\n",
       "      <td>1.0</td>\n",
       "      <td>1.000000</td>\n",
       "      <td>1.000000</td>\n",
       "      <td>1.000000</td>\n",
       "      <td>1.000000</td>\n",
       "      <td>1.000000</td>\n",
       "      <td>1.000000</td>\n",
       "      <td>1.000000</td>\n",
       "      <td>1.000000</td>\n",
       "      <td>1.000000</td>\n",
       "      <td>1.000000</td>\n",
       "      <td>0.397353</td>\n",
       "    </tr>\n",
       "    <tr>\n",
       "      <th>min</th>\n",
       "      <td>0.113634</td>\n",
       "      <td>0.289938</td>\n",
       "      <td>1006.5</td>\n",
       "      <td>-3.096452</td>\n",
       "      <td>-2.761797</td>\n",
       "      <td>-3.113736</td>\n",
       "      <td>-1.170310</td>\n",
       "      <td>0.000000</td>\n",
       "      <td>0.000000</td>\n",
       "      <td>0.000000</td>\n",
       "      <td>0.000000</td>\n",
       "      <td>0.000000</td>\n",
       "      <td>0.000000</td>\n",
       "      <td>0.000000</td>\n",
       "    </tr>\n",
       "    <tr>\n",
       "      <th>25%</th>\n",
       "      <td>0.909074</td>\n",
       "      <td>1.159752</td>\n",
       "      <td>1007.0</td>\n",
       "      <td>-1.922280</td>\n",
       "      <td>-0.720069</td>\n",
       "      <td>-0.525715</td>\n",
       "      <td>-1.168511</td>\n",
       "      <td>2.393103</td>\n",
       "      <td>0.002595</td>\n",
       "      <td>0.004346</td>\n",
       "      <td>0.000000</td>\n",
       "      <td>0.000000</td>\n",
       "      <td>0.000000</td>\n",
       "      <td>0.000000</td>\n",
       "    </tr>\n",
       "    <tr>\n",
       "      <th>50%</th>\n",
       "      <td>1.818147</td>\n",
       "      <td>2.029566</td>\n",
       "      <td>1008.0</td>\n",
       "      <td>-0.928040</td>\n",
       "      <td>-0.037315</td>\n",
       "      <td>0.230767</td>\n",
       "      <td>-1.168511</td>\n",
       "      <td>2.892297</td>\n",
       "      <td>0.010101</td>\n",
       "      <td>0.017245</td>\n",
       "      <td>0.000000</td>\n",
       "      <td>0.000000</td>\n",
       "      <td>0.000000</td>\n",
       "      <td>0.000000</td>\n",
       "    </tr>\n",
       "    <tr>\n",
       "      <th>75%</th>\n",
       "      <td>2.613587</td>\n",
       "      <td>2.899380</td>\n",
       "      <td>1009.0</td>\n",
       "      <td>0.016230</td>\n",
       "      <td>0.759416</td>\n",
       "      <td>0.880665</td>\n",
       "      <td>-0.205767</td>\n",
       "      <td>3.089234</td>\n",
       "      <td>0.085532</td>\n",
       "      <td>0.141764</td>\n",
       "      <td>0.001300</td>\n",
       "      <td>0.000782</td>\n",
       "      <td>0.000011</td>\n",
       "      <td>0.000000</td>\n",
       "    </tr>\n",
       "    <tr>\n",
       "      <th>max</th>\n",
       "      <td>3.522660</td>\n",
       "      <td>3.479256</td>\n",
       "      <td>1009.5</td>\n",
       "      <td>0.758238</td>\n",
       "      <td>2.920216</td>\n",
       "      <td>3.238914</td>\n",
       "      <td>4.186615</td>\n",
       "      <td>3.401649</td>\n",
       "      <td>10.056310</td>\n",
       "      <td>10.080600</td>\n",
       "      <td>6.849011</td>\n",
       "      <td>8.933154</td>\n",
       "      <td>6.567801</td>\n",
       "      <td>1.000000</td>\n",
       "    </tr>\n",
       "  </tbody>\n",
       "</table>\n",
       "</div>"
      ],
      "text/plain": [
       "               day        month    year          t2m          u10  \\\n",
       "count  2556.000000  2556.000000  2556.0  2556.000000  2556.000000   \n",
       "mean      1.786982     1.891630  1008.0    -0.985442     0.027854   \n",
       "std       1.000000     1.000000     1.0     1.000000     1.000000   \n",
       "min       0.113634     0.289938  1006.5    -3.096452    -2.761797   \n",
       "25%       0.909074     1.159752  1007.0    -1.922280    -0.720069   \n",
       "50%       1.818147     2.029566  1008.0    -0.928040    -0.037315   \n",
       "75%       2.613587     2.899380  1009.0     0.016230     0.759416   \n",
       "max       3.522660     3.479256  1009.5     0.758238     2.920216   \n",
       "\n",
       "               v10          SST          SIC       r1_MAR       r2_MAR  \\\n",
       "count  2556.000000  2556.000000  2556.000000  2556.000000  2556.000000   \n",
       "mean      0.158353    -0.593931     2.504820     0.393875     0.412365   \n",
       "std       1.000000     1.000000     1.000000     1.000000     1.000000   \n",
       "min      -3.113736    -1.170310     0.000000     0.000000     0.000000   \n",
       "25%      -0.525715    -1.168511     2.393103     0.002595     0.004346   \n",
       "50%       0.230767    -1.168511     2.892297     0.010101     0.017245   \n",
       "75%       0.880665    -0.205767     3.089234     0.085532     0.141764   \n",
       "max       3.238914     4.186615     3.401649    10.056310    10.080600   \n",
       "\n",
       "            r3_MAR       r4_MAR       r5_MAR           Y4  \n",
       "count  2556.000000  2556.000000  2556.000000  2556.000000  \n",
       "mean      0.391560     0.337836     0.387208     0.196401  \n",
       "std       1.000000     1.000000     1.000000     0.397353  \n",
       "min       0.000000     0.000000     0.000000     0.000000  \n",
       "25%       0.000000     0.000000     0.000000     0.000000  \n",
       "50%       0.000000     0.000000     0.000000     0.000000  \n",
       "75%       0.001300     0.000782     0.000011     0.000000  \n",
       "max       6.849011     8.933154     6.567801     1.000000  "
      ]
     },
     "execution_count": 375,
     "metadata": {},
     "output_type": "execute_result"
    }
   ],
   "source": [
    "######################## On centralise et on réduit les données \n",
    "temp = data.iloc[:,:13].sub(data.iloc[:,:13].mean())\n",
    "data.iloc[:,:13] = data.iloc[:,:13].div(temp.std())\n",
    "data.describe()\n",
    "\n",
    "##### la moyenne des variables est presque nulle et la variance est 1"
   ]
  },
  {
   "cell_type": "code",
   "execution_count": 376,
   "id": "f5d4c388",
   "metadata": {},
   "outputs": [
    {
     "data": {
      "text/plain": [
       "Index(['day', 'month', 'year', 't2m', 'u10', 'v10', 'SST', 'SIC', 'r1_MAR',\n",
       "       'r2_MAR', 'r3_MAR', 'r4_MAR', 'r5_MAR', 'Y4'],\n",
       "      dtype='object')"
      ]
     },
     "execution_count": 376,
     "metadata": {},
     "output_type": "execute_result"
    }
   ],
   "source": [
    "####### On commence par les algorithmes\n",
    " \n",
    "    \n",
    "     ###########            NAIVE BAYES          ##############\n",
    "        \n",
    "###### on a remarqué que les variables ne sont pas tous independantes,or Naive Bayes exige l'independance et la normalité des variables        \n",
    "\n",
    "data.columns\n",
    " ## Pour cela, je veux prendre seulement les variables independantes pour trainer l'algo de Bayes"
   ]
  },
  {
   "cell_type": "code",
   "execution_count": 377,
   "id": "4230788e",
   "metadata": {},
   "outputs": [
    {
     "name": "stdout",
     "output_type": "stream",
     "text": [
      "           day     month    year       t2m       u10       v10       SST  \\\n",
      "0     0.113634  0.289938  1006.5 -2.120473 -0.194269  0.796147 -1.168961   \n",
      "1     0.227268  0.289938  1006.5 -2.291572 -1.297043  0.630754 -1.168961   \n",
      "2     0.340903  0.289938  1006.5 -2.479940 -0.709547  0.259261 -1.168511   \n",
      "3     0.454537  0.289938  1006.5 -2.279068 -0.376588 -0.881354 -1.168961   \n",
      "4     0.568171  0.289938  1006.5 -2.214360 -0.548273 -0.882639 -1.168511   \n",
      "...        ...       ...     ...       ...       ...       ...       ...   \n",
      "2551  3.068123  3.479256  1009.5 -2.641710  0.318572 -0.023108 -1.168511   \n",
      "2552  3.181758  3.479256  1009.5 -2.707609  0.781348  0.126004 -1.168961   \n",
      "2553  3.295392  3.479256  1009.5 -2.252271  0.930437  0.589619 -1.168511   \n",
      "2554  3.409026  3.479256  1009.5 -2.482918  0.012418  0.950828 -1.168511   \n",
      "2555  3.522660  3.479256  1009.5 -2.438853 -0.593022  1.412730 -1.168511   \n",
      "\n",
      "           SIC    r1_MAR  \n",
      "0     3.102341  0.000724  \n",
      "1     3.025668  0.000724  \n",
      "2     3.033569  0.000724  \n",
      "3     3.047773  0.000723  \n",
      "4     3.132024  0.000723  \n",
      "...        ...       ...  \n",
      "2551  3.251297  0.009787  \n",
      "2552  3.211861  0.009786  \n",
      "2553  3.213222  0.008751  \n",
      "2554  3.243535  0.006419  \n",
      "2555  3.308886  0.006422  \n",
      "\n",
      "[2556 rows x 9 columns]\n",
      "0       0\n",
      "1       0\n",
      "2       0\n",
      "3       0\n",
      "4       0\n",
      "       ..\n",
      "2551    1\n",
      "2552    0\n",
      "2553    0\n",
      "2554    1\n",
      "2555    0\n",
      "Name: Y4, Length: 2556, dtype: int32\n"
     ]
    }
   ],
   "source": [
    "X_bayes = data[['day', 'month', 'year', 't2m', 'u10', 'v10', 'SST', 'SIC', 'r1_MAR']]\n",
    "Y_bayes = data.iloc[:, 13]\n",
    "\n",
    "print(X_bayes)\n",
    "print(Y_bayes)"
   ]
  },
  {
   "cell_type": "code",
   "execution_count": 378,
   "id": "5f537598",
   "metadata": {},
   "outputs": [
    {
     "data": {
      "text/plain": [
       "0    2054\n",
       "1     502\n",
       "Name: Y4, dtype: int64"
      ]
     },
     "execution_count": 378,
     "metadata": {},
     "output_type": "execute_result"
    }
   ],
   "source": [
    "Y_bayes.value_counts()"
   ]
  },
  {
   "cell_type": "code",
   "execution_count": 379,
   "id": "b0cb80ac",
   "metadata": {},
   "outputs": [],
   "source": [
    "# On utilise un échantillon de test représentant 30 % des données:\n",
    "from sklearn.model_selection import train_test_split\n",
    "X_bayes_train, X_bayes_test, Y_bayes_train, Y_bayes_test = train_test_split(X_bayes,Y_bayes\n",
    "                                                            ,test_size=0.2,random_state=115,shuffle=True,stratify=Y_bayes)  \n",
    "### 80% training data et 20% test data"
   ]
  },
  {
   "cell_type": "code",
   "execution_count": 380,
   "id": "394493e9",
   "metadata": {},
   "outputs": [
    {
     "data": {
      "text/plain": [
       "0    2054\n",
       "1     502\n",
       "Name: Y4, dtype: int64"
      ]
     },
     "execution_count": 380,
     "metadata": {},
     "output_type": "execute_result"
    }
   ],
   "source": [
    "Y_bayes.value_counts()"
   ]
  },
  {
   "cell_type": "code",
   "execution_count": 381,
   "id": "84cb2c79",
   "metadata": {},
   "outputs": [
    {
     "data": {
      "text/plain": [
       "(2044, 9)"
      ]
     },
     "execution_count": 381,
     "metadata": {},
     "output_type": "execute_result"
    }
   ],
   "source": [
    "X_bayes_train.shape"
   ]
  },
  {
   "cell_type": "code",
   "execution_count": 382,
   "id": "39503d5b",
   "metadata": {},
   "outputs": [
    {
     "data": {
      "text/plain": [
       "0    1643\n",
       "1     401\n",
       "Name: Y4, dtype: int64"
      ]
     },
     "execution_count": 382,
     "metadata": {},
     "output_type": "execute_result"
    }
   ],
   "source": [
    "Y_bayes_train.value_counts()\n",
    "\n",
    "##### la classe 0 est majoritaire"
   ]
  },
  {
   "cell_type": "code",
   "execution_count": 383,
   "id": "0717a9ec",
   "metadata": {},
   "outputs": [
    {
     "data": {
      "text/plain": [
       "(512, 9)"
      ]
     },
     "execution_count": 383,
     "metadata": {},
     "output_type": "execute_result"
    }
   ],
   "source": [
    "X_bayes_test.shape"
   ]
  },
  {
   "cell_type": "code",
   "execution_count": 384,
   "id": "08a95a46",
   "metadata": {},
   "outputs": [
    {
     "data": {
      "text/plain": [
       "0    411\n",
       "1    101\n",
       "Name: Y4, dtype: int64"
      ]
     },
     "execution_count": 384,
     "metadata": {},
     "output_type": "execute_result"
    }
   ],
   "source": [
    "Y_bayes_test.value_counts()"
   ]
  },
  {
   "cell_type": "code",
   "execution_count": 385,
   "id": "c573c0ca",
   "metadata": {},
   "outputs": [
    {
     "name": "stdout",
     "output_type": "stream",
     "text": [
      "Predicted value= [0 0 0 0 0 0 0 0 0 0 0 1 0 0 0 0 0 0 0 1 0 0 0 0 0 0 0 0 0 0 0 0 0 1 0 0 0\n",
      " 0 0 0 0 0 0 0 0 0 0 0 0 0 0 0 0 0 0 0 0 0 0 0 0 0 0 0 0 0 0 0 0 0 0 0 0 0\n",
      " 0 0 0 0 0 0 0 0 0 0 0 1 0 0 1 0 0 0 0 0 0 0 0 0 0 0 0 0 0 0 0 0 0 0 0 0 0\n",
      " 0 0 0 0 0 0 0 0 0 0 0 0 0 0 0 0 0 0 0 0 0 1 0 0 0 0 0 0 0 0 0 0 0 0 0 0 0\n",
      " 0 1 0 0 0 0 0 0 0 0 0 0 0 0 0 0 0 0 0 0 0 0 0 0 0 0 0 0 0 1 1 0 0 0 0 0 0\n",
      " 0 0 0 0 0 0 0 1 0 0 0 0 0 0 0 0 0 1 0 0 0 0 0 0 0 1 1 0 0 0 0 0 0 0 0 0 0\n",
      " 0 0 0 0 0 0 1 1 0 0 0 0 0 0 0 0 0 0 0 0 0 0 0 0 0 0 0 0 1 0 0 0 1 0 0 0 0\n",
      " 1 0 0 0 0 0 0 0 0 0 0 0 0 0 0 0 0 0 0 0 0 0 0 0 0 0 0 0 0 1 0 0 0 0 0 0 0\n",
      " 0 0 0 0 0 0 1 0 1 0 0 0 0 0 0 0 0 0 0 0 0 0 0 0 0 1 0 0 1 0 1 0 0 0 0 0 0\n",
      " 0 0 0 0 0 0 0 0 0 0 0 0 0 0 0 0 1 0 0 0 1 0 0 0 0 0 0 0 0 0 0 0 0 0 0 1 0\n",
      " 0 0 0 0 1 0 0 0 0 0 0 0 0 0 0 0 0 0 0 0 0 0 0 0 0 0 0 0 0 0 0 0 0 0 0 0 0\n",
      " 0 0 0 0 0 0 0 0 0 0 0 0 0 0 1 0 0 0 0 0 0 0 0 0 0 0 0 0 0 0 0 0 0 0 0 0 0\n",
      " 0 0 0 0 0 0 0 0 0 0 0 0 0 0 0 0 0 0 0 0 0 0 1 0 0 0 0 0 0 0 0 0 0 0 0 1 0\n",
      " 0 0 0 0 0 0 0 0 0 0 0 0 0 0 0 0 1 0 0 0 0 0 0 0 0 0 0 0 0 0 0]\n"
     ]
    }
   ],
   "source": [
    "########################################## NAIVE BAYES\n",
    "\n",
    "##### import Gaussian Naive Bayes model\n",
    "from sklearn.naive_bayes import GaussianNB\n",
    "#### Create a Gaussian Classifier\n",
    "model = GaussianNB()\n",
    "#### Train the model using the training sets\n",
    "model_fit = model.fit(X_bayes_train,Y_bayes_train)\n",
    "#### Prediction\n",
    "y_predict = model.predict(X_bayes_test)\n",
    "\n",
    "print(\"Predicted value=\", y_predict)"
   ]
  },
  {
   "cell_type": "code",
   "execution_count": 386,
   "id": "bca059c4",
   "metadata": {},
   "outputs": [
    {
     "name": "stdout",
     "output_type": "stream",
     "text": [
      "[[392  19]\n",
      " [ 88  13]]\n",
      "\n",
      "True Negatives(TN) =  392\n",
      "\n",
      "True Positives(TP) =  13\n",
      "\n",
      "False Positives(FP) =  19\n",
      "\n",
      "False Negatives(FN) =  88\n"
     ]
    }
   ],
   "source": [
    "######### Evaluate the model (test de performance)\n",
    "from sklearn import metrics\n",
    "from sklearn.metrics import confusion_matrix ###3 show tp, tn, fp et fn\n",
    "\n",
    "########## matrice de confusion\n",
    "confusion_matrix_bayes = metrics.confusion_matrix(Y_bayes_test, y_predict)\n",
    "\n",
    "print(confusion_matrix_bayes)\n",
    "\n",
    "print('\\nTrue Negatives(TN) = ', confusion_matrix_bayes[0,0])\n",
    "\n",
    "print('\\nTrue Positives(TP) = ', confusion_matrix_bayes[1,1])\n",
    "\n",
    "print('\\nFalse Positives(FP) = ', confusion_matrix_bayes[0,1])\n",
    "\n",
    "print('\\nFalse Negatives(FN) = ', confusion_matrix_bayes[1,0])"
   ]
  },
  {
   "cell_type": "code",
   "execution_count": 387,
   "id": "2cc42413",
   "metadata": {},
   "outputs": [
    {
     "name": "stdout",
     "output_type": "stream",
     "text": [
      "<sklearn.metrics._plot.confusion_matrix.ConfusionMatrixDisplay object at 0x0000019ED4EEAAC0>\n"
     ]
    },
    {
     "data": {
      "image/png": "[encoded data removed]",
      "text/plain": [
       "<Figure size 432x288 with 2 Axes>"
      ]
     },
     "metadata": {
      "needs_background": "light"
     },
     "output_type": "display_data"
    }
   ],
   "source": [
    "cm_display_bayes = metrics.ConfusionMatrixDisplay(confusion_matrix = confusion_matrix_bayes, display_labels = [False, True])\n",
    "\n",
    "print(cm_display_bayes)\n",
    "cm_display_bayes.plot()\n",
    "plt.show()"
   ]
  },
  {
   "cell_type": "code",
   "execution_count": 388,
   "id": "70354173",
   "metadata": {},
   "outputs": [
    {
     "name": "stdout",
     "output_type": "stream",
     "text": [
      "              precision    recall  f1-score   support\n",
      "\n",
      "           0       0.82      0.95      0.88       411\n",
      "           1       0.41      0.13      0.20       101\n",
      "\n",
      "    accuracy                           0.79       512\n",
      "   macro avg       0.61      0.54      0.54       512\n",
      "weighted avg       0.74      0.79      0.74       512\n",
      "\n"
     ]
    }
   ],
   "source": [
    "from sklearn.metrics import classification_report\n",
    "\n",
    "print(classification_report(Y_bayes_test, y_predict))"
   ]
  },
  {
   "cell_type": "code",
   "execution_count": 389,
   "id": "9786d36a",
   "metadata": {},
   "outputs": [
    {
     "name": "stdout",
     "output_type": "stream",
     "text": [
      "Number of mislabeled points out of a total 512 points : 107\n"
     ]
    }
   ],
   "source": [
    "print(\"Number of mislabeled points out of a total %d points : %d\"\n",
    "...       % (X_bayes_test.shape[0], (Y_bayes_test != y_predict).sum()))"
   ]
  },
  {
   "cell_type": "code",
   "execution_count": 390,
   "id": "a11b4882",
   "metadata": {},
   "outputs": [],
   "source": [
    "########## Now that we have made a Confusion Matrix, we can calculate different measures to quantify the quality of the model.\n",
    "\n",
    "\n",
    "from sklearn.metrics import accuracy_score  #### (tp+tn)/(tp+tn+fp+fn) how often is the classifier correct?\n",
    "from sklearn.metrics import precision_score #### tp/(tp+fp), when the classifier predict True, how often is it really True? the precision should be as high as possible\n",
    "from sklearn.metrics import recall_score    #### called sensitivity = tp/(tp+fn), the ability of the classifier to have correctly predicted 1, positive state, relative to total ACTUAL 1 \n",
    "from sklearn.metrics import f1_score        #### 2*(Precision*Recall)/(Precision + Recall), it measures the precision and recall at the same time by finding the harmonic mean of the 2 values\n",
    "\n",
    "#### the model with the highest values of this scores is the best to classify correctly the observations"
   ]
  },
  {
   "cell_type": "code",
   "execution_count": 391,
   "id": "9f542cbf",
   "metadata": {},
   "outputs": [
    {
     "name": "stdout",
     "output_type": "stream",
     "text": [
      "Accuracy= 79.1015625\n",
      "f1.score= 19.54887218045113\n",
      "precision.score= 40.625\n",
      "recall_score= 12.871287128712872\n",
      "Specificity= 95.37712895377129\n"
     ]
    }
   ],
   "source": [
    "accuracyscore = metrics.accuracy_score(Y_bayes_test, y_predict)*100\n",
    "print (\"Accuracy=\", accuracyscore)\n",
    "\n",
    "f1score = metrics.f1_score(Y_bayes_test,y_predict)*100\n",
    "print (\"f1.score=\", f1score)\n",
    "\n",
    "precisionscore = metrics.precision_score(Y_bayes_test,y_predict)*100\n",
    "print (\"precision.score=\", precisionscore)\n",
    "\n",
    "recallscore = recall_score(Y_bayes_test,y_predict)*100\n",
    "print (\"recall_score=\", recallscore)\n",
    "\n",
    "specificityscore = metrics.recall_score(Y_bayes_test, y_predict, pos_label=0)*100\n",
    "print(\"Specificity=\", specificityscore)"
   ]
  },
  {
   "cell_type": "code",
   "execution_count": 392,
   "id": "ed958a3e",
   "metadata": {},
   "outputs": [
    {
     "name": "stdout",
     "output_type": "stream",
     "text": [
      "Accuracy_train= 79.35420743639922\n",
      "Accuracy_test= 79.1015625\n"
     ]
    }
   ],
   "source": [
    "############# CHECK FOR OVERFITTING \n",
    "\n",
    "#### Prediction on train data\n",
    "y_predict_train = model.predict(X_bayes_train)\n",
    "accuracyscore_train = metrics.accuracy_score(Y_bayes_train, y_predict_train)*100\n",
    "print (\"Accuracy_train=\", accuracyscore_train)\n",
    "\n",
    "accuracyscore_test = metrics.accuracy_score(Y_bayes_test, y_predict)*100\n",
    "print (\"Accuracy_test=\", accuracyscore_test)\n",
    "\n",
    "\n",
    "### les 2 valeurs sont proches, pas de overfitting"
   ]
  },
  {
   "cell_type": "code",
   "execution_count": 393,
   "id": "fc80e2ee",
   "metadata": {},
   "outputs": [
    {
     "name": "stdout",
     "output_type": "stream",
     "text": [
      "AUC Naive Bayes= 0.6541157765411577\n"
     ]
    },
    {
     "data": {
      "image/png": "[encoded data removed]",
      "text/plain": [
       "<Figure size 432x288 with 1 Axes>"
      ]
     },
     "metadata": {
      "needs_background": "light"
     },
     "output_type": "display_data"
    }
   ],
   "source": [
    "######## COURBE DE ROC\n",
    "\n",
    "import sklearn.metrics as metrics\n",
    "from sklearn.metrics import roc_auc_score\n",
    "from sklearn.metrics import roc_curve\n",
    "# calculate the fpr and tpr for all thresholds of the classification\n",
    "prob = model.predict_proba(X_bayes_test)\n",
    "pred = prob[:,1]\n",
    "fpr_b, tpr_b, threshold = metrics.roc_curve(Y_bayes_test, pred)\n",
    "roc_auc = metrics.auc(fpr_b, tpr_b)\n",
    "print(\"AUC Naive Bayes=\", roc_auc)\n",
    "auc_b = roc_auc_score(Y_bayes_test, pred)\n",
    "\n",
    "import matplotlib.pyplot as plt\n",
    "plt.title('Courbe de ROC - Naive Bayes')\n",
    "plt.plot(fpr_b, tpr_b, 'b', label = 'AUC = %0.2f' % auc_b)\n",
    "plt.legend(loc = 'lower right')\n",
    "plt.plot([0, 1], [0, 1],'r--')\n",
    "plt.xlim([0, 1])\n",
    "plt.ylim([0, 1])\n",
    "plt.ylabel('True Positive Rate - Sensitivity')\n",
    "plt.xlabel('False Positive Rate - (1-Specificity)')\n",
    "plt.show()"
   ]
  },
  {
   "cell_type": "code",
   "execution_count": 394,
   "id": "52a20109",
   "metadata": {},
   "outputs": [
    {
     "data": {
      "text/plain": [
       "[0.7686274509803922]"
      ]
     },
     "execution_count": 394,
     "metadata": {},
     "output_type": "execute_result"
    }
   ],
   "source": [
    "##### CROSS VALIDATION \n",
    "\n",
    "from sklearn.model_selection import StratifiedKFold\n",
    "from sklearn.model_selection import cross_val_score\n",
    "from statistics import mean\n",
    "\n",
    "skf = StratifiedKFold(n_splits=10, shuffle=True, random_state=1) \n",
    "lst_accu_stratified = []\n",
    "\n",
    "for train_index, test_index in skf.split(X_bayes, Y_bayes): \n",
    "    X_bayes_train_fold, X_bayes_test_fold = X_bayes.iloc[train_index], X_bayes.iloc[test_index] \n",
    "    Y_bayes_train_fold, Y_bayes_test_fold = X_bayes.iloc[train_index], Y_bayes.iloc[test_index] \n",
    "     \n",
    "lst_accu_stratified.append(model.score(X_bayes_test_fold, Y_bayes_test_fold))\n",
    "\n",
    "lst_accu_stratified "
   ]
  },
  {
   "cell_type": "code",
   "execution_count": 395,
   "id": "2ed64945",
   "metadata": {},
   "outputs": [
    {
     "data": {
      "text/plain": [
       "['accuracy',\n",
       " 'adjusted_mutual_info_score',\n",
       " 'adjusted_rand_score',\n",
       " 'average_precision',\n",
       " 'balanced_accuracy',\n",
       " 'completeness_score',\n",
       " 'explained_variance',\n",
       " 'f1',\n",
       " 'f1_macro',\n",
       " 'f1_micro',\n",
       " 'f1_samples',\n",
       " 'f1_weighted',\n",
       " 'fowlkes_mallows_score',\n",
       " 'homogeneity_score',\n",
       " 'jaccard',\n",
       " 'jaccard_macro',\n",
       " 'jaccard_micro',\n",
       " 'jaccard_samples',\n",
       " 'jaccard_weighted',\n",
       " 'matthews_corrcoef',\n",
       " 'max_error',\n",
       " 'mutual_info_score',\n",
       " 'neg_brier_score',\n",
       " 'neg_log_loss',\n",
       " 'neg_mean_absolute_error',\n",
       " 'neg_mean_absolute_percentage_error',\n",
       " 'neg_mean_gamma_deviance',\n",
       " 'neg_mean_poisson_deviance',\n",
       " 'neg_mean_squared_error',\n",
       " 'neg_mean_squared_log_error',\n",
       " 'neg_median_absolute_error',\n",
       " 'neg_root_mean_squared_error',\n",
       " 'normalized_mutual_info_score',\n",
       " 'precision',\n",
       " 'precision_macro',\n",
       " 'precision_micro',\n",
       " 'precision_samples',\n",
       " 'precision_weighted',\n",
       " 'r2',\n",
       " 'rand_score',\n",
       " 'recall',\n",
       " 'recall_macro',\n",
       " 'recall_micro',\n",
       " 'recall_samples',\n",
       " 'recall_weighted',\n",
       " 'roc_auc',\n",
       " 'roc_auc_ovo',\n",
       " 'roc_auc_ovo_weighted',\n",
       " 'roc_auc_ovr',\n",
       " 'roc_auc_ovr_weighted',\n",
       " 'top_k_accuracy',\n",
       " 'v_measure_score']"
      ]
     },
     "execution_count": 395,
     "metadata": {},
     "output_type": "execute_result"
    }
   ],
   "source": [
    "from sklearn import metrics\n",
    "metrics.get_scorer_names()"
   ]
  },
  {
   "cell_type": "code",
   "execution_count": 396,
   "id": "957e814a",
   "metadata": {},
   "outputs": [
    {
     "name": "stdout",
     "output_type": "stream",
     "text": [
      "Accuracy - Cross Validation:  78.47274031563845\n",
      "Precision - Cross Validation:  38.801406926406926\n",
      "Recall - Cross Validation:  11.969512195121949\n",
      "f1 - Cross Validation:  17.692841144226733\n",
      "roc_auc_crossval= [0.60242424 0.54318182 0.70075758 0.59815586 0.65411585 0.59954268\n",
      " 0.5992378  0.6132622  0.54542683 0.62164634]\n"
     ]
    }
   ],
   "source": [
    "accuracy_crossval = cross_val_score(model, X_bayes_train, Y_bayes_train, cv=skf, scoring='accuracy')\n",
    "print(\"Accuracy - Cross Validation: \", accuracy_crossval.mean()*100)\n",
    "\n",
    "precision_crossval = cross_val_score(model, X_bayes_train, Y_bayes_train, cv= skf, scoring='precision')\n",
    "print(\"Precision - Cross Validation: \", precision_crossval.mean()*100)\n",
    "\n",
    "recall_crossval = cross_val_score(model, X_bayes_train, Y_bayes_train, cv= skf, scoring='recall')\n",
    "print(\"Recall - Cross Validation: \", recall_crossval.mean()*100)\n",
    "\n",
    "f1_crossval = cross_val_score(model,X_bayes_train, Y_bayes_train, cv= skf, scoring='f1')\n",
    "print(\"f1 - Cross Validation: \", f1_crossval.mean()*100)\n",
    "\n",
    "roc_auc_crossval = cross_val_score(model, X_bayes_train, Y_bayes_train, cv= skf, scoring='roc_auc')\n",
    "print(\"roc_auc_crossval=\", roc_auc_crossval)"
   ]
  },
  {
   "cell_type": "code",
   "execution_count": 397,
   "id": "34f926bd",
   "metadata": {},
   "outputs": [
    {
     "name": "stdout",
     "output_type": "stream",
     "text": [
      "           day     month    year       t2m       u10       v10       SST  \\\n",
      "0     0.113634  0.289938  1006.5 -2.120473 -0.194269  0.796147 -1.168961   \n",
      "1     0.227268  0.289938  1006.5 -2.291572 -1.297043  0.630754 -1.168961   \n",
      "2     0.340903  0.289938  1006.5 -2.479940 -0.709547  0.259261 -1.168511   \n",
      "3     0.454537  0.289938  1006.5 -2.279068 -0.376588 -0.881354 -1.168961   \n",
      "4     0.568171  0.289938  1006.5 -2.214360 -0.548273 -0.882639 -1.168511   \n",
      "...        ...       ...     ...       ...       ...       ...       ...   \n",
      "2551  3.068123  3.479256  1009.5 -2.641710  0.318572 -0.023108 -1.168511   \n",
      "2552  3.181758  3.479256  1009.5 -2.707609  0.781348  0.126004 -1.168961   \n",
      "2553  3.295392  3.479256  1009.5 -2.252271  0.930437  0.589619 -1.168511   \n",
      "2554  3.409026  3.479256  1009.5 -2.482918  0.012418  0.950828 -1.168511   \n",
      "2555  3.522660  3.479256  1009.5 -2.438853 -0.593022  1.412730 -1.168511   \n",
      "\n",
      "           SIC    r1_MAR  \n",
      "0     3.102341  0.000724  \n",
      "1     3.025668  0.000724  \n",
      "2     3.033569  0.000724  \n",
      "3     3.047773  0.000723  \n",
      "4     3.132024  0.000723  \n",
      "...        ...       ...  \n",
      "2551  3.251297  0.009787  \n",
      "2552  3.211861  0.009786  \n",
      "2553  3.213222  0.008751  \n",
      "2554  3.243535  0.006419  \n",
      "2555  3.308886  0.006422  \n",
      "\n",
      "[2556 rows x 9 columns]\n",
      "0       0\n",
      "1       0\n",
      "2       0\n",
      "3       0\n",
      "4       0\n",
      "       ..\n",
      "2551    1\n",
      "2552    0\n",
      "2553    0\n",
      "2554    1\n",
      "2555    0\n",
      "Name: Y4, Length: 2556, dtype: int32\n"
     ]
    }
   ],
   "source": [
    "###################################  Linear discrimnant analysis\n",
    "X_lda =  data[['day', 'month', 'year', 't2m', 'u10', 'v10', 'SST', 'SIC', 'r1_MAR']]\n",
    "Y_lda = data.iloc[:, 13]\n",
    "\n",
    "print(X_lda)\n",
    "print(Y_lda)"
   ]
  },
  {
   "cell_type": "code",
   "execution_count": 398,
   "id": "cced89f9",
   "metadata": {},
   "outputs": [],
   "source": [
    "# On utilise un échantillon de test représentant 30 % des données:\n",
    "from sklearn.model_selection import train_test_split\n",
    "X_lda_train, X_lda_test, Y_lda_train, Y_lda_test = train_test_split(X_lda,Y_lda\n",
    "                                                            ,test_size=0.2,random_state=115,shuffle=True,stratify=Y_lda)  \n",
    "### 80% training data et 20% test data"
   ]
  },
  {
   "cell_type": "code",
   "execution_count": 399,
   "id": "2aed5493",
   "metadata": {},
   "outputs": [
    {
     "data": {
      "text/plain": [
       "0    2054\n",
       "1     502\n",
       "Name: Y4, dtype: int64"
      ]
     },
     "execution_count": 399,
     "metadata": {},
     "output_type": "execute_result"
    }
   ],
   "source": [
    "Y_lda.value_counts()\n"
   ]
  },
  {
   "cell_type": "code",
   "execution_count": 400,
   "id": "48492e57",
   "metadata": {},
   "outputs": [
    {
     "data": {
      "text/plain": [
       "(2044, 9)"
      ]
     },
     "execution_count": 400,
     "metadata": {},
     "output_type": "execute_result"
    }
   ],
   "source": [
    "X_lda_train.shape"
   ]
  },
  {
   "cell_type": "code",
   "execution_count": 401,
   "id": "7e0d2024",
   "metadata": {},
   "outputs": [
    {
     "data": {
      "text/plain": [
       "0    1643\n",
       "1     401\n",
       "Name: Y4, dtype: int64"
      ]
     },
     "execution_count": 401,
     "metadata": {},
     "output_type": "execute_result"
    }
   ],
   "source": [
    "Y_lda_train.value_counts()"
   ]
  },
  {
   "cell_type": "code",
   "execution_count": 402,
   "id": "fddd3b7c",
   "metadata": {},
   "outputs": [
    {
     "data": {
      "text/plain": [
       "(512, 9)"
      ]
     },
     "execution_count": 402,
     "metadata": {},
     "output_type": "execute_result"
    }
   ],
   "source": [
    "X_lda_test.shape"
   ]
  },
  {
   "cell_type": "code",
   "execution_count": 403,
   "id": "93a8102e",
   "metadata": {},
   "outputs": [
    {
     "data": {
      "text/plain": [
       "0    411\n",
       "1    101\n",
       "Name: Y4, dtype: int64"
      ]
     },
     "execution_count": 403,
     "metadata": {},
     "output_type": "execute_result"
    }
   ],
   "source": [
    "Y_lda_test.value_counts()"
   ]
  },
  {
   "cell_type": "code",
   "execution_count": 404,
   "id": "e25989db",
   "metadata": {},
   "outputs": [
    {
     "name": "stdout",
     "output_type": "stream",
     "text": [
      "Predicted value= [0 0 0 0 0 0 0 0 0 0 0 0 0 0 0 0 0 0 0 0 0 0 0 0 0 0 0 0 0 0 0 0 0 0 0 0 0\n",
      " 0 0 0 0 0 0 0 0 0 0 0 0 0 0 0 0 0 0 0 0 0 0 0 0 0 0 0 0 0 0 0 0 0 0 0 0 0\n",
      " 0 0 0 0 0 0 0 0 0 0 0 0 0 0 0 0 0 0 0 0 0 0 0 0 0 0 0 0 0 0 0 0 0 0 0 0 0\n",
      " 0 0 0 0 0 0 0 0 0 0 0 0 0 0 0 0 0 0 0 0 0 0 0 0 0 0 0 0 0 0 0 0 0 0 0 0 0\n",
      " 0 0 0 0 0 0 0 0 0 0 0 0 0 0 0 0 0 0 0 0 0 0 0 0 0 0 0 0 0 0 0 0 0 0 0 0 0\n",
      " 0 0 0 0 0 0 0 0 0 0 0 0 0 0 0 0 0 0 0 0 0 0 0 0 0 0 0 0 0 0 0 0 0 0 0 0 0\n",
      " 0 0 0 0 0 0 0 0 0 0 0 0 0 0 0 0 0 0 0 0 0 0 0 0 0 0 0 0 0 0 0 0 0 0 0 0 0\n",
      " 0 0 0 0 0 0 0 0 0 0 0 0 0 0 0 0 0 0 0 0 0 0 0 0 0 0 0 0 0 0 0 0 0 0 0 0 0\n",
      " 0 0 0 0 0 0 0 0 0 0 0 0 0 0 0 0 0 0 0 0 0 0 0 0 0 0 0 0 0 0 0 0 0 0 0 0 0\n",
      " 0 0 0 0 0 0 0 0 0 0 0 0 0 0 0 0 0 0 0 0 0 0 0 0 0 0 0 0 0 0 0 0 0 0 0 0 0\n",
      " 0 0 0 0 0 0 0 0 0 0 0 0 0 0 0 0 0 0 0 0 0 0 0 0 0 0 0 0 0 0 0 0 0 0 0 0 0\n",
      " 0 0 0 0 0 0 0 0 0 0 0 0 0 0 0 0 0 0 0 0 0 0 0 0 0 0 0 0 0 0 0 0 0 0 0 0 0\n",
      " 0 0 0 0 0 0 0 0 0 0 0 0 0 0 0 0 0 0 0 0 0 0 0 0 0 0 0 0 0 0 0 0 0 0 0 0 0\n",
      " 0 0 0 0 0 0 0 0 0 0 0 0 0 0 0 0 0 0 0 0 0 0 0 0 0 0 0 0 0 0 0]\n"
     ]
    }
   ],
   "source": [
    "########################################## LINEAR DISCRIMINANT ANALYSIS\n",
    "#### LDA assume that the variablesare independant!\n",
    "\n",
    "##### import LINEAR DISCRIMINANT ANALYSIS  model\n",
    "from sklearn.discriminant_analysis import LinearDiscriminantAnalysis\n",
    "\n",
    "#### LDA Classifier\n",
    "modellda = LinearDiscriminantAnalysis(n_components=0)\n",
    "\n",
    "#### Train the model using the training sets\n",
    "model_fit = modellda.fit(X_lda_train, Y_lda_train)\n",
    "\n",
    "#### Prediction\n",
    "y_predict_lda = model_fit.predict(X_lda_test)\n",
    "\n",
    "print(\"Predicted value=\", y_predict_lda)"
   ]
  },
  {
   "cell_type": "code",
   "execution_count": 405,
   "id": "6c92a860",
   "metadata": {},
   "outputs": [
    {
     "name": "stdout",
     "output_type": "stream",
     "text": [
      "[[411   0]\n",
      " [101   0]]\n",
      "\n",
      "True Negatives(TN) =  411\n",
      "\n",
      "True Positives(TP) =  0\n",
      "\n",
      "False Positives(FP) =  0\n",
      "\n",
      "False Negatives(FN) =  101\n"
     ]
    }
   ],
   "source": [
    "######### Evaluate the model (test de performance)\n",
    "from sklearn import metrics\n",
    "from sklearn.metrics import confusion_matrix ### show tp, tn, fp et fn\n",
    "\n",
    "########## matrice de confusion\n",
    "confusion_matrix_lda = metrics.confusion_matrix(Y_lda_test, y_predict_lda)\n",
    "\n",
    "print(confusion_matrix_lda)\n",
    "\n",
    "print('\\nTrue Negatives(TN) = ', confusion_matrix_lda[0,0])\n",
    "\n",
    "print('\\nTrue Positives(TP) = ', confusion_matrix_lda[1,1])\n",
    "\n",
    "print('\\nFalse Positives(FP) = ', confusion_matrix_lda[0,1])\n",
    "\n",
    "print('\\nFalse Negatives(FN) = ', confusion_matrix_lda[1,0])"
   ]
  },
  {
   "cell_type": "code",
   "execution_count": 406,
   "id": "2dc5c18f",
   "metadata": {},
   "outputs": [
    {
     "name": "stdout",
     "output_type": "stream",
     "text": [
      "<sklearn.metrics._plot.confusion_matrix.ConfusionMatrixDisplay object at 0x0000019ED4FC2F70>\n"
     ]
    },
    {
     "data": {
      "image/png": "[encoded data removed]",
      "text/plain": [
       "<Figure size 432x288 with 2 Axes>"
      ]
     },
     "metadata": {
      "needs_background": "light"
     },
     "output_type": "display_data"
    }
   ],
   "source": [
    "cm_display_lda = metrics.ConfusionMatrixDisplay(confusion_matrix = confusion_matrix_lda, display_labels = [False, True])\n",
    "print(cm_display_lda)\n",
    "cm_display_lda.plot()\n",
    "plt.show()"
   ]
  },
  {
   "cell_type": "code",
   "execution_count": 407,
   "id": "70f3464a",
   "metadata": {},
   "outputs": [
    {
     "name": "stdout",
     "output_type": "stream",
     "text": [
      "AUC LDA= 0.6432511864325119\n"
     ]
    },
    {
     "data": {
      "image/png": "[encoded data removed]",
      "text/plain": [
       "<Figure size 432x288 with 1 Axes>"
      ]
     },
     "metadata": {
      "needs_background": "light"
     },
     "output_type": "display_data"
    }
   ],
   "source": [
    "######## COURBE DE ROC\n",
    "\n",
    "import sklearn.metrics as metrics\n",
    "from sklearn.metrics import roc_auc_score\n",
    "from sklearn.metrics import roc_curve\n",
    "# calculate the fpr and tpr for all thresholds of the classification\n",
    "prob = modellda.predict_proba(X_lda_test)\n",
    "pred = prob[:,1]\n",
    "fpr_lda, tpr_lda, threshold = metrics.roc_curve(Y_lda_test, pred)\n",
    "roc_auc = metrics.auc(fpr_lda, tpr_lda)\n",
    "print(\"AUC LDA=\", roc_auc)\n",
    "auc_lda = roc_auc_score(Y_lda_test, pred)\n",
    "\n",
    "import matplotlib.pyplot as plt\n",
    "plt.title('Courbe de ROC - LDA')\n",
    "plt.plot(fpr_lda, tpr_lda, 'b', label = 'AUC = %0.2f' % auc_lda)\n",
    "plt.legend(loc = 'lower right')\n",
    "plt.plot([0, 1], [0, 1],'r--')\n",
    "plt.xlim([0, 1])\n",
    "plt.ylim([0, 1])\n",
    "plt.ylabel('True Positive Rate - Sensitivity')\n",
    "plt.xlabel('False Positive Rate - (1-Specificity)')\n",
    "plt.show()"
   ]
  },
  {
   "cell_type": "code",
   "execution_count": 408,
   "id": "3fef9e79",
   "metadata": {},
   "outputs": [
    {
     "name": "stdout",
     "output_type": "stream",
     "text": [
      "              precision    recall  f1-score   support\n",
      "\n",
      "           0       0.80      1.00      0.89       411\n",
      "           1       0.00      0.00      0.00       101\n",
      "\n",
      "    accuracy                           0.80       512\n",
      "   macro avg       0.40      0.50      0.45       512\n",
      "weighted avg       0.64      0.80      0.71       512\n",
      "\n"
     ]
    },
    {
     "name": "stderr",
     "output_type": "stream",
     "text": [
      "C:\\Users\\User\\anaconda3\\lib\\site-packages\\sklearn\\metrics\\_classification.py:1327: UndefinedMetricWarning: Precision and F-score are ill-defined and being set to 0.0 in labels with no predicted samples. Use `zero_division` parameter to control this behavior.\n",
      "  _warn_prf(average, modifier, msg_start, len(result))\n",
      "C:\\Users\\User\\anaconda3\\lib\\site-packages\\sklearn\\metrics\\_classification.py:1327: UndefinedMetricWarning: Precision and F-score are ill-defined and being set to 0.0 in labels with no predicted samples. Use `zero_division` parameter to control this behavior.\n",
      "  _warn_prf(average, modifier, msg_start, len(result))\n",
      "C:\\Users\\User\\anaconda3\\lib\\site-packages\\sklearn\\metrics\\_classification.py:1327: UndefinedMetricWarning: Precision and F-score are ill-defined and being set to 0.0 in labels with no predicted samples. Use `zero_division` parameter to control this behavior.\n",
      "  _warn_prf(average, modifier, msg_start, len(result))\n"
     ]
    }
   ],
   "source": [
    "from sklearn.metrics import classification_report\n",
    "\n",
    "print(classification_report(Y_lda_test, y_predict_lda))"
   ]
  },
  {
   "cell_type": "code",
   "execution_count": 409,
   "id": "dd96b7c3",
   "metadata": {},
   "outputs": [
    {
     "name": "stdout",
     "output_type": "stream",
     "text": [
      "Number of mislabeled points out of a total 512 points : 101\n"
     ]
    }
   ],
   "source": [
    "print(\"Number of mislabeled points out of a total %d points : %d\"\n",
    "...       % (X_lda_test.shape[0], (Y_lda_test != y_predict_lda).sum()))"
   ]
  },
  {
   "cell_type": "code",
   "execution_count": 410,
   "id": "d601b77c",
   "metadata": {},
   "outputs": [
    {
     "name": "stdout",
     "output_type": "stream",
     "text": [
      "Accuracy= 80.2734375\n",
      "f1.score= 0.0\n",
      "precision.score= 0.0\n",
      "recall_score= 0.0\n",
      "Specificity= 1.0\n"
     ]
    },
    {
     "name": "stderr",
     "output_type": "stream",
     "text": [
      "C:\\Users\\User\\anaconda3\\lib\\site-packages\\sklearn\\metrics\\_classification.py:1327: UndefinedMetricWarning: Precision is ill-defined and being set to 0.0 due to no predicted samples. Use `zero_division` parameter to control this behavior.\n",
      "  _warn_prf(average, modifier, msg_start, len(result))\n"
     ]
    }
   ],
   "source": [
    "accuracyscore = metrics.accuracy_score(Y_lda_test, y_predict_lda)*100\n",
    "print (\"Accuracy=\", accuracyscore)\n",
    "\n",
    "f1score = metrics.f1_score(Y_lda_test,y_predict_lda)*100\n",
    "print (\"f1.score=\", f1score)\n",
    "\n",
    "precisionscore = metrics.precision_score(Y_lda_test,y_predict_lda)*100\n",
    "print (\"precision.score=\", precisionscore)\n",
    "\n",
    "recallscore = recall_score(Y_lda_test,y_predict_lda)*100\n",
    "print (\"recall_score=\", recallscore)\n",
    "\n",
    "specificityscore = metrics.recall_score(Y_lda_test, y_predict_lda, pos_label=0)\n",
    "print(\"Specificity=\", specificityscore)"
   ]
  },
  {
   "cell_type": "code",
   "execution_count": 411,
   "id": "1c9a9573",
   "metadata": {},
   "outputs": [],
   "source": [
    "########################         QUADRATIC DISCRIMINANT ANALYSIS\n",
    "\n",
    "X_qda =  data[['day', 'month', 'year', 't2m', 'u10', 'v10', 'SST', 'SIC', 'r1_MAR']]\n",
    "Y_qda = data.iloc[:, 13]"
   ]
  },
  {
   "cell_type": "code",
   "execution_count": 412,
   "id": "11cf9d7d",
   "metadata": {},
   "outputs": [],
   "source": [
    "# On utilise un échantillon de test représentant 30 % des données:\n",
    "from sklearn.model_selection import train_test_split\n",
    "X_qda_train, X_qda_test, Y_qda_train, Y_qda_test = train_test_split(X_qda,Y_qda\n",
    "                                                            ,test_size=0.2,random_state=115,shuffle=True,stratify=Y_lda)  \n",
    "### 80% training data et 20% test data"
   ]
  },
  {
   "cell_type": "code",
   "execution_count": 413,
   "id": "1b369c7c",
   "metadata": {},
   "outputs": [
    {
     "data": {
      "text/plain": [
       "array([0, 0, 0, 0, 0, 0, 0, 0, 0, 0, 0, 1, 0, 0, 0, 0, 0, 0, 0, 1, 0, 0,\n",
       "       0, 0, 0, 0, 0, 0, 0, 0, 1, 0, 0, 1, 0, 0, 0, 0, 0, 0, 0, 0, 0, 0,\n",
       "       0, 0, 0, 0, 0, 0, 0, 0, 0, 0, 0, 0, 0, 0, 0, 0, 0, 0, 0, 0, 0, 0,\n",
       "       0, 0, 0, 0, 0, 0, 0, 0, 0, 0, 0, 0, 0, 0, 0, 0, 0, 0, 0, 1, 0, 0,\n",
       "       1, 0, 0, 0, 0, 0, 0, 0, 0, 0, 0, 0, 0, 0, 0, 0, 0, 0, 0, 0, 0, 0,\n",
       "       0, 0, 0, 0, 0, 0, 0, 0, 0, 0, 0, 0, 0, 0, 0, 0, 0, 0, 0, 0, 0, 0,\n",
       "       1, 0, 0, 0, 0, 0, 0, 0, 0, 0, 0, 0, 0, 0, 0, 0, 0, 1, 0, 0, 0, 0,\n",
       "       0, 0, 0, 0, 0, 1, 0, 0, 0, 0, 0, 0, 0, 0, 0, 0, 0, 0, 0, 0, 0, 0,\n",
       "       0, 1, 1, 0, 0, 0, 0, 0, 0, 0, 0, 0, 0, 0, 0, 0, 1, 1, 0, 0, 0, 0,\n",
       "       0, 0, 0, 0, 1, 0, 0, 0, 0, 0, 0, 0, 1, 1, 0, 0, 0, 0, 0, 0, 0, 0,\n",
       "       0, 0, 0, 0, 0, 0, 0, 0, 1, 1, 0, 0, 0, 0, 0, 0, 0, 0, 0, 0, 0, 0,\n",
       "       0, 0, 0, 0, 0, 0, 0, 0, 1, 0, 0, 0, 1, 0, 0, 0, 0, 1, 0, 0, 0, 0,\n",
       "       0, 0, 0, 0, 0, 0, 0, 0, 0, 0, 0, 0, 0, 0, 0, 0, 0, 0, 0, 0, 0, 0,\n",
       "       0, 0, 0, 0, 0, 0, 0, 0, 0, 0, 0, 0, 0, 0, 0, 0, 1, 0, 1, 0, 0, 0,\n",
       "       0, 0, 0, 1, 0, 0, 0, 0, 0, 0, 0, 0, 0, 1, 0, 0, 1, 0, 1, 0, 1, 0,\n",
       "       0, 0, 0, 0, 0, 0, 0, 0, 0, 0, 0, 0, 0, 0, 0, 0, 0, 0, 0, 1, 0, 0,\n",
       "       0, 1, 0, 0, 0, 0, 0, 0, 0, 0, 0, 0, 0, 0, 0, 0, 1, 0, 0, 0, 0, 0,\n",
       "       1, 0, 0, 0, 0, 0, 0, 0, 0, 0, 0, 0, 0, 0, 0, 0, 0, 0, 0, 0, 0, 0,\n",
       "       0, 0, 0, 0, 0, 0, 0, 0, 0, 0, 0, 0, 0, 0, 0, 0, 0, 0, 0, 0, 0, 0,\n",
       "       0, 0, 0, 1, 0, 0, 0, 0, 0, 0, 0, 0, 0, 0, 0, 0, 0, 0, 0, 0, 0, 0,\n",
       "       0, 0, 0, 0, 0, 0, 0, 0, 0, 0, 0, 0, 0, 0, 0, 0, 0, 0, 0, 0, 0, 0,\n",
       "       0, 0, 0, 0, 1, 0, 0, 0, 0, 0, 0, 0, 0, 0, 0, 0, 0, 1, 0, 0, 0, 0,\n",
       "       0, 0, 0, 0, 0, 0, 0, 0, 0, 0, 0, 0, 0, 1, 0, 0, 0, 0, 0, 0, 0, 0,\n",
       "       0, 0, 0, 0, 0, 0])"
      ]
     },
     "execution_count": 413,
     "metadata": {},
     "output_type": "execute_result"
    }
   ],
   "source": [
    "########################         QUADRATIC DISCRIMINANT ANALYSIS\n",
    "\n",
    "from sklearn.discriminant_analysis import QuadraticDiscriminantAnalysis\n",
    "qdamodel = QuadraticDiscriminantAnalysis()\n",
    "qdamodel.fit(X_qda_train, Y_qda_train)\n",
    "qda_pred = qdamodel.predict(X_qda_test)\n",
    "qda_pred"
   ]
  },
  {
   "cell_type": "code",
   "execution_count": 414,
   "id": "f573ba1f",
   "metadata": {},
   "outputs": [
    {
     "name": "stdout",
     "output_type": "stream",
     "text": [
      "              precision    recall  f1-score   support\n",
      "\n",
      "           0       0.82      0.95      0.88       411\n",
      "           1       0.39      0.14      0.20       101\n",
      "\n",
      "    accuracy                           0.79       512\n",
      "   macro avg       0.60      0.54      0.54       512\n",
      "weighted avg       0.73      0.79      0.74       512\n",
      "\n"
     ]
    }
   ],
   "source": [
    "from sklearn.metrics import classification_report\n",
    "print(classification_report(Y_qda_test,qda_pred))"
   ]
  },
  {
   "cell_type": "code",
   "execution_count": 416,
   "id": "797430be",
   "metadata": {},
   "outputs": [
    {
     "name": "stdout",
     "output_type": "stream",
     "text": [
      "[[389  22]\n",
      " [ 87  14]]\n",
      "\n",
      "True Negatives(TN) =  389\n",
      "\n",
      "True Positives(TP) =  14\n",
      "\n",
      "False Positives(FP) =  22\n",
      "\n",
      "False Negatives(FN) =  87\n"
     ]
    }
   ],
   "source": [
    "######### Evaluate the model (test de performance)\n",
    "\n",
    "########## matrice de confusion\n",
    "confusion_matrix_qda = metrics.confusion_matrix(Y_qda_test, qda_pred)\n",
    "\n",
    "print(confusion_matrix_qda)\n",
    "\n",
    "print('\\nTrue Negatives(TN) = ', confusion_matrix_qda[0,0])\n",
    "\n",
    "print('\\nTrue Positives(TP) = ', confusion_matrix_qda[1,1])\n",
    "\n",
    "print('\\nFalse Positives(FP) = ', confusion_matrix_qda[0,1])\n",
    "\n",
    "print('\\nFalse Negatives(FN) = ', confusion_matrix_qda[1,0])"
   ]
  },
  {
   "cell_type": "code",
   "execution_count": 417,
   "id": "628663bf",
   "metadata": {},
   "outputs": [
    {
     "name": "stdout",
     "output_type": "stream",
     "text": [
      "<sklearn.metrics._plot.confusion_matrix.ConfusionMatrixDisplay object at 0x0000019ED4F731F0>\n"
     ]
    },
    {
     "data": {
      "image/png": "[encoded data removed]",
      "text/plain": [
       "<Figure size 432x288 with 2 Axes>"
      ]
     },
     "metadata": {
      "needs_background": "light"
     },
     "output_type": "display_data"
    }
   ],
   "source": [
    "cm_display_qda = metrics.ConfusionMatrixDisplay(confusion_matrix = confusion_matrix_qda, display_labels = [False, True])\n",
    "\n",
    "print(cm_display_qda)\n",
    "cm_display_qda.plot()\n",
    "plt.show()"
   ]
  },
  {
   "cell_type": "code",
   "execution_count": 418,
   "id": "c7403345",
   "metadata": {},
   "outputs": [
    {
     "name": "stdout",
     "output_type": "stream",
     "text": [
      "Number of mislabeled points out of a total 512 points : 109\n"
     ]
    }
   ],
   "source": [
    "print(\"Number of mislabeled points out of a total %d points : %d\"\n",
    "...       % (X_qda_test.shape[0], (Y_qda_test != qda_pred).sum()))"
   ]
  },
  {
   "cell_type": "code",
   "execution_count": 419,
   "id": "4b5c69f7",
   "metadata": {},
   "outputs": [
    {
     "name": "stdout",
     "output_type": "stream",
     "text": [
      "Accuracy= 78.7109375\n",
      "f1.score= 20.437956204379564\n",
      "precision.score= 38.88888888888889\n",
      "recall_score= 13.861386138613863\n",
      "Specificity= 0.9464720194647201\n"
     ]
    }
   ],
   "source": [
    "accuracyscore = metrics.accuracy_score(Y_qda_test, qda_pred)*100\n",
    "print (\"Accuracy=\", accuracyscore)\n",
    "\n",
    "f1score = metrics.f1_score(Y_qda_test, qda_pred)*100\n",
    "print (\"f1.score=\", f1score)\n",
    "\n",
    "precisionscore = metrics.precision_score(Y_qda_test, qda_pred)*100\n",
    "print (\"precision.score=\", precisionscore)\n",
    "\n",
    "recallscore = recall_score(Y_qda_test, qda_pred)*100\n",
    "print (\"recall_score=\", recallscore)\n",
    "\n",
    "specificityscore = metrics.recall_score(Y_qda_test, qda_pred, pos_label=0)\n",
    "print(\"Specificity=\", specificityscore)"
   ]
  },
  {
   "cell_type": "code",
   "execution_count": 420,
   "id": "809f6ac7",
   "metadata": {},
   "outputs": [
    {
     "data": {
      "image/png": "[encoded data removed]",
      "text/plain": [
       "<Figure size 432x288 with 1 Axes>"
      ]
     },
     "metadata": {
      "needs_background": "light"
     },
     "output_type": "display_data"
    }
   ],
   "source": [
    "######## COURBE DE ROC\n",
    "\n",
    "import sklearn.metrics as metrics\n",
    "from sklearn.metrics import roc_auc_score\n",
    "from sklearn.metrics import roc_curve\n",
    "# calculate the fpr and tpr for all thresholds of the classification\n",
    "prob = qdamodel.predict_proba(X_qda_test)\n",
    "pred = prob[:,1]\n",
    "fpr_qda, tpr_qda, threshold = metrics.roc_curve(Y_qda_test, pred)\n",
    "auc_qda = roc_auc_score(Y_qda_test, pred)\n",
    "roc_auc = metrics.auc(fpr_qda, tpr_qda)\n",
    "\n",
    "import matplotlib.pyplot as plt\n",
    "plt.title('Courbe de ROC -  QUADRATIC DISCRIMINANT ANALYSIS')\n",
    "plt.plot(fpr_qda, tpr_qda, 'b', label = 'AUC = %0.2f' % auc_qda)\n",
    "plt.legend(loc = 'lower right')\n",
    "plt.plot([0, 1], [0, 1],'r--')\n",
    "plt.xlim([0, 1])\n",
    "plt.ylim([0, 1])\n",
    "plt.ylabel('True Positive Rate - Sensitivity')\n",
    "plt.xlabel('False Positive Rate - (1-Specificity)')\n",
    "plt.show()"
   ]
  },
  {
   "cell_type": "code",
   "execution_count": 421,
   "id": "1c0a89f7",
   "metadata": {},
   "outputs": [
    {
     "data": {
      "text/plain": [
       "[0.7725490196078432]"
      ]
     },
     "execution_count": 421,
     "metadata": {},
     "output_type": "execute_result"
    }
   ],
   "source": [
    "##### CROSS VALIDATION                                 \n",
    "\n",
    "skf = StratifiedKFold(n_splits=10, shuffle=True, random_state=1) \n",
    "lst_accu_stratified = []\n",
    "\n",
    "for train_index, test_index in skf.split(X_qda, Y_qda): \n",
    "    X_qda_train_fold_qda, X_qda_test_fold_qda = X_qda.iloc[train_index], X_qda.iloc[test_index] \n",
    "    Y_qda_train_fold_qda, Y_qda_test_fold_qda = X_qda.iloc[train_index], Y_qda.iloc[test_index] \n",
    "     \n",
    "lst_accu_stratified.append(qdamodel.score(X_qda_test_fold_qda, Y_qda_test_fold_qda))\n",
    "\n",
    "lst_accu_stratified "
   ]
  },
  {
   "cell_type": "code",
   "execution_count": 422,
   "id": "2337b807",
   "metadata": {},
   "outputs": [
    {
     "name": "stdout",
     "output_type": "stream",
     "text": [
      "Accuracy= 78.7109375\n",
      "f1.score= 20.437956204379564\n",
      "precision.score= 38.88888888888889\n",
      "recall_score= 13.861386138613863\n",
      "Specificity= 0.9464720194647201\n"
     ]
    }
   ],
   "source": [
    "accuracyscore = metrics.accuracy_score(Y_qda_test, qda_pred)*100\n",
    "print (\"Accuracy=\", accuracyscore)\n",
    "\n",
    "f1score = metrics.f1_score(Y_qda_test, qda_pred)*100\n",
    "print (\"f1.score=\", f1score)\n",
    "\n",
    "precisionscore = metrics.precision_score(Y_qda_test, qda_pred)*100\n",
    "print (\"precision.score=\", precisionscore)\n",
    "\n",
    "recallscore = recall_score(Y_qda_test, qda_pred)*100\n",
    "print (\"recall_score=\", recallscore)\n",
    "\n",
    "specificityscore = metrics.recall_score(Y_qda_test, qda_pred, pos_label=0)\n",
    "print(\"Specificity=\", specificityscore)"
   ]
  },
  {
   "cell_type": "code",
   "execution_count": 423,
   "id": "8f9f4b71",
   "metadata": {},
   "outputs": [
    {
     "name": "stdout",
     "output_type": "stream",
     "text": [
      "           day     month    year       t2m       u10       v10       SST  \\\n",
      "0     0.113634  0.289938  1006.5 -2.120473 -0.194269  0.796147 -1.168961   \n",
      "1     0.227268  0.289938  1006.5 -2.291572 -1.297043  0.630754 -1.168961   \n",
      "2     0.340903  0.289938  1006.5 -2.479940 -0.709547  0.259261 -1.168511   \n",
      "3     0.454537  0.289938  1006.5 -2.279068 -0.376588 -0.881354 -1.168961   \n",
      "4     0.568171  0.289938  1006.5 -2.214360 -0.548273 -0.882639 -1.168511   \n",
      "...        ...       ...     ...       ...       ...       ...       ...   \n",
      "2551  3.068123  3.479256  1009.5 -2.641710  0.318572 -0.023108 -1.168511   \n",
      "2552  3.181758  3.479256  1009.5 -2.707609  0.781348  0.126004 -1.168961   \n",
      "2553  3.295392  3.479256  1009.5 -2.252271  0.930437  0.589619 -1.168511   \n",
      "2554  3.409026  3.479256  1009.5 -2.482918  0.012418  0.950828 -1.168511   \n",
      "2555  3.522660  3.479256  1009.5 -2.438853 -0.593022  1.412730 -1.168511   \n",
      "\n",
      "           SIC    r1_MAR    r2_MAR  r3_MAR  r4_MAR  r5_MAR  \n",
      "0     3.102341  0.000724  0.001193     0.0     0.0     0.0  \n",
      "1     3.025668  0.000724  0.001193     0.0     0.0     0.0  \n",
      "2     3.033569  0.000724  0.001192     0.0     0.0     0.0  \n",
      "3     3.047773  0.000723  0.001192     0.0     0.0     0.0  \n",
      "4     3.132024  0.000723  0.001191     0.0     0.0     0.0  \n",
      "...        ...       ...       ...     ...     ...     ...  \n",
      "2551  3.251297  0.009787  0.016541     0.0     0.0     0.0  \n",
      "2552  3.211861  0.009786  0.016538     0.0     0.0     0.0  \n",
      "2553  3.213222  0.008751  0.014833     0.0     0.0     0.0  \n",
      "2554  3.243535  0.006419  0.010958     0.0     0.0     0.0  \n",
      "2555  3.308886  0.006422  0.010964     0.0     0.0     0.0  \n",
      "\n",
      "[2556 rows x 13 columns]\n",
      "0       0\n",
      "1       0\n",
      "2       0\n",
      "3       0\n",
      "4       0\n",
      "       ..\n",
      "2551    1\n",
      "2552    0\n",
      "2553    0\n",
      "2554    1\n",
      "2555    0\n",
      "Name: Y4, Length: 2556, dtype: int32\n"
     ]
    }
   ],
   "source": [
    "##########################################################################################################################\n",
    "X = data.iloc[:,:13]\n",
    "Y = data.iloc[:,13]\n",
    "print(X)\n",
    "print(Y)"
   ]
  },
  {
   "cell_type": "code",
   "execution_count": 424,
   "id": "d07e17c4",
   "metadata": {},
   "outputs": [],
   "source": [
    "# On utilise un échantillon de test représentant 30 % des données:\n",
    "from sklearn.model_selection import train_test_split\n",
    "X_train, X_test, Y_train, Y_test = train_test_split(X,Y,test_size=0.2,random_state=15,shuffle=True,stratify=Y)  \n",
    "### 80% training data et 20% test data\n"
   ]
  },
  {
   "cell_type": "code",
   "execution_count": 425,
   "id": "caee92d6",
   "metadata": {
    "scrolled": true
   },
   "outputs": [
    {
     "name": "stdout",
     "output_type": "stream",
     "text": [
      "[0 0 0 0 0 0 0 0 0 0 0 0 0 0 0 0 0 0 0 0 0 0 0 0 0 0 0 0 0 0 0 0 0 0 0 0 0\n",
      " 0 0 0 0 0 0 0 0 0 0 0 0 0 0 0 0 0 0 0 0 0 0 0 0 0 0 0 0 0 0 0 0 0 0 0 0 0\n",
      " 0 0 0 0 0 0 0 0 0 0 0 0 0 0 0 0 0 0 0 0 0 0 0 0 0 0 0 0 0 0 0 0 0 0 0 0 0\n",
      " 0 0 0 0 0 0 0 0 0 0 0 0 0 0 0 0 0 0 0 0 0 0 0 0 0 0 0 0 0 0 0 0 0 0 0 0 0\n",
      " 0 0 0 0 0 0 0 0 0 0 0 0 0 0 0 0 0 0 0 0 0 0 0 0 0 0 0 0 0 0 0 0 0 0 0 0 0\n",
      " 0 0 0 0 0 0 0 0 0 0 0 0 0 0 0 0 0 0 0 0 0 0 0 0 0 0 0 0 0 0 0 0 0 0 0 0 0\n",
      " 0 0 0 0 0 0 0 0 0 0 0 0 0 0 0 0 0 0 0 0 0 0 0 0 0 0 0 0 0 0 0 0 0 0 0 0 0\n",
      " 0 0 0 0 0 0 0 0 0 0 0 0 0 0 0 0 0 0 0 0 0 0 0 0 0 0 0 0 0 0 0 0 0 0 0 0 0\n",
      " 0 0 0 0 0 0 0 0 0 0 0 0 0 0 0 0 0 0 0 0 0 0 0 0 0 0 0 0 0 0 0 0 0 0 0 0 0\n",
      " 0 0 0 0 0 0 0 0 0 0 0 0 0 0 0 0 0 0 0 0 0 0 0 0 0 0 0 0 0 0 0 0 0 0 0 0 0\n",
      " 0 0 0 0 0 0 0 0 0 0 0 0 0 0 0 0 0 0 0 0 0 0 0 0 0 0 0 0 0 0 0 0 0 0 0 0 0\n",
      " 0 0 0 0 0 0 0 0 0 0 0 0 0 0 0 0 0 0 0 0 0 0 0 0 0 0 0 0 0 0 0 0 0 0 0 0 0\n",
      " 0 0 0 0 0 0 0 0 0 0 0 0 0 0 0 0 0 0 0 0 0 0 0 0 0 0 0 0 0 0 0 0 0 0 0 0 0\n",
      " 0 0 0 0 0 0 0 0 0 0 0 0 0 0 0 0 0 0 0 0 0 0 0 0 0 0 0 0 0 0 0]\n"
     ]
    }
   ],
   "source": [
    "from sklearn.linear_model import LogisticRegression\n",
    "logreg = LogisticRegression(max_iter=10000, class_weight=None)\n",
    "logreg.fit(X_train,Y_train)\n",
    "p_pred = logreg.predict_proba(X_test)   ### la regression logistique prédit des proba, puis elle les classe selon un seui, par defaut c'est 0.5\n",
    "y_pred = logreg.predict(X_test)\n",
    "\n",
    "print(y_pred)"
   ]
  },
  {
   "cell_type": "code",
   "execution_count": 426,
   "id": "f83d5cc7",
   "metadata": {},
   "outputs": [
    {
     "name": "stdout",
     "output_type": "stream",
     "text": [
      "              precision    recall  f1-score   support\n",
      "\n",
      "           0       0.80      1.00      0.89       411\n",
      "           1       0.00      0.00      0.00       101\n",
      "\n",
      "    accuracy                           0.80       512\n",
      "   macro avg       0.40      0.50      0.45       512\n",
      "weighted avg       0.64      0.80      0.71       512\n",
      "\n"
     ]
    },
    {
     "name": "stderr",
     "output_type": "stream",
     "text": [
      "C:\\Users\\User\\anaconda3\\lib\\site-packages\\sklearn\\metrics\\_classification.py:1327: UndefinedMetricWarning: Precision and F-score are ill-defined and being set to 0.0 in labels with no predicted samples. Use `zero_division` parameter to control this behavior.\n",
      "  _warn_prf(average, modifier, msg_start, len(result))\n",
      "C:\\Users\\User\\anaconda3\\lib\\site-packages\\sklearn\\metrics\\_classification.py:1327: UndefinedMetricWarning: Precision and F-score are ill-defined and being set to 0.0 in labels with no predicted samples. Use `zero_division` parameter to control this behavior.\n",
      "  _warn_prf(average, modifier, msg_start, len(result))\n",
      "C:\\Users\\User\\anaconda3\\lib\\site-packages\\sklearn\\metrics\\_classification.py:1327: UndefinedMetricWarning: Precision and F-score are ill-defined and being set to 0.0 in labels with no predicted samples. Use `zero_division` parameter to control this behavior.\n",
      "  _warn_prf(average, modifier, msg_start, len(result))\n"
     ]
    }
   ],
   "source": [
    "from sklearn.metrics import classification_report\n",
    "\n",
    "print(classification_report(Y_test, y_pred))\n",
    "\n",
    "#### les resultats ne sont pas du tout satifaisants, on va résoudre ceci, je veux procéder par deux façons de codes"
   ]
  },
  {
   "cell_type": "code",
   "execution_count": 427,
   "id": "f038459b",
   "metadata": {},
   "outputs": [
    {
     "data": {
      "text/plain": [
       "{1}"
      ]
     },
     "execution_count": 427,
     "metadata": {},
     "output_type": "execute_result"
    }
   ],
   "source": [
    "set(Y_test) - set(y_pred) #### pas de prediction de la classe 1 !"
   ]
  },
  {
   "cell_type": "code",
   "execution_count": null,
   "id": "0a4a211d",
   "metadata": {},
   "outputs": [],
   "source": [
    "###### RESOLVONS LE PROBLEME DE PREDICTION DE LA CLASSE 1 - REGRESSION LOGISTIQUE"
   ]
  },
  {
   "cell_type": "code",
   "execution_count": 428,
   "id": "671d1203",
   "metadata": {},
   "outputs": [],
   "source": [
    "\n",
    "class LogisticRegressionWithThreshold(LogisticRegression):\n",
    "    def predict(s, X, threshold=None):\n",
    "        if threshold == None: # If no threshold passed in, simply call the base class predict, effectively threshold=0.5\n",
    "            return LogisticRegression.predict(s, X)\n",
    "        else:\n",
    "            y_scores = LogisticRegression.predict_proba(s, X)[:, 1]\n",
    "            y_pred_with_threshold = (y_scores >= threshold).astype(int)\n",
    "\n",
    "            return y_pred_with_threshold\n",
    "    \n",
    "    def threshold_from_optimal_tpr_minus_fpr(s, X, y):\n",
    "        y_scores = LogisticRegression.predict_proba(s, X)[:, 1]\n",
    "        fpr, tpr, thresholds = roc_curve(y, y_scores) \n",
    "\n",
    "        optimal_idx = np.argmax(tpr - fpr)\n",
    "\n",
    "        return thresholds[optimal_idx], tpr[optimal_idx] - fpr[optimal_idx]\n"
   ]
  },
  {
   "cell_type": "code",
   "execution_count": 429,
   "id": "b10bd60e",
   "metadata": {},
   "outputs": [
    {
     "data": {
      "text/plain": [
       "(0.17801236775550086, 0.18507595891585704)"
      ]
     },
     "execution_count": 429,
     "metadata": {},
     "output_type": "execute_result"
    }
   ],
   "source": [
    "\n",
    "logregoptimal = LogisticRegressionWithThreshold(max_iter=10000)\n",
    "logregoptimal.fit(X_train, Y_train)\n",
    "\n",
    "threshold, optimal_tpr_minus_fpr = logregoptimal.threshold_from_optimal_tpr_minus_fpr(X_train, Y_train)\n",
    "y_predlogregoptimal = logregoptimal.predict(X_test, threshold)\n",
    "\n",
    "threshold, optimal_tpr_minus_fpr\n"
   ]
  },
  {
   "cell_type": "code",
   "execution_count": 430,
   "id": "856e516b",
   "metadata": {},
   "outputs": [
    {
     "data": {
      "text/plain": [
       "array([1, 1, 1, 1, 1, 0, 1, 1, 0, 0, 1, 1, 0, 1, 1, 1, 0, 1, 0, 1, 1, 0,\n",
       "       0, 0, 0, 0, 1, 1, 1, 0, 0, 1, 0, 0, 0, 1, 1, 1, 1, 1, 0, 0, 0, 1,\n",
       "       0, 1, 0, 0, 1, 0, 1, 1, 1, 1, 0, 1, 0, 1, 1, 0, 1, 1, 0, 0, 1, 0,\n",
       "       1, 1, 1, 1, 1, 1, 0, 1, 1, 1, 0, 1, 0, 0, 0, 1, 1, 1, 1, 0, 1, 1,\n",
       "       1, 1, 1, 0, 0, 1, 0, 0, 1, 1, 1, 1, 1, 1, 0, 1, 1, 0, 0, 1, 1, 1,\n",
       "       1, 1, 1, 1, 0, 1, 1, 1, 1, 0, 0, 0, 0, 0, 1, 1, 0, 1, 1, 1, 0, 1,\n",
       "       1, 1, 1, 1, 1, 0, 1, 0, 0, 1, 1, 1, 1, 1, 1, 0, 0, 0, 0, 1, 1, 1,\n",
       "       1, 1, 0, 1, 1, 1, 0, 0, 1, 1, 1, 1, 0, 0, 0, 0, 1, 0, 1, 1, 1, 1,\n",
       "       1, 0, 1, 1, 0, 1, 1, 1, 1, 0, 0, 1, 0, 0, 1, 1, 1, 1, 1, 1, 0, 1,\n",
       "       1, 1, 1, 1, 0, 1, 0, 1, 1, 1, 1, 1, 1, 0, 1, 1, 0, 1, 0, 1, 1, 0,\n",
       "       1, 0, 0, 1, 1, 1, 1, 1, 1, 1, 0, 1, 1, 1, 1, 1, 1, 1, 1, 1, 1, 1,\n",
       "       1, 1, 1, 0, 0, 1, 0, 1, 0, 0, 1, 1, 0, 1, 0, 0, 1, 1, 1, 1, 1, 1,\n",
       "       0, 1, 1, 0, 1, 0, 1, 0, 0, 1, 1, 1, 1, 1, 1, 0, 0, 0, 0, 1, 0, 1,\n",
       "       0, 1, 0, 1, 1, 0, 1, 0, 1, 1, 0, 0, 0, 0, 1, 0, 1, 1, 1, 1, 0, 1,\n",
       "       0, 0, 1, 1, 1, 1, 1, 0, 0, 0, 1, 1, 1, 1, 1, 1, 1, 0, 1, 1, 1, 1,\n",
       "       1, 1, 1, 1, 1, 0, 0, 0, 1, 1, 1, 1, 1, 1, 1, 0, 1, 0, 1, 1, 1, 1,\n",
       "       1, 0, 1, 1, 0, 1, 1, 1, 1, 1, 0, 1, 0, 0, 0, 1, 0, 0, 1, 0, 0, 1,\n",
       "       0, 1, 1, 1, 1, 0, 1, 0, 0, 0, 1, 1, 1, 1, 0, 0, 1, 0, 1, 1, 0, 1,\n",
       "       1, 0, 0, 1, 0, 1, 0, 1, 1, 1, 0, 0, 0, 0, 0, 0, 1, 1, 0, 1, 0, 1,\n",
       "       1, 0, 1, 0, 0, 1, 0, 1, 0, 1, 0, 0, 0, 0, 0, 0, 0, 1, 0, 1, 0, 0,\n",
       "       1, 0, 0, 0, 0, 1, 0, 0, 1, 1, 1, 1, 0, 0, 0, 1, 1, 0, 0, 0, 1, 1,\n",
       "       0, 1, 0, 1, 1, 0, 1, 0, 1, 0, 0, 0, 1, 1, 0, 1, 1, 1, 1, 1, 0, 1,\n",
       "       1, 1, 0, 0, 0, 1, 1, 0, 1, 0, 1, 1, 1, 1, 1, 1, 1, 1, 1, 1, 1, 0,\n",
       "       1, 0, 1, 0, 1, 1])"
      ]
     },
     "execution_count": 430,
     "metadata": {},
     "output_type": "execute_result"
    }
   ],
   "source": [
    "y_predlogregoptimal    #### Maintenant, avec le seuil optimal, il predit la classe 1 !"
   ]
  },
  {
   "cell_type": "code",
   "execution_count": 431,
   "id": "4dd9b492",
   "metadata": {},
   "outputs": [
    {
     "name": "stdout",
     "output_type": "stream",
     "text": [
      "[[169 242]\n",
      " [ 26  75]]\n",
      "\n",
      "True Negatives(TN) =  169\n",
      "\n",
      "True Positives(TP) =  75\n",
      "\n",
      "False Positives(FP) =  242\n",
      "\n",
      "False Negatives(FN) =  26\n"
     ]
    }
   ],
   "source": [
    "######### Evaluate the model (test de performance)\n",
    "from sklearn import metrics\n",
    "from sklearn.metrics import confusion_matrix ###3 show tp, tn, fp et fn\n",
    "\n",
    "########## matrice de confusion\n",
    "confusion_matrix_logreg = metrics.confusion_matrix(Y_test, y_predlogregoptimal)\n",
    "\n",
    "print(confusion_matrix_logreg)\n",
    "\n",
    "print('\\nTrue Negatives(TN) = ', confusion_matrix_logreg[0,0])\n",
    "\n",
    "print('\\nTrue Positives(TP) = ', confusion_matrix_logreg[1,1])\n",
    "\n",
    "print('\\nFalse Positives(FP) = ', confusion_matrix_logreg[0,1])\n",
    "\n",
    "print('\\nFalse Negatives(FN) = ', confusion_matrix_logreg[1,0])"
   ]
  },
  {
   "cell_type": "code",
   "execution_count": 432,
   "id": "9af2a959",
   "metadata": {},
   "outputs": [
    {
     "name": "stdout",
     "output_type": "stream",
     "text": [
      "<sklearn.metrics._plot.confusion_matrix.ConfusionMatrixDisplay object at 0x0000019ED5438EB0>\n"
     ]
    },
    {
     "data": {
      "image/png": "[encoded data removed]",
      "text/plain": [
       "<Figure size 432x288 with 2 Axes>"
      ]
     },
     "metadata": {
      "needs_background": "light"
     },
     "output_type": "display_data"
    }
   ],
   "source": [
    "cm_display_logreg = metrics.ConfusionMatrixDisplay(confusion_matrix = confusion_matrix_logreg, display_labels = [False, True])\n",
    "\n",
    "print(cm_display_logreg)\n",
    "cm_display_logreg.plot()\n",
    "plt.show()"
   ]
  },
  {
   "cell_type": "code",
   "execution_count": 433,
   "id": "d638e641",
   "metadata": {},
   "outputs": [
    {
     "name": "stdout",
     "output_type": "stream",
     "text": [
      "              precision    recall  f1-score   support\n",
      "\n",
      "           0       0.87      0.41      0.56       411\n",
      "           1       0.24      0.74      0.36       101\n",
      "\n",
      "    accuracy                           0.48       512\n",
      "   macro avg       0.55      0.58      0.46       512\n",
      "weighted avg       0.74      0.48      0.52       512\n",
      "\n"
     ]
    }
   ],
   "source": [
    "from sklearn.metrics import classification_report\n",
    "\n",
    "print(classification_report(Y_test, y_predlogregoptimal))  ### les resultats sont satisfaisants en comparant au résultats précédents"
   ]
  },
  {
   "cell_type": "code",
   "execution_count": 434,
   "id": "fd32fcb0",
   "metadata": {},
   "outputs": [
    {
     "name": "stdout",
     "output_type": "stream",
     "text": [
      "Number of mislabeled points out of a total 512 points : 268\n"
     ]
    }
   ],
   "source": [
    "print(\"Number of mislabeled points out of a total %d points : %d\"\n",
    "...       % (X_test.shape[0], (Y_test != y_predlogregoptimal).sum()))"
   ]
  },
  {
   "cell_type": "code",
   "execution_count": 435,
   "id": "3bc60ce8",
   "metadata": {},
   "outputs": [
    {
     "name": "stdout",
     "output_type": "stream",
     "text": [
      "Accuracy= 47.65625\n",
      "f1.score= 35.885167464114836\n",
      "precision.score= 23.65930599369085\n",
      "recall_score= 74.25742574257426\n",
      "Specificity= 0.41119221411192214\n"
     ]
    }
   ],
   "source": [
    "accuracyscore = metrics.accuracy_score(Y_test, y_predlogregoptimal)*100\n",
    "print (\"Accuracy=\", accuracyscore)\n",
    "\n",
    "f1score = metrics.f1_score(Y_test,y_predlogregoptimal)*100\n",
    "print (\"f1.score=\", f1score)\n",
    "\n",
    "precisionscore = metrics.precision_score(Y_test,y_predlogregoptimal)*100\n",
    "print (\"precision.score=\", precisionscore)\n",
    "\n",
    "recallscore = recall_score(Y_test,y_predlogregoptimal)*100\n",
    "print (\"recall_score=\", recallscore)\n",
    "\n",
    "specificityscore = metrics.recall_score(Y_test, y_predlogregoptimal, pos_label=0)\n",
    "print(\"Specificity=\", specificityscore)"
   ]
  },
  {
   "cell_type": "code",
   "execution_count": 436,
   "id": "bb3c2855",
   "metadata": {},
   "outputs": [
    {
     "name": "stdout",
     "output_type": "stream",
     "text": [
      "AUC Régression Logistique= 0.6818433668184336\n"
     ]
    },
    {
     "data": {
      "image/png": "[encoded data removed]",
      "text/plain": [
       "<Figure size 432x288 with 1 Axes>"
      ]
     },
     "metadata": {
      "needs_background": "light"
     },
     "output_type": "display_data"
    }
   ],
   "source": [
    "######## COURBE DE ROC\n",
    "\n",
    "import sklearn.metrics as metrics\n",
    "from sklearn.metrics import roc_auc_score\n",
    "from sklearn.metrics import roc_curve\n",
    "# calculate the fpr and tpr for all thresholds of the classification\n",
    "prob = logregoptimal.predict_proba(X_test)\n",
    "pred = prob[:,1]\n",
    "fpr_l, tpr_l, threshold = metrics.roc_curve(Y_test, pred)\n",
    "roc_auc = metrics.auc(fpr_r, tpr_r)\n",
    "print(\"AUC Régression Logistique=\", roc_auc)\n",
    "auc_l = roc_auc_score(Y_test, pred)\n",
    "\n",
    "import matplotlib.pyplot as plt\n",
    "plt.title('Courbe de ROC - Régression Logistique')\n",
    "plt.plot(fpr_r, tpr_r, 'b', label = 'AUC = %0.2f' % auc_l)\n",
    "plt.legend(loc = 'lower right')\n",
    "plt.plot([0, 1], [0, 1],'r--')\n",
    "plt.xlim([0, 1])\n",
    "plt.ylim([0, 1])\n",
    "plt.ylabel('True Positive Rate - Sensitivity')\n",
    "plt.xlabel('False Positive Rate - (1-Specificity)')\n",
    "plt.show()"
   ]
  },
  {
   "cell_type": "code",
   "execution_count": 437,
   "id": "dd9664f4",
   "metadata": {},
   "outputs": [
    {
     "data": {
      "text/plain": [
       "[0.803921568627451]"
      ]
     },
     "execution_count": 437,
     "metadata": {},
     "output_type": "execute_result"
    }
   ],
   "source": [
    "##### CROSS VALIDATION                                 REGRESSION LOGISTIQUE\n",
    "\n",
    "from sklearn.model_selection import StratifiedKFold\n",
    "from sklearn.model_selection import cross_val_score\n",
    "from statistics import mean\n",
    "\n",
    "skf = StratifiedKFold(n_splits=10, shuffle=True, random_state=1) \n",
    "lst_accu_stratified = []\n",
    "\n",
    "for train_index, test_index in skf.split(X, Y): \n",
    "    X_train_fold, X_test_fold = X.iloc[train_index], X.iloc[test_index] \n",
    "    Y_train_fold, Y_test_fold = X.iloc[train_index], Y.iloc[test_index] \n",
    "     \n",
    "lst_accu_stratified.append(logregoptimal.score(X_test_fold, Y_test_fold))\n",
    "\n",
    "lst_accu_stratified "
   ]
  },
  {
   "cell_type": "code",
   "execution_count": 438,
   "id": "5b020794",
   "metadata": {},
   "outputs": [
    {
     "data": {
      "text/plain": [
       "array([0, 0, 0, 0, 0, 0, 0, 0, 0, 0, 0, 0, 0, 0, 0, 0, 0, 0, 0, 0, 0, 0,\n",
       "       0, 0, 0, 0, 0, 0, 0, 0, 0, 0, 0, 0, 0, 1, 0, 1, 0, 0, 0, 0, 0, 0,\n",
       "       0, 0, 0, 0, 0, 0, 0, 0, 0, 0, 0, 0, 0, 0, 0, 0, 0, 0, 0, 0, 0, 0,\n",
       "       0, 0, 1, 0, 0, 0, 0, 0, 0, 1, 0, 0, 0, 0, 0, 0, 1, 0, 0, 0, 1, 0,\n",
       "       0, 0, 1, 0, 0, 0, 0, 0, 1, 0, 0, 0, 0, 0, 0, 0, 0, 0, 1, 0, 0, 0,\n",
       "       0, 0, 0, 0, 0, 0, 0, 0, 1, 0, 0, 0, 0, 0, 0, 0, 0, 1, 0, 0, 0, 0,\n",
       "       1, 0, 0, 0, 0, 0, 1, 0, 0, 0, 0, 0, 0, 0, 0, 0, 0, 0, 0, 0, 0, 0,\n",
       "       0, 0, 0, 0, 0, 0, 0, 0, 0, 0, 0, 0, 0, 0, 0, 0, 0, 0, 1, 0, 1, 1,\n",
       "       0, 0, 0, 0, 0, 0, 0, 0, 0, 0, 0, 0, 0, 0, 0, 0, 0, 0, 0, 0, 0, 0,\n",
       "       0, 0, 0, 0, 0, 1, 0, 0, 1, 0, 0, 0, 0, 0, 0, 0, 0, 1, 0, 0, 0, 0,\n",
       "       0, 0, 0, 0, 0, 0, 1, 0, 1, 0, 0, 0, 0, 1, 0, 0, 0, 0, 0, 0, 1, 0,\n",
       "       0, 1, 0, 1, 0, 0, 0, 0, 0, 0, 0, 0, 0, 0, 0, 0, 0, 0, 1, 0, 0, 0,\n",
       "       0, 0, 0, 0, 1, 0, 0, 0, 0, 0, 0, 0, 1, 0, 0, 0, 0, 0, 0, 0, 0, 0,\n",
       "       0, 0, 0, 0, 0, 0, 0, 0, 0, 0, 0, 0, 0, 0, 0, 0, 0, 0, 0, 0, 0, 0,\n",
       "       0, 0, 0, 0, 0, 0, 0, 0, 0, 0, 0, 0, 0, 0, 0, 0, 0, 0, 0, 0, 0, 0,\n",
       "       0, 0, 0, 0, 0, 0, 0, 0, 0, 0, 0, 0, 0, 0, 0, 0, 1, 0, 0, 0, 0, 0,\n",
       "       0, 0, 0, 0, 0, 0, 0, 1, 0, 1, 0, 0, 0, 0, 0, 0, 0, 0, 0, 0, 0, 0,\n",
       "       0, 0, 0, 0, 0, 0, 0, 0, 1, 0, 0, 0, 1, 0, 0, 0, 0, 0, 0, 0, 0, 0,\n",
       "       0, 0, 0, 1, 0, 0, 0, 0, 0, 0, 0, 0, 0, 0, 0, 0, 0, 0, 0, 0, 0, 0,\n",
       "       0, 0, 1, 0, 0, 0, 0, 0, 0, 0, 0, 0, 0, 0, 0, 0, 0, 0, 0, 0, 0, 0,\n",
       "       0, 0, 0, 0, 0, 0, 0, 0, 0, 0, 0, 0, 0, 0, 0, 0, 0, 0, 0, 0, 0, 0,\n",
       "       0, 0, 0, 0, 0, 0, 0, 0, 0, 0, 0, 0, 0, 0, 0, 0, 0, 0, 0, 0, 0, 1,\n",
       "       0, 0, 0, 0, 0, 1, 0, 0, 0, 0, 0, 1, 0, 0, 0, 0, 0, 0, 0, 0, 0, 0,\n",
       "       0, 0, 1, 0, 0, 0])"
      ]
     },
     "execution_count": 438,
     "metadata": {},
     "output_type": "execute_result"
    }
   ],
   "source": [
    "######################################## K-NEAREST NEIGHBORS\n",
    "\n",
    "from sklearn.neighbors import KNeighborsClassifier\n",
    "knnmodel = KNeighborsClassifier(n_neighbors=5)  ######### par defaut c'est 5\n",
    "knnmodel.fit(X_train,Y_train)\n",
    "knn_pred = knnmodel.predict(X_test)\n",
    "knn_pred"
   ]
  },
  {
   "cell_type": "code",
   "execution_count": 439,
   "id": "74c1f566",
   "metadata": {},
   "outputs": [
    {
     "name": "stdout",
     "output_type": "stream",
     "text": [
      "              precision    recall  f1-score   support\n",
      "\n",
      "           0       0.81      0.94      0.87       411\n",
      "           1       0.33      0.13      0.19       101\n",
      "\n",
      "    accuracy                           0.78       512\n",
      "   macro avg       0.57      0.53      0.53       512\n",
      "weighted avg       0.72      0.78      0.74       512\n",
      "\n"
     ]
    }
   ],
   "source": [
    "print(classification_report(Y_test,knn_pred))"
   ]
  },
  {
   "cell_type": "code",
   "execution_count": 440,
   "id": "d8880292",
   "metadata": {},
   "outputs": [
    {
     "name": "stdout",
     "output_type": "stream",
     "text": [
      "[[385  26]\n",
      " [ 88  13]]\n",
      "\n",
      "True Negatives(TN) =  385\n",
      "\n",
      "True Positives(TP) =  13\n",
      "\n",
      "False Positives(FP) =  26\n",
      "\n",
      "False Negatives(FN) =  88\n"
     ]
    }
   ],
   "source": [
    "######### Evaluate the model (test de performance)\n",
    "\n",
    "########## matrice de confusion\n",
    "confusion_matrix_knn = metrics.confusion_matrix(Y_test, knn_pred)\n",
    "\n",
    "print(confusion_matrix_knn)\n",
    "\n",
    "print('\\nTrue Negatives(TN) = ', confusion_matrix_knn[0,0])\n",
    "\n",
    "print('\\nTrue Positives(TP) = ', confusion_matrix_knn[1,1])\n",
    "\n",
    "print('\\nFalse Positives(FP) = ', confusion_matrix_knn[0,1])\n",
    "\n",
    "print('\\nFalse Negatives(FN) = ', confusion_matrix_knn[1,0])"
   ]
  },
  {
   "cell_type": "code",
   "execution_count": 441,
   "id": "aa987bd0",
   "metadata": {},
   "outputs": [
    {
     "name": "stdout",
     "output_type": "stream",
     "text": [
      "<sklearn.metrics._plot.confusion_matrix.ConfusionMatrixDisplay object at 0x0000019ED5486E20>\n"
     ]
    },
    {
     "data": {
      "image/png": "[encoded data removed]",
      "text/plain": [
       "<Figure size 432x288 with 2 Axes>"
      ]
     },
     "metadata": {
      "needs_background": "light"
     },
     "output_type": "display_data"
    }
   ],
   "source": [
    "cm_display_knn = metrics.ConfusionMatrixDisplay(confusion_matrix = confusion_matrix_knn, display_labels = [False, True])\n",
    "\n",
    "print(cm_display_knn)\n",
    "cm_display_knn.plot()\n",
    "plt.show()"
   ]
  },
  {
   "cell_type": "code",
   "execution_count": 442,
   "id": "b224c4c7",
   "metadata": {},
   "outputs": [
    {
     "name": "stdout",
     "output_type": "stream",
     "text": [
      "              precision    recall  f1-score   support\n",
      "\n",
      "           0       0.81      0.94      0.87       411\n",
      "           1       0.33      0.13      0.19       101\n",
      "\n",
      "    accuracy                           0.78       512\n",
      "   macro avg       0.57      0.53      0.53       512\n",
      "weighted avg       0.72      0.78      0.74       512\n",
      "\n"
     ]
    }
   ],
   "source": [
    "from sklearn.metrics import classification_report\n",
    "\n",
    "print(classification_report(Y_test, knn_pred))  "
   ]
  },
  {
   "cell_type": "code",
   "execution_count": 443,
   "id": "76277606",
   "metadata": {},
   "outputs": [
    {
     "name": "stdout",
     "output_type": "stream",
     "text": [
      "Number of mislabeled points out of a total 512 points : 114\n"
     ]
    }
   ],
   "source": [
    "print(\"Number of mislabeled points out of a total %d points : %d\"\n",
    "...       % (X_test.shape[0], (Y_test != knn_pred).sum()))"
   ]
  },
  {
   "cell_type": "code",
   "execution_count": 444,
   "id": "b8b1f5f8",
   "metadata": {},
   "outputs": [
    {
     "name": "stdout",
     "output_type": "stream",
     "text": [
      "Accuracy= 77.734375\n",
      "f1.score= 18.571428571428573\n",
      "precision.score= 33.33333333333333\n",
      "recall_score= 12.871287128712872\n",
      "Specificity= 0.9367396593673966\n"
     ]
    }
   ],
   "source": [
    "accuracyscore = metrics.accuracy_score(Y_test, knn_pred)*100\n",
    "print (\"Accuracy=\", accuracyscore)\n",
    "\n",
    "f1score = metrics.f1_score(Y_test, knn_pred)*100\n",
    "print (\"f1.score=\", f1score)\n",
    "\n",
    "precisionscore = metrics.precision_score(Y_test, knn_pred)*100\n",
    "print (\"precision.score=\", precisionscore)\n",
    "\n",
    "recallscore = recall_score(Y_test, knn_pred)*100\n",
    "print (\"recall_score=\", recallscore)\n",
    "\n",
    "specificityscore = metrics.recall_score(Y_test, knn_pred, pos_label=0)\n",
    "print(\"Specificity=\", specificityscore)"
   ]
  },
  {
   "cell_type": "code",
   "execution_count": 445,
   "id": "e6c74b8e",
   "metadata": {},
   "outputs": [
    {
     "name": "stdout",
     "output_type": "stream",
     "text": [
      "AUC KNN= 0.6302064513020645\n"
     ]
    },
    {
     "data": {
      "image/png": "[encoded data removed]",
      "text/plain": [
       "<Figure size 432x288 with 1 Axes>"
      ]
     },
     "metadata": {
      "needs_background": "light"
     },
     "output_type": "display_data"
    }
   ],
   "source": [
    "######## COURBE DE ROC\n",
    "\n",
    "import sklearn.metrics as metrics\n",
    "from sklearn.metrics import roc_auc_score\n",
    "from sklearn.metrics import roc_curve\n",
    "# calculate the fpr and tpr for all thresholds of the classification\n",
    "prob = knnmodel.predict_proba(X_test)\n",
    "pred = prob[:,1]\n",
    "fpr_k, tpr_k, threshold = metrics.roc_curve(Y_test, pred)\n",
    "roc_auc = metrics.auc(fpr_k, tpr_k)\n",
    "print(\"AUC KNN=\", roc_auc)\n",
    "auc_k = roc_auc_score(Y_test, pred)\n",
    "\n",
    "import matplotlib.pyplot as plt\n",
    "plt.title('Courbe de ROC - KNN')\n",
    "plt.plot(fpr_k, tpr_k, 'b', label = 'AUC = %0.2f' % auc_k)\n",
    "plt.legend(loc = 'lower right')\n",
    "plt.plot([0, 1], [0, 1],'r--')\n",
    "plt.xlim([0, 1])\n",
    "plt.ylim([0, 1])\n",
    "plt.ylabel('True Positive Rate - Sensitivity')\n",
    "plt.xlabel('False Positive Rate - (1-Specificity)')\n",
    "plt.show()"
   ]
  },
  {
   "cell_type": "code",
   "execution_count": 446,
   "id": "a7d8ad86",
   "metadata": {},
   "outputs": [
    {
     "data": {
      "text/plain": [
       "[0.8431372549019608]"
      ]
     },
     "execution_count": 446,
     "metadata": {},
     "output_type": "execute_result"
    }
   ],
   "source": [
    "##### CROSS VALIDATION                                 KNN\n",
    "\n",
    "from sklearn.model_selection import StratifiedKFold\n",
    "from sklearn.model_selection import cross_val_score\n",
    "from statistics import mean\n",
    "\n",
    "skf = StratifiedKFold(n_splits=10, shuffle=True, random_state=1) \n",
    "lst_accu_stratified = []\n",
    "\n",
    "for train_index, test_index in skf.split(X, Y): \n",
    "    X_train_fold_knn, X_test_fold_knn = X.iloc[train_index], X.iloc[test_index] \n",
    "    Y_train_fold_knn, Y_test_fold_knn = X.iloc[train_index], Y.iloc[test_index] \n",
    "     \n",
    "lst_accu_stratified.append(knnmodel.score(X_test_fold_knn, Y_test_fold_knn))\n",
    "\n",
    "lst_accu_stratified "
   ]
  },
  {
   "cell_type": "code",
   "execution_count": 447,
   "id": "f7e3a313",
   "metadata": {},
   "outputs": [
    {
     "name": "stdout",
     "output_type": "stream",
     "text": [
      "Accuracy= 77.734375\n",
      "f1.score= 18.571428571428573\n",
      "precision.score= 33.33333333333333\n",
      "recall_score= 12.871287128712872\n",
      "Specificity= 0.9367396593673966\n"
     ]
    }
   ],
   "source": [
    "accuracyscore = metrics.accuracy_score(Y_test, knn_pred)*100\n",
    "print (\"Accuracy=\", accuracyscore)\n",
    "\n",
    "f1score = metrics.f1_score(Y_test, knn_pred)*100\n",
    "print (\"f1.score=\", f1score)\n",
    "\n",
    "precisionscore = metrics.precision_score(Y_test, knn_pred)*100\n",
    "print (\"precision.score=\", precisionscore)\n",
    "\n",
    "recallscore = recall_score(Y_test, knn_pred)*100\n",
    "print (\"recall_score=\", recallscore)\n",
    "\n",
    "specificityscore = metrics.recall_score(Y_test, knn_pred, pos_label=0)\n",
    "print(\"Specificity=\", specificityscore)"
   ]
  },
  {
   "cell_type": "code",
   "execution_count": 448,
   "id": "10f6448d",
   "metadata": {},
   "outputs": [
    {
     "data": {
      "text/plain": [
       "array([0, 0, 1, 0, 0, 0, 0, 0, 0, 0, 1, 0, 0, 0, 0, 1, 1, 1, 0, 1, 1, 0,\n",
       "       0, 0, 0, 0, 0, 0, 0, 1, 1, 0, 0, 0, 0, 1, 1, 0, 0, 0, 1, 0, 0, 0,\n",
       "       1, 1, 0, 0, 0, 0, 0, 0, 0, 0, 0, 0, 0, 1, 0, 0, 1, 0, 0, 0, 0, 0,\n",
       "       0, 0, 0, 1, 0, 0, 0, 0, 1, 1, 0, 0, 0, 0, 0, 0, 1, 0, 0, 0, 1, 0,\n",
       "       0, 0, 1, 0, 0, 0, 0, 0, 0, 1, 1, 1, 0, 0, 0, 0, 1, 0, 0, 0, 1, 0,\n",
       "       0, 0, 0, 0, 0, 0, 0, 0, 1, 0, 0, 0, 0, 0, 0, 0, 0, 1, 0, 0, 0, 0,\n",
       "       0, 0, 0, 0, 0, 0, 0, 1, 0, 1, 0, 0, 0, 0, 0, 0, 0, 1, 0, 0, 0, 1,\n",
       "       0, 1, 0, 0, 0, 0, 0, 0, 0, 0, 0, 0, 0, 0, 0, 0, 0, 0, 1, 0, 0, 1,\n",
       "       0, 0, 0, 0, 0, 0, 0, 1, 1, 0, 0, 0, 0, 0, 0, 0, 0, 0, 0, 0, 0, 0,\n",
       "       1, 0, 0, 0, 0, 1, 0, 0, 0, 0, 0, 0, 1, 0, 1, 0, 0, 0, 0, 0, 0, 0,\n",
       "       1, 0, 0, 1, 1, 1, 0, 1, 1, 0, 1, 0, 1, 0, 1, 0, 1, 0, 0, 1, 0, 1,\n",
       "       0, 0, 1, 1, 0, 0, 0, 0, 0, 0, 0, 0, 0, 0, 0, 0, 0, 1, 1, 0, 0, 0,\n",
       "       0, 0, 1, 0, 0, 0, 0, 0, 0, 0, 0, 0, 1, 0, 0, 0, 0, 0, 0, 0, 0, 0,\n",
       "       0, 1, 1, 0, 0, 1, 0, 0, 0, 0, 0, 0, 0, 0, 0, 1, 0, 0, 1, 0, 0, 0,\n",
       "       0, 0, 0, 0, 1, 0, 0, 1, 0, 0, 0, 0, 0, 0, 0, 1, 0, 0, 1, 0, 1, 0,\n",
       "       0, 0, 0, 1, 0, 1, 0, 0, 0, 0, 0, 1, 0, 1, 0, 1, 1, 0, 0, 0, 0, 0,\n",
       "       0, 0, 0, 0, 0, 1, 1, 1, 1, 1, 0, 0, 0, 0, 0, 0, 0, 0, 0, 0, 0, 0,\n",
       "       1, 0, 0, 0, 0, 0, 0, 0, 0, 1, 0, 0, 0, 0, 0, 1, 0, 1, 0, 0, 0, 0,\n",
       "       0, 1, 0, 1, 0, 0, 0, 0, 0, 0, 0, 1, 0, 0, 0, 0, 0, 1, 1, 1, 0, 0,\n",
       "       0, 0, 1, 0, 1, 0, 0, 0, 1, 0, 0, 0, 0, 0, 0, 0, 0, 0, 0, 0, 0, 0,\n",
       "       0, 0, 0, 0, 0, 0, 0, 0, 0, 0, 1, 0, 1, 0, 0, 0, 0, 0, 1, 0, 1, 1,\n",
       "       0, 0, 0, 0, 0, 0, 1, 1, 1, 0, 0, 0, 1, 0, 1, 0, 0, 1, 0, 0, 0, 0,\n",
       "       0, 0, 1, 0, 0, 0, 0, 0, 0, 1, 0, 1, 0, 0, 0, 0, 1, 0, 0, 0, 0, 0,\n",
       "       0, 0, 0, 0, 0, 1])"
      ]
     },
     "execution_count": 448,
     "metadata": {},
     "output_type": "execute_result"
    }
   ],
   "source": [
    "########################     DECISION TREE\n",
    "\n",
    "from sklearn import tree\n",
    "decision_tree_model = tree.DecisionTreeClassifier()\n",
    "decision_tree_model.fit(X_train,Y_train)\n",
    "y_decisiontree = decision_tree_model.predict(X_test)\n",
    "y_decisiontree"
   ]
  },
  {
   "cell_type": "code",
   "execution_count": 449,
   "id": "848ff337",
   "metadata": {},
   "outputs": [
    {
     "name": "stdout",
     "output_type": "stream",
     "text": [
      "              precision    recall  f1-score   support\n",
      "\n",
      "           0       0.84      0.82      0.83       411\n",
      "           1       0.32      0.35      0.33       101\n",
      "\n",
      "    accuracy                           0.72       512\n",
      "   macro avg       0.58      0.58      0.58       512\n",
      "weighted avg       0.73      0.72      0.73       512\n",
      "\n"
     ]
    }
   ],
   "source": [
    "print(classification_report(Y_test, y_decisiontree))"
   ]
  },
  {
   "cell_type": "code",
   "execution_count": 450,
   "id": "db4217ec",
   "metadata": {},
   "outputs": [
    {
     "name": "stdout",
     "output_type": "stream",
     "text": [
      "[[336  75]\n",
      " [ 66  35]]\n",
      "\n",
      "True Negatives(TN) =  336\n",
      "\n",
      "True Positives(TP) =  35\n",
      "\n",
      "False Positives(FP) =  75\n",
      "\n",
      "False Negatives(FN) =  66\n"
     ]
    }
   ],
   "source": [
    "########## matrice de confusion\n",
    "confusion_matrix_decision_tree = metrics.confusion_matrix(Y_test, y_decisiontree)\n",
    "\n",
    "print(confusion_matrix_decision_tree)\n",
    "\n",
    "print('\\nTrue Negatives(TN) = ', confusion_matrix_decision_tree[0,0])\n",
    "\n",
    "print('\\nTrue Positives(TP) = ', confusion_matrix_decision_tree[1,1])\n",
    "\n",
    "print('\\nFalse Positives(FP) = ', confusion_matrix_decision_tree[0,1])\n",
    "\n",
    "print('\\nFalse Negatives(FN) = ', confusion_matrix_decision_tree[1,0])"
   ]
  },
  {
   "cell_type": "code",
   "execution_count": 451,
   "id": "6d6ba700",
   "metadata": {},
   "outputs": [
    {
     "name": "stdout",
     "output_type": "stream",
     "text": [
      "<sklearn.metrics._plot.confusion_matrix.ConfusionMatrixDisplay object at 0x0000019ED542D880>\n"
     ]
    },
    {
     "data": {
      "image/png": "[encoded data removed]",
      "text/plain": [
       "<Figure size 432x288 with 2 Axes>"
      ]
     },
     "metadata": {
      "needs_background": "light"
     },
     "output_type": "display_data"
    }
   ],
   "source": [
    "cm_display_decision_tree = metrics.ConfusionMatrixDisplay(confusion_matrix = confusion_matrix_decision_tree, display_labels = [False, True])\n",
    "\n",
    "print(cm_display_decision_tree)\n",
    "cm_display_decision_tree.plot()\n",
    "plt.show()"
   ]
  },
  {
   "cell_type": "code",
   "execution_count": 452,
   "id": "e0a51035",
   "metadata": {},
   "outputs": [
    {
     "name": "stdout",
     "output_type": "stream",
     "text": [
      "              precision    recall  f1-score   support\n",
      "\n",
      "           0       0.84      0.82      0.83       411\n",
      "           1       0.32      0.35      0.33       101\n",
      "\n",
      "    accuracy                           0.72       512\n",
      "   macro avg       0.58      0.58      0.58       512\n",
      "weighted avg       0.73      0.72      0.73       512\n",
      "\n"
     ]
    }
   ],
   "source": [
    "from sklearn.metrics import classification_report\n",
    "\n",
    "print(classification_report(Y_test,  y_decisiontree))  ### les resultats sont satisfaisants en comparant au résultats précédents"
   ]
  },
  {
   "cell_type": "code",
   "execution_count": 453,
   "id": "edda4e25",
   "metadata": {},
   "outputs": [
    {
     "name": "stdout",
     "output_type": "stream",
     "text": [
      "Accuracy= 72.4609375\n",
      "f1.score= 33.175355450236964\n",
      "precision.score= 31.818181818181817\n",
      "recall_score= 34.65346534653465\n",
      "Specificity= 0.8175182481751825\n"
     ]
    }
   ],
   "source": [
    "accuracyscore = metrics.accuracy_score(Y_test,y_decisiontree)*100\n",
    "print (\"Accuracy=\", accuracyscore)\n",
    "\n",
    "f1score = metrics.f1_score(Y_test,y_decisiontree)*100\n",
    "print (\"f1.score=\", f1score)\n",
    "\n",
    "precisionscore = metrics.precision_score(Y_test,y_decisiontree)*100\n",
    "print (\"precision.score=\", precisionscore)\n",
    "\n",
    "recallscore = recall_score(Y_test,y_decisiontree)*100\n",
    "print (\"recall_score=\", recallscore)\n",
    "\n",
    "specificityscore = metrics.recall_score(Y_test, y_decisiontree, pos_label=0)\n",
    "print(\"Specificity=\", specificityscore)"
   ]
  },
  {
   "cell_type": "code",
   "execution_count": 454,
   "id": "a95bd381",
   "metadata": {},
   "outputs": [
    {
     "name": "stdout",
     "output_type": "stream",
     "text": [
      "AUC Decision Tree= 0.5820264508202645\n"
     ]
    },
    {
     "data": {
      "image/png": "[encoded data removed]",
      "text/plain": [
       "<Figure size 432x288 with 1 Axes>"
      ]
     },
     "metadata": {
      "needs_background": "light"
     },
     "output_type": "display_data"
    }
   ],
   "source": [
    "######## COURBE DE ROC\n",
    "\n",
    "import sklearn.metrics as metrics\n",
    "from sklearn.metrics import roc_auc_score\n",
    "from sklearn.metrics import roc_curve\n",
    "# calculate the fpr and tpr for all thresholds of the classification\n",
    "prob = decision_tree_model.predict_proba(X_test)\n",
    "pred = prob[:,1]\n",
    "fpr_d, tpr_d, threshold = metrics.roc_curve(Y_test, pred)\n",
    "roc_auc = metrics.auc(fpr_d, tpr_d)\n",
    "print(\"AUC Decision Tree=\", roc_auc)\n",
    "auc_d = roc_auc_score(Y_test, pred)\n",
    "\n",
    "import matplotlib.pyplot as plt\n",
    "plt.title('Courbe de ROC - Decision Tree')\n",
    "plt.plot(fpr_d, tpr_d, 'b', label = 'AUC = %0.2f' % auc_d)\n",
    "plt.legend(loc = 'lower right')\n",
    "plt.plot([0, 1], [0, 1],'r--')\n",
    "plt.xlim([0, 1])\n",
    "plt.ylim([0, 1])\n",
    "plt.ylabel('True Positive Rate - Sensitivity')\n",
    "plt.xlabel('False Positive Rate - (1-Specificity)')\n",
    "plt.show()"
   ]
  },
  {
   "cell_type": "code",
   "execution_count": 455,
   "id": "0ccd6147",
   "metadata": {},
   "outputs": [
    {
     "data": {
      "text/plain": [
       "[0.8431372549019608]"
      ]
     },
     "execution_count": 455,
     "metadata": {},
     "output_type": "execute_result"
    }
   ],
   "source": [
    "##### CROSS VALIDATION                                \n",
    "\n",
    "skf = StratifiedKFold(n_splits=10, shuffle=True, random_state=1) \n",
    "lst_accu_stratified = []\n",
    "\n",
    "for train_index, test_index in skf.split(X, Y): \n",
    "    X_train_fold_decision, X_test_fold_decision = X.iloc[train_index], X.iloc[test_index] \n",
    "    Y_train_fold_decision, Y_test_fold_decision= X.iloc[train_index], Y.iloc[test_index] \n",
    "     \n",
    "lst_accu_stratified.append(knnmodel.score(X_test_fold_decision, Y_test_fold_decision))\n",
    "\n",
    "lst_accu_stratified "
   ]
  },
  {
   "cell_type": "code",
   "execution_count": 456,
   "id": "c0fa2317",
   "metadata": {},
   "outputs": [
    {
     "name": "stdout",
     "output_type": "stream",
     "text": [
      "Accuracy - Cross Validation:  71.77355332376854\n",
      "Precision - Cross Validation:  28.62941158741345\n",
      "Recall - Cross Validation:  32.951219512195124\n",
      "f1 - Cross Validation:  31.534112957454376\n",
      "roc_auc_crossval= [0.54318182 0.5875     0.53143939 0.52134146 0.57408537 0.58384146\n",
      " 0.52469512 0.57682927 0.5152439  0.60243902]\n"
     ]
    }
   ],
   "source": [
    "accuracy_crossval = cross_val_score( decision_tree_model, X_train, Y_train, cv=skf, scoring='accuracy')\n",
    "print(\"Accuracy - Cross Validation: \", accuracy_crossval.mean()*100)\n",
    "\n",
    "precision_crossval = cross_val_score( decision_tree_model, X_train, Y_train, cv= skf, scoring='precision')\n",
    "print(\"Precision - Cross Validation: \", precision_crossval.mean()*100)\n",
    "\n",
    "recall_crossval = cross_val_score( decision_tree_model, X_train, Y_train, cv= skf, scoring='recall')\n",
    "print(\"Recall - Cross Validation: \", recall_crossval.mean()*100)\n",
    "\n",
    "f1_crossval = cross_val_score( decision_tree_model,X_train, Y_train, cv= skf, scoring='f1')\n",
    "print(\"f1 - Cross Validation: \", f1_crossval.mean()*100)\n",
    "\n",
    "roc_auc_crossval = cross_val_score( decision_tree_model, X_train, Y_train, cv= skf, scoring='roc_auc')\n",
    "print(\"roc_auc_crossval=\", roc_auc_crossval)"
   ]
  },
  {
   "cell_type": "code",
   "execution_count": 457,
   "id": "92d9f0ea",
   "metadata": {},
   "outputs": [
    {
     "data": {
      "text/plain": [
       "array([0, 0, 0, 0, 0, 0, 0, 0, 0, 1, 0, 0, 0, 0, 0, 0, 0, 1, 0, 1, 0, 0,\n",
       "       0, 0, 0, 0, 1, 0, 0, 1, 0, 0, 0, 0, 0, 1, 1, 1, 0, 0, 0, 0, 0, 1,\n",
       "       0, 0, 0, 0, 0, 0, 0, 0, 0, 0, 0, 0, 0, 0, 0, 0, 0, 0, 0, 0, 0, 0,\n",
       "       0, 0, 0, 0, 0, 0, 0, 0, 0, 1, 0, 0, 0, 0, 0, 0, 1, 0, 0, 0, 1, 0,\n",
       "       0, 0, 1, 0, 0, 1, 0, 0, 0, 1, 0, 1, 0, 0, 0, 0, 0, 0, 0, 0, 0, 0,\n",
       "       0, 1, 0, 0, 0, 0, 0, 0, 1, 0, 0, 0, 0, 0, 0, 1, 0, 0, 1, 0, 0, 0,\n",
       "       1, 0, 0, 0, 0, 0, 0, 0, 0, 0, 0, 1, 0, 0, 0, 0, 0, 1, 0, 0, 0, 0,\n",
       "       0, 0, 0, 0, 0, 0, 0, 0, 0, 0, 0, 0, 0, 0, 0, 0, 0, 0, 1, 0, 0, 1,\n",
       "       0, 0, 0, 0, 0, 0, 0, 0, 0, 0, 0, 0, 0, 0, 0, 0, 0, 0, 0, 0, 0, 0,\n",
       "       0, 0, 0, 0, 0, 1, 0, 0, 0, 0, 0, 0, 0, 0, 1, 0, 0, 0, 0, 0, 0, 0,\n",
       "       0, 0, 0, 0, 1, 0, 1, 0, 0, 1, 0, 0, 0, 0, 0, 0, 0, 0, 0, 0, 1, 1,\n",
       "       0, 0, 0, 0, 0, 0, 0, 0, 0, 0, 0, 0, 0, 0, 0, 0, 0, 0, 0, 0, 0, 0,\n",
       "       0, 0, 1, 0, 1, 0, 0, 0, 0, 1, 0, 0, 1, 0, 0, 0, 0, 0, 0, 0, 0, 0,\n",
       "       0, 1, 0, 0, 0, 0, 0, 0, 0, 0, 1, 0, 0, 0, 0, 0, 0, 0, 0, 0, 0, 0,\n",
       "       0, 0, 0, 0, 1, 1, 0, 0, 0, 0, 0, 0, 0, 0, 0, 1, 0, 0, 0, 0, 1, 0,\n",
       "       0, 0, 0, 0, 0, 0, 0, 0, 0, 0, 0, 1, 0, 0, 0, 0, 1, 0, 0, 0, 0, 0,\n",
       "       0, 0, 0, 0, 0, 0, 0, 0, 0, 1, 0, 0, 0, 0, 0, 0, 0, 0, 0, 0, 0, 0,\n",
       "       0, 0, 0, 0, 0, 0, 0, 0, 1, 0, 0, 0, 1, 0, 0, 0, 0, 0, 0, 0, 0, 0,\n",
       "       0, 0, 0, 0, 1, 1, 0, 1, 0, 0, 0, 0, 0, 0, 0, 0, 0, 0, 0, 1, 0, 0,\n",
       "       0, 0, 1, 0, 1, 0, 0, 0, 0, 0, 0, 0, 0, 0, 0, 0, 0, 0, 0, 0, 0, 0,\n",
       "       0, 0, 0, 0, 0, 0, 0, 0, 0, 0, 0, 0, 0, 0, 0, 0, 0, 0, 0, 0, 0, 0,\n",
       "       0, 0, 0, 0, 0, 0, 1, 0, 0, 0, 0, 0, 0, 0, 0, 0, 0, 0, 0, 1, 0, 0,\n",
       "       0, 0, 0, 0, 0, 0, 0, 0, 0, 1, 0, 0, 0, 0, 0, 0, 1, 0, 0, 0, 0, 0,\n",
       "       0, 0, 0, 0, 0, 0])"
      ]
     },
     "execution_count": 457,
     "metadata": {},
     "output_type": "execute_result"
    }
   ],
   "source": [
    "from sklearn.ensemble import ExtraTreesClassifier\n",
    "\n",
    "modelextra = ExtraTreesClassifier(n_estimators=9)\n",
    "modelextra.fit(X_train, Y_train)\n",
    "extra_pred = modelextra.predict(X_test)\n",
    "extra_pred"
   ]
  },
  {
   "cell_type": "code",
   "execution_count": 458,
   "id": "127f1865",
   "metadata": {},
   "outputs": [
    {
     "name": "stdout",
     "output_type": "stream",
     "text": [
      "              precision    recall  f1-score   support\n",
      "\n",
      "           0       0.84      0.93      0.88       411\n",
      "           1       0.49      0.28      0.35       101\n",
      "\n",
      "    accuracy                           0.80       512\n",
      "   macro avg       0.67      0.60      0.62       512\n",
      "weighted avg       0.77      0.80      0.78       512\n",
      "\n"
     ]
    }
   ],
   "source": [
    "print(classification_report(Y_test, extra_pred))"
   ]
  },
  {
   "cell_type": "code",
   "execution_count": 459,
   "id": "1a46a84e",
   "metadata": {},
   "outputs": [
    {
     "name": "stdout",
     "output_type": "stream",
     "text": [
      "[[382  29]\n",
      " [ 73  28]]\n",
      "\n",
      "True Negatives(TN) =  382\n",
      "\n",
      "True Positives(TP) =  28\n",
      "\n",
      "False Positives(FP) =  29\n",
      "\n",
      "False Negatives(FN) =  73\n"
     ]
    }
   ],
   "source": [
    "########## matrice de confusion\n",
    "confusion_matrix_extra = metrics.confusion_matrix(Y_test, extra_pred)\n",
    "\n",
    "print(confusion_matrix_extra )\n",
    "\n",
    "print('\\nTrue Negatives(TN) = ', confusion_matrix_extra[0,0])\n",
    "\n",
    "print('\\nTrue Positives(TP) = ', confusion_matrix_extra[1,1])\n",
    "\n",
    "print('\\nFalse Positives(FP) = ', confusion_matrix_extra [0,1])\n",
    "\n",
    "print('\\nFalse Negatives(FN) = ', confusion_matrix_extra [1,0])"
   ]
  },
  {
   "cell_type": "code",
   "execution_count": 460,
   "id": "e50c029f",
   "metadata": {},
   "outputs": [
    {
     "name": "stdout",
     "output_type": "stream",
     "text": [
      "<sklearn.metrics._plot.confusion_matrix.ConfusionMatrixDisplay object at 0x0000019ED5611700>\n"
     ]
    },
    {
     "data": {
      "image/png": "[encoded data removed]",
      "text/plain": [
       "<Figure size 432x288 with 2 Axes>"
      ]
     },
     "metadata": {
      "needs_background": "light"
     },
     "output_type": "display_data"
    }
   ],
   "source": [
    "cm_display_extra = metrics.ConfusionMatrixDisplay(confusion_matrix = confusion_matrix_extra, display_labels = [False, True])\n",
    "\n",
    "print(cm_display_extra)\n",
    "cm_display_extra.plot()\n",
    "plt.show()"
   ]
  },
  {
   "cell_type": "code",
   "execution_count": 461,
   "id": "0a279dab",
   "metadata": {},
   "outputs": [
    {
     "name": "stdout",
     "output_type": "stream",
     "text": [
      "Number of mislabeled points out of a total 512 points : 102\n"
     ]
    }
   ],
   "source": [
    "print(\"Number of mislabeled points out of a total %d points : %d\"\n",
    "...       % (X_test.shape[0], (Y_test != extra_pred).sum()))"
   ]
  },
  {
   "cell_type": "code",
   "execution_count": 462,
   "id": "b6972451",
   "metadata": {},
   "outputs": [
    {
     "name": "stdout",
     "output_type": "stream",
     "text": [
      "Accuracy= 80.078125\n",
      "f1.score= 35.44303797468355\n",
      "precision.score= 49.122807017543856\n",
      "recall_score= 27.722772277227726\n",
      "Specificity= 0.9294403892944039\n"
     ]
    }
   ],
   "source": [
    "accuracyscore = metrics.accuracy_score(Y_test, extra_pred)*100\n",
    "print (\"Accuracy=\", accuracyscore)\n",
    "\n",
    "f1score = metrics.f1_score(Y_test, extra_pred)*100\n",
    "print (\"f1.score=\", f1score)\n",
    "\n",
    "precisionscore = metrics.precision_score(Y_test, extra_pred)*100\n",
    "print (\"precision.score=\", precisionscore)\n",
    "\n",
    "recallscore = recall_score(Y_test, extra_pred)*100\n",
    "print (\"recall_score=\", recallscore)\n",
    "\n",
    "specificityscore = metrics.recall_score(Y_test, extra_pred, pos_label=0)\n",
    "print(\"Specificity=\", specificityscore)"
   ]
  },
  {
   "cell_type": "code",
   "execution_count": 463,
   "id": "05a6f1ec",
   "metadata": {},
   "outputs": [
    {
     "name": "stdout",
     "output_type": "stream",
     "text": [
      "AUC Extra trees= 0.6752547517525476\n"
     ]
    },
    {
     "data": {
      "image/png": "[encoded data removed]",
      "text/plain": [
       "<Figure size 432x288 with 1 Axes>"
      ]
     },
     "metadata": {
      "needs_background": "light"
     },
     "output_type": "display_data"
    }
   ],
   "source": [
    "######## COURBE DE ROC\n",
    "\n",
    "import sklearn.metrics as metrics\n",
    "from sklearn.metrics import roc_auc_score\n",
    "from sklearn.metrics import roc_curve\n",
    "# calculate the fpr and tpr for all thresholds of the classification\n",
    "prob = modelextra.predict_proba(X_test)\n",
    "pred = prob[:,1]\n",
    "fpr_e, tpr_e, threshold = metrics.roc_curve(Y_test, pred)\n",
    "roc_auc = metrics.auc(fpr_e, tpr_e)\n",
    "print(\"AUC Extra trees=\", roc_auc)\n",
    "auc_e = roc_auc_score(Y_test, pred)\n",
    "\n",
    "import matplotlib.pyplot as plt\n",
    "plt.title('Courbe de ROC - Extra tress')\n",
    "plt.plot(fpr_e, tpr_e, 'b', label = 'AUC = %0.2f' % auc_e)\n",
    "plt.legend(loc = 'lower right')\n",
    "plt.plot([0, 1], [0, 1],'r--')\n",
    "plt.xlim([0, 1])\n",
    "plt.ylim([0, 1])\n",
    "plt.ylabel('True Positive Rate - Sensitivity')\n",
    "plt.xlabel('False Positive Rate - (1-Specificity)')\n",
    "plt.show()"
   ]
  },
  {
   "cell_type": "code",
   "execution_count": 464,
   "id": "6409fb56",
   "metadata": {},
   "outputs": [
    {
     "data": {
      "text/plain": [
       "[0.8431372549019608]"
      ]
     },
     "execution_count": 464,
     "metadata": {},
     "output_type": "execute_result"
    }
   ],
   "source": [
    "##### CROSS VALIDATION                                 \n",
    "\n",
    "skf = StratifiedKFold(n_splits=10, shuffle=True, random_state=1) \n",
    "lst_accu_stratified = []\n",
    "\n",
    "for train_index, test_index in skf.split(X, Y): \n",
    "    X_train_fold_extra, X_test_fold_extra = X.iloc[train_index], X.iloc[test_index] \n",
    "    Y_train_fold_extra, Y_test_fold_extra = X.iloc[train_index], Y.iloc[test_index] \n",
    "     \n",
    "lst_accu_stratified.append(knnmodel.score(X_test_fold_extra, Y_test_fold_extra))\n",
    "\n",
    "lst_accu_stratified "
   ]
  },
  {
   "cell_type": "code",
   "execution_count": 465,
   "id": "42dc9794",
   "metadata": {},
   "outputs": [
    {
     "name": "stdout",
     "output_type": "stream",
     "text": [
      "Accuracy= 80.078125\n",
      "f1.score= 35.44303797468355\n",
      "precision.score= 49.122807017543856\n",
      "recall_score= 27.722772277227726\n",
      "Specificity= 0.9294403892944039\n"
     ]
    }
   ],
   "source": [
    "accuracyscore = metrics.accuracy_score(Y_test,extra_pred)*100\n",
    "print (\"Accuracy=\", accuracyscore)\n",
    "\n",
    "f1score = metrics.f1_score(Y_test, extra_pred)*100\n",
    "print (\"f1.score=\", f1score)\n",
    "\n",
    "precisionscore = metrics.precision_score(Y_test, extra_pred)*100\n",
    "print (\"precision.score=\", precisionscore)\n",
    "\n",
    "recallscore = recall_score(Y_test, extra_pred)*100\n",
    "print (\"recall_score=\", recallscore)\n",
    "\n",
    "specificityscore = metrics.recall_score(Y_test, extra_pred, pos_label=0)\n",
    "print(\"Specificity=\", specificityscore)"
   ]
  },
  {
   "cell_type": "code",
   "execution_count": 466,
   "id": "7dea66ce",
   "metadata": {},
   "outputs": [
    {
     "data": {
      "text/plain": [
       "array([0, 0, 0, 0, 0, 0, 0, 0, 0, 0, 0, 0, 0, 0, 0, 0, 0, 1, 0, 0, 0, 0,\n",
       "       0, 0, 0, 0, 1, 0, 0, 0, 0, 1, 0, 0, 0, 1, 1, 1, 0, 0, 0, 0, 0, 0,\n",
       "       0, 0, 0, 0, 0, 0, 1, 0, 0, 0, 0, 0, 0, 0, 0, 0, 0, 0, 0, 0, 0, 0,\n",
       "       0, 0, 0, 0, 0, 0, 0, 0, 1, 1, 0, 0, 0, 0, 0, 0, 0, 0, 0, 0, 0, 0,\n",
       "       1, 0, 0, 0, 0, 0, 0, 0, 0, 0, 0, 0, 0, 0, 0, 0, 0, 0, 0, 0, 0, 0,\n",
       "       0, 0, 0, 0, 0, 0, 0, 0, 1, 0, 0, 0, 0, 0, 0, 1, 0, 1, 0, 0, 0, 0,\n",
       "       0, 0, 0, 0, 0, 0, 0, 0, 0, 0, 0, 1, 0, 0, 0, 0, 0, 0, 0, 0, 0, 0,\n",
       "       0, 0, 0, 0, 0, 0, 0, 0, 0, 0, 0, 0, 0, 0, 0, 0, 0, 0, 0, 0, 0, 0,\n",
       "       0, 0, 0, 0, 0, 1, 0, 0, 0, 0, 0, 0, 0, 0, 0, 0, 0, 0, 0, 0, 0, 0,\n",
       "       0, 0, 0, 0, 0, 1, 0, 0, 0, 0, 0, 0, 1, 0, 1, 0, 0, 0, 0, 1, 0, 0,\n",
       "       1, 0, 0, 0, 0, 0, 1, 0, 1, 1, 0, 0, 0, 0, 0, 0, 0, 0, 0, 0, 0, 0,\n",
       "       0, 0, 0, 0, 0, 0, 0, 0, 0, 0, 0, 0, 0, 0, 0, 0, 0, 1, 0, 0, 1, 0,\n",
       "       0, 0, 1, 0, 0, 0, 0, 0, 0, 0, 0, 0, 1, 0, 0, 0, 0, 0, 0, 0, 0, 0,\n",
       "       0, 1, 0, 0, 0, 0, 0, 0, 0, 0, 0, 0, 0, 0, 0, 0, 0, 0, 0, 0, 0, 0,\n",
       "       0, 0, 0, 0, 0, 0, 0, 0, 0, 0, 0, 0, 0, 0, 0, 0, 0, 0, 0, 0, 0, 0,\n",
       "       0, 0, 0, 0, 0, 1, 0, 0, 0, 0, 0, 0, 0, 0, 0, 0, 0, 0, 0, 0, 0, 0,\n",
       "       0, 0, 0, 0, 0, 0, 0, 1, 0, 1, 0, 0, 0, 0, 0, 0, 0, 0, 0, 0, 0, 0,\n",
       "       0, 0, 0, 0, 0, 0, 0, 0, 0, 0, 0, 0, 0, 0, 0, 0, 0, 0, 0, 0, 0, 0,\n",
       "       0, 0, 0, 1, 0, 0, 0, 0, 0, 0, 0, 0, 0, 0, 0, 0, 0, 0, 0, 0, 0, 0,\n",
       "       0, 0, 0, 0, 1, 0, 0, 0, 0, 0, 0, 0, 0, 0, 0, 0, 0, 1, 0, 0, 0, 0,\n",
       "       0, 0, 0, 0, 0, 0, 0, 0, 0, 0, 0, 0, 0, 0, 0, 0, 0, 0, 0, 0, 0, 0,\n",
       "       0, 0, 0, 0, 0, 0, 1, 0, 1, 0, 0, 0, 1, 0, 1, 0, 0, 0, 0, 0, 0, 0,\n",
       "       0, 0, 0, 0, 0, 0, 0, 0, 0, 0, 0, 0, 0, 0, 0, 0, 1, 0, 0, 0, 0, 0,\n",
       "       0, 0, 0, 0, 0, 0])"
      ]
     },
     "execution_count": 466,
     "metadata": {},
     "output_type": "execute_result"
    }
   ],
   "source": [
    "##################              BAGGING\n",
    "from sklearn.ensemble import BaggingClassifier\n",
    "bagmodel = BaggingClassifier(n_estimators = 10, max_features = 12)\n",
    "bagmodel.fit(X_train,Y_train)\n",
    "y_bag_pred = bagmodel.predict(X_test)\n",
    "y_bag_pred"
   ]
  },
  {
   "cell_type": "code",
   "execution_count": 467,
   "id": "d2843ef3",
   "metadata": {},
   "outputs": [
    {
     "name": "stdout",
     "output_type": "stream",
     "text": [
      "              precision    recall  f1-score   support\n",
      "\n",
      "           0       0.82      0.95      0.88       411\n",
      "           1       0.46      0.18      0.26       101\n",
      "\n",
      "    accuracy                           0.80       512\n",
      "   macro avg       0.64      0.56      0.57       512\n",
      "weighted avg       0.75      0.80      0.76       512\n",
      "\n"
     ]
    }
   ],
   "source": [
    "print(classification_report(Y_test, y_bag_pred))"
   ]
  },
  {
   "cell_type": "code",
   "execution_count": 468,
   "id": "a2d7cabb",
   "metadata": {},
   "outputs": [
    {
     "name": "stdout",
     "output_type": "stream",
     "text": [
      "Number of mislabeled points out of a total 512 points : 104\n"
     ]
    }
   ],
   "source": [
    "print(\"Number of mislabeled points out of a total %d points : %d\"\n",
    "...       % (X_bayes_test.shape[0], (Y_test != y_bag_pred).sum()))"
   ]
  },
  {
   "cell_type": "code",
   "execution_count": 469,
   "id": "3320bb11",
   "metadata": {},
   "outputs": [
    {
     "name": "stdout",
     "output_type": "stream",
     "text": [
      "[[390  21]\n",
      " [ 83  18]]\n",
      "\n",
      "True Negatives(TN) =  390\n",
      "\n",
      "True Positives(TP) =  18\n",
      "\n",
      "False Positives(FP) =  21\n",
      "\n",
      "False Negatives(FN) =  83\n"
     ]
    }
   ],
   "source": [
    "########## matrice de confusion\n",
    "confusion_matrix_bag = metrics.confusion_matrix(Y_test, y_bag_pred)\n",
    "\n",
    "print(confusion_matrix_bag )\n",
    "\n",
    "print('\\nTrue Negatives(TN) = ', confusion_matrix_bag[0,0])\n",
    "\n",
    "print('\\nTrue Positives(TP) = ', confusion_matrix_bag[1,1])\n",
    "\n",
    "print('\\nFalse Positives(FP) = ', confusion_matrix_bag [0,1])\n",
    "\n",
    "print('\\nFalse Negatives(FN) = ', confusion_matrix_bag [1,0])"
   ]
  },
  {
   "cell_type": "code",
   "execution_count": 470,
   "id": "e6e0ccba",
   "metadata": {},
   "outputs": [
    {
     "name": "stdout",
     "output_type": "stream",
     "text": [
      "<sklearn.metrics._plot.confusion_matrix.ConfusionMatrixDisplay object at 0x0000019ED57E25B0>\n"
     ]
    },
    {
     "data": {
      "image/png": "[encoded data removed]",
      "text/plain": [
       "<Figure size 432x288 with 2 Axes>"
      ]
     },
     "metadata": {
      "needs_background": "light"
     },
     "output_type": "display_data"
    }
   ],
   "source": [
    "cm_display_bag = metrics.ConfusionMatrixDisplay(confusion_matrix = confusion_matrix_bag, display_labels = [False, True])\n",
    "\n",
    "print(cm_display_bag)\n",
    "cm_display_bag.plot()\n",
    "plt.show()"
   ]
  },
  {
   "cell_type": "code",
   "execution_count": 471,
   "id": "612d8fdb",
   "metadata": {},
   "outputs": [
    {
     "name": "stdout",
     "output_type": "stream",
     "text": [
      "Accuracy= 79.6875\n",
      "f1.score= 25.71428571428571\n",
      "precision.score= 46.15384615384615\n",
      "recall_score= 17.82178217821782\n",
      "Specificity= 0.948905109489051\n"
     ]
    }
   ],
   "source": [
    "accuracyscore = metrics.accuracy_score(Y_test, y_bag_pred)*100\n",
    "print (\"Accuracy=\", accuracyscore)\n",
    "\n",
    "f1score = metrics.f1_score(Y_test,y_bag_pred)*100\n",
    "print (\"f1.score=\", f1score)\n",
    "\n",
    "precisionscore = metrics.precision_score(Y_test,y_bag_pred)*100\n",
    "print (\"precision.score=\", precisionscore)\n",
    "\n",
    "recallscore = recall_score(Y_test,y_bag_pred)*100\n",
    "print (\"recall_score=\", recallscore)\n",
    "\n",
    "specificityscore = metrics.recall_score(Y_test, y_bag_pred, pos_label=0)\n",
    "print(\"Specificity=\", specificityscore)"
   ]
  },
  {
   "cell_type": "code",
   "execution_count": 472,
   "id": "d0f91640",
   "metadata": {},
   "outputs": [
    {
     "name": "stdout",
     "output_type": "stream",
     "text": [
      "AUC Bagging= 0.6449615764496158\n"
     ]
    },
    {
     "data": {
      "image/png": "[encoded data removed]",
      "text/plain": [
       "<Figure size 432x288 with 1 Axes>"
      ]
     },
     "metadata": {
      "needs_background": "light"
     },
     "output_type": "display_data"
    }
   ],
   "source": [
    "######## COURBE DE ROC\n",
    "\n",
    "import sklearn.metrics as metrics\n",
    "from sklearn.metrics import roc_auc_score\n",
    "from sklearn.metrics import roc_curve\n",
    "# calculate the fpr and tpr for all thresholds of the classification\n",
    "prob = bagmodel.predict_proba(X_test)\n",
    "pred = prob[:,1]\n",
    "fpr_bag, tpr_bag, threshold = metrics.roc_curve(Y_test, pred)\n",
    "roc_auc = metrics.auc(fpr_bag, tpr_bag)\n",
    "print(\"AUC Bagging=\", roc_auc)\n",
    "auc_bag = roc_auc_score(Y_bayes_test, pred)\n",
    "\n",
    "import matplotlib.pyplot as plt\n",
    "plt.title('Courbe de ROC - Bagging')\n",
    "plt.plot(fpr_bag, tpr_bag, 'b', label = 'AUC = %0.2f' % auc_bag)\n",
    "plt.legend(loc = 'lower right')\n",
    "plt.plot([0, 1], [0, 1],'r--')\n",
    "plt.xlim([0, 1])\n",
    "plt.ylim([0, 1])\n",
    "plt.ylabel('True Positive Rate - Sensitivity')\n",
    "plt.xlabel('False Positive Rate - (1-Specificity)')\n",
    "plt.show()"
   ]
  },
  {
   "cell_type": "code",
   "execution_count": 473,
   "id": "26212c27",
   "metadata": {},
   "outputs": [
    {
     "data": {
      "text/plain": [
       "[0.9686274509803922]"
      ]
     },
     "execution_count": 473,
     "metadata": {},
     "output_type": "execute_result"
    }
   ],
   "source": [
    "##### CROSS VALIDATION \n",
    "\n",
    "skf = StratifiedKFold(n_splits=10, shuffle=True, random_state=1) \n",
    "lst_accu_stratified = []\n",
    "\n",
    "for train_index, test_index in skf.split(X_bayes, Y_bayes): \n",
    "    X_train_fold_bag, X_test_fold_bag = X.iloc[train_index], X.iloc[test_index] \n",
    "    Y_train_fold_bag, Y_test_fold_bag = X.iloc[train_index], Y.iloc[test_index] \n",
    "     \n",
    "lst_accu_stratified.append(bagmodel.score(X_test_fold_bag, Y_test_fold_bag))\n",
    "\n",
    "lst_accu_stratified "
   ]
  },
  {
   "cell_type": "code",
   "execution_count": 475,
   "id": "ad6fd1be",
   "metadata": {},
   "outputs": [
    {
     "name": "stdout",
     "output_type": "stream",
     "text": [
      "Accuracy - Cross Validation:  80.18747010999523\n",
      "Precision - Cross Validation:  44.86309523809523\n",
      "Recall - Cross Validation:  12.963414634146343\n",
      "f1 - Cross Validation:  23.17984617971453\n",
      "roc_auc_crossval= [0.61734848 0.68568182 0.66583333 0.55205235 0.65907012 0.62614329\n",
      " 0.62324695 0.67118902 0.59702744 0.69801829]\n"
     ]
    }
   ],
   "source": [
    "accuracy_crossval = cross_val_score(bagmodel, X_train, Y_train, cv=skf, scoring='accuracy')\n",
    "print(\"Accuracy - Cross Validation: \", accuracy_crossval.mean()*100)\n",
    "\n",
    "precision_crossval = cross_val_score(bagmodel, X_train, Y_train, cv= skf, scoring='precision')\n",
    "print(\"Precision - Cross Validation: \", precision_crossval.mean()*100)\n",
    "\n",
    "recall_crossval = cross_val_score(bagmodel, X_train, Y_train, cv= skf, scoring='recall')\n",
    "print(\"Recall - Cross Validation: \", recall_crossval.mean()*100)\n",
    "\n",
    "f1_crossval = cross_val_score(bagmodel,X_train, Y_train, cv= skf, scoring='f1')\n",
    "print(\"f1 - Cross Validation: \", f1_crossval.mean()*100)\n",
    "\n",
    "roc_auc_crossval = cross_val_score(bagmodel, X_train, Y_train, cv= skf, scoring='roc_auc')\n",
    "print(\"roc_auc_crossval=\", roc_auc_crossval)"
   ]
  },
  {
   "cell_type": "code",
   "execution_count": 476,
   "id": "fe60bcd6",
   "metadata": {},
   "outputs": [
    {
     "data": {
      "text/plain": [
       "array([0, 0, 0, 0, 0, 0, 0, 0, 0, 0, 1, 0, 0, 0, 0, 0, 0, 1, 0, 0, 0, 0,\n",
       "       0, 0, 0, 0, 1, 0, 0, 0, 0, 0, 0, 0, 0, 1, 1, 1, 0, 0, 0, 0, 0, 0,\n",
       "       0, 0, 0, 0, 0, 0, 1, 0, 0, 0, 0, 0, 0, 0, 0, 0, 0, 0, 0, 0, 0, 0,\n",
       "       0, 0, 0, 0, 0, 0, 0, 0, 1, 1, 0, 0, 0, 0, 0, 0, 1, 0, 0, 0, 0, 0,\n",
       "       0, 0, 0, 0, 0, 0, 0, 0, 1, 0, 1, 1, 0, 0, 0, 0, 0, 0, 0, 0, 0, 0,\n",
       "       0, 0, 0, 0, 0, 0, 0, 0, 1, 0, 0, 0, 0, 0, 0, 1, 0, 0, 0, 0, 0, 0,\n",
       "       0, 0, 0, 0, 0, 0, 0, 0, 0, 0, 0, 1, 0, 0, 0, 0, 0, 0, 0, 0, 0, 0,\n",
       "       0, 0, 0, 0, 0, 0, 0, 0, 0, 0, 0, 0, 0, 0, 0, 0, 0, 0, 1, 0, 0, 0,\n",
       "       0, 0, 0, 0, 0, 0, 0, 0, 0, 0, 0, 0, 0, 0, 0, 0, 0, 0, 0, 0, 0, 0,\n",
       "       1, 0, 0, 0, 0, 1, 0, 0, 0, 0, 0, 0, 0, 0, 1, 0, 0, 0, 0, 0, 0, 0,\n",
       "       0, 0, 0, 0, 1, 0, 1, 0, 0, 0, 0, 0, 0, 0, 0, 0, 0, 0, 0, 0, 1, 0,\n",
       "       0, 0, 0, 0, 0, 0, 0, 0, 0, 0, 0, 0, 0, 0, 0, 0, 0, 1, 0, 0, 1, 0,\n",
       "       0, 0, 1, 0, 0, 0, 0, 0, 0, 0, 0, 0, 0, 0, 0, 0, 0, 0, 0, 0, 0, 0,\n",
       "       0, 1, 0, 0, 0, 0, 0, 0, 0, 0, 0, 0, 0, 0, 0, 0, 0, 0, 0, 0, 0, 0,\n",
       "       0, 0, 0, 0, 0, 0, 0, 0, 0, 0, 0, 0, 0, 0, 0, 0, 0, 0, 0, 0, 0, 0,\n",
       "       0, 0, 0, 0, 0, 0, 0, 0, 0, 0, 0, 0, 0, 0, 0, 0, 0, 0, 0, 0, 0, 0,\n",
       "       0, 0, 0, 0, 0, 0, 0, 0, 0, 1, 0, 0, 0, 0, 0, 0, 0, 0, 0, 0, 0, 0,\n",
       "       0, 0, 0, 0, 0, 0, 0, 0, 0, 0, 0, 0, 0, 0, 0, 0, 0, 0, 0, 0, 0, 0,\n",
       "       0, 0, 0, 0, 0, 0, 0, 0, 0, 0, 0, 1, 0, 0, 0, 0, 0, 0, 0, 0, 0, 0,\n",
       "       0, 0, 1, 0, 0, 0, 0, 0, 0, 0, 0, 0, 0, 0, 0, 0, 0, 0, 0, 0, 0, 0,\n",
       "       0, 0, 0, 0, 0, 0, 0, 0, 0, 0, 0, 0, 0, 0, 0, 0, 0, 0, 0, 0, 0, 0,\n",
       "       0, 0, 0, 0, 0, 0, 1, 0, 0, 0, 0, 0, 0, 0, 0, 0, 0, 0, 0, 0, 0, 0,\n",
       "       0, 0, 0, 0, 0, 0, 0, 0, 0, 0, 0, 0, 0, 0, 0, 0, 1, 0, 0, 0, 0, 0,\n",
       "       0, 0, 0, 0, 0, 0])"
      ]
     },
     "execution_count": 476,
     "metadata": {},
     "output_type": "execute_result"
    }
   ],
   "source": [
    "######################################   RANDOM FOREST \n",
    "\n",
    "from sklearn.ensemble import RandomForestClassifier\n",
    "modelforest = RandomForestClassifier(n_estimators=100,\n",
    "     criterion='gini',\n",
    "     bootstrap=True,\n",
    "     oob_score=True)\n",
    "modelforest.fit(X_train, Y_train)\n",
    "pred_forest = modelforest.predict(X_test)\n",
    "pred_forest"
   ]
  },
  {
   "cell_type": "code",
   "execution_count": 477,
   "id": "54d452e8",
   "metadata": {},
   "outputs": [
    {
     "name": "stdout",
     "output_type": "stream",
     "text": [
      "              precision    recall  f1-score   support\n",
      "\n",
      "           0       0.83      0.97      0.89       411\n",
      "           1       0.59      0.19      0.29       101\n",
      "\n",
      "    accuracy                           0.81       512\n",
      "   macro avg       0.71      0.58      0.59       512\n",
      "weighted avg       0.78      0.81      0.77       512\n",
      "\n"
     ]
    }
   ],
   "source": [
    "print(classification_report(Y_test, pred_forest))"
   ]
  },
  {
   "cell_type": "code",
   "execution_count": 478,
   "id": "54e50335",
   "metadata": {},
   "outputs": [
    {
     "name": "stdout",
     "output_type": "stream",
     "text": [
      "[[398  13]\n",
      " [ 82  19]]\n",
      "\n",
      "True Negatives(TN)=  398\n",
      "\n",
      "True Positives(TP)= 19\n",
      "\n",
      "False Positives(FP) =  13\n",
      "\n",
      "False Negatives(FN) =  82\n"
     ]
    }
   ],
   "source": [
    "\n",
    "########## matrice de confusion\n",
    "confusion_matrix_forest = metrics.confusion_matrix(Y_test, pred_forest)\n",
    "\n",
    "print(confusion_matrix_forest)\n",
    "\n",
    "print('\\nTrue Negatives(TN)= ', confusion_matrix_forest[0,0])\n",
    "\n",
    "print('\\nTrue Positives(TP)=', confusion_matrix_forest[1,1])\n",
    "\n",
    "print('\\nFalse Positives(FP) = ', confusion_matrix_forest[0,1])\n",
    "\n",
    "print('\\nFalse Negatives(FN) = ', confusion_matrix_forest[1,0])"
   ]
  },
  {
   "cell_type": "code",
   "execution_count": 479,
   "id": "e78eabff",
   "metadata": {},
   "outputs": [
    {
     "name": "stdout",
     "output_type": "stream",
     "text": [
      "<sklearn.metrics._plot.confusion_matrix.ConfusionMatrixDisplay object at 0x0000019ED6903AF0>\n"
     ]
    },
    {
     "data": {
      "image/png": "[encoded data removed]",
      "text/plain": [
       "<Figure size 432x288 with 2 Axes>"
      ]
     },
     "metadata": {
      "needs_background": "light"
     },
     "output_type": "display_data"
    }
   ],
   "source": [
    "cm_display_forest = metrics.ConfusionMatrixDisplay(confusion_matrix = confusion_matrix_forest, display_labels = [False, True])\n",
    "\n",
    "print(cm_display_forest)\n",
    "cm_display_forest.plot()\n",
    "plt.show()"
   ]
  },
  {
   "cell_type": "code",
   "execution_count": 480,
   "id": "6821f9de",
   "metadata": {},
   "outputs": [
    {
     "name": "stdout",
     "output_type": "stream",
     "text": [
      "              precision    recall  f1-score   support\n",
      "\n",
      "           0       0.83      0.97      0.89       411\n",
      "           1       0.59      0.19      0.29       101\n",
      "\n",
      "    accuracy                           0.81       512\n",
      "   macro avg       0.71      0.58      0.59       512\n",
      "weighted avg       0.78      0.81      0.77       512\n",
      "\n"
     ]
    }
   ],
   "source": [
    "from sklearn.metrics import classification_report\n",
    "\n",
    "print(classification_report(Y_test, pred_forest))"
   ]
  },
  {
   "cell_type": "code",
   "execution_count": 481,
   "id": "f4687cb6",
   "metadata": {},
   "outputs": [
    {
     "name": "stdout",
     "output_type": "stream",
     "text": [
      "Number of mislabeled points out of a total 512 points : 95\n"
     ]
    }
   ],
   "source": [
    "print(\"Number of mislabeled points out of a total %d points : %d\"\n",
    "...       % (X_bayes_test.shape[0], (Y_test != pred_forest).sum()))"
   ]
  },
  {
   "cell_type": "code",
   "execution_count": 482,
   "id": "a09dd2a4",
   "metadata": {},
   "outputs": [
    {
     "name": "stdout",
     "output_type": "stream",
     "text": [
      "Accuracy= 81.4453125\n",
      "f1.score= 28.571428571428577\n",
      "precision.score= 59.375\n",
      "recall_score= 18.81188118811881\n",
      "Specificity= 0.9683698296836983\n"
     ]
    }
   ],
   "source": [
    "accuracyscore = metrics.accuracy_score(Y_test, pred_forest)*100\n",
    "print (\"Accuracy=\", accuracyscore)\n",
    "\n",
    "f1score = metrics.f1_score(Y_test, pred_forest)*100\n",
    "print (\"f1.score=\", f1score)\n",
    "\n",
    "precisionscore = metrics.precision_score(Y_test, pred_forest)*100\n",
    "print (\"precision.score=\", precisionscore)\n",
    "\n",
    "recallscore = recall_score(Y_test, pred_forest)*100\n",
    "print (\"recall_score=\", recallscore)\n",
    "\n",
    "specificityscore = metrics.recall_score(Y_test, pred_forest, pos_label=0)\n",
    "print(\"Specificity=\", specificityscore)"
   ]
  },
  {
   "cell_type": "code",
   "execution_count": 483,
   "id": "beae3928",
   "metadata": {},
   "outputs": [
    {
     "name": "stdout",
     "output_type": "stream",
     "text": [
      "AUC Random Forest= 0.6724723567247236\n"
     ]
    },
    {
     "data": {
      "image/png": "[encoded data removed]",
      "text/plain": [
       "<Figure size 432x288 with 1 Axes>"
      ]
     },
     "metadata": {
      "needs_background": "light"
     },
     "output_type": "display_data"
    }
   ],
   "source": [
    "######## COURBE DE ROC\n",
    "\n",
    "import sklearn.metrics as metrics\n",
    "from sklearn.metrics import roc_auc_score\n",
    "from sklearn.metrics import roc_curve\n",
    "# calculate the fpr and tpr for all thresholds of the classification\n",
    "prob = modelforest.predict_proba(X_test)\n",
    "pred = prob[:,1]\n",
    "fpr_r, tpr_r, threshold = metrics.roc_curve(Y_test, pred)\n",
    "roc_auc = metrics.auc(fpr_r, tpr_r)\n",
    "print(\"AUC Random Forest=\", roc_auc)\n",
    "auc_r = roc_auc_score(Y_test, pred)\n",
    "\n",
    "import matplotlib.pyplot as plt\n",
    "plt.title('Courbe de ROC - Random Forest')\n",
    "plt.plot(fpr_r, tpr_r, 'b', label = 'AUC = %0.2f' % auc_r)\n",
    "plt.legend(loc = 'lower right')\n",
    "plt.plot([0, 1], [0, 1],'r--')\n",
    "plt.xlim([0, 1])\n",
    "plt.ylim([0, 1])\n",
    "plt.ylabel('True Positive Rate - Sensitivity')\n",
    "plt.xlabel('False Positive Rate - (1-Specificity)')\n",
    "plt.show()"
   ]
  },
  {
   "cell_type": "code",
   "execution_count": 484,
   "id": "618155c5",
   "metadata": {},
   "outputs": [
    {
     "data": {
      "text/plain": [
       "[0.9803921568627451]"
      ]
     },
     "execution_count": 484,
     "metadata": {},
     "output_type": "execute_result"
    }
   ],
   "source": [
    "\n",
    "skf = StratifiedKFold(n_splits=10, shuffle=True, random_state=1) \n",
    "lst_accu_stratified = []\n",
    "\n",
    "for train_index, test_index in skf.split(X_bayes, Y_bayes): \n",
    "    X_train_fold_forest, X_test_fold_forest = X.iloc[train_index], X.iloc[test_index] \n",
    "    Y_train_fold_forest, Y_test_fold_forest = X.iloc[train_index], Y.iloc[test_index] \n",
    "     \n",
    "lst_accu_stratified.append(modelforest.score(X_test_fold_forest, Y_test_fold_forest))\n",
    "\n",
    "lst_accu_stratified "
   ]
  },
  {
   "cell_type": "code",
   "execution_count": 485,
   "id": "3573a6fc",
   "metadata": {},
   "outputs": [
    {
     "name": "stdout",
     "output_type": "stream",
     "text": [
      "Accuracy - Cross Validation:  80.52965088474414\n",
      "Precision - Cross Validation:  56.43092579934685\n",
      "Recall - Cross Validation:  13.97560975609756\n",
      "f1 - Cross Validation:  21.230862792548578\n",
      "roc_auc_crossval= [0.69598485 0.73628788 0.68643939 0.5867787  0.71592988 0.69550305\n",
      " 0.71966463 0.64977134 0.64900915 0.76585366]\n"
     ]
    }
   ],
   "source": [
    "accuracy_crossval = cross_val_score(modelforest, X_train, Y_train, cv=skf, scoring='accuracy')\n",
    "print(\"Accuracy - Cross Validation: \", accuracy_crossval.mean()*100)\n",
    "\n",
    "precision_crossval = cross_val_score(modelforest, X_train, Y_train, cv= skf, scoring='precision')\n",
    "print(\"Precision - Cross Validation: \", precision_crossval.mean()*100)\n",
    "\n",
    "recall_crossval = cross_val_score(modelforest, X_train, Y_train, cv= skf, scoring='recall')\n",
    "print(\"Recall - Cross Validation: \", recall_crossval.mean()*100)\n",
    "\n",
    "f1_crossval = cross_val_score(modelforest,X_train, Y_train, cv= skf, scoring='f1')\n",
    "print(\"f1 - Cross Validation: \", f1_crossval.mean()*100)\n",
    "\n",
    "roc_auc_crossval = cross_val_score(modelforest, X_train, Y_train, cv= skf, scoring='roc_auc')\n",
    "print(\"roc_auc_crossval=\", roc_auc_crossval)"
   ]
  },
  {
   "cell_type": "code",
   "execution_count": 486,
   "id": "b29610b8",
   "metadata": {},
   "outputs": [
    {
     "data": {
      "text/plain": [
       "Text(0.5, 0, 'Relative Importance')"
      ]
     },
     "execution_count": 486,
     "metadata": {},
     "output_type": "execute_result"
    },
    {
     "data": {
      "image/png": "[encoded data removed]",
      "text/plain": [
       "<Figure size 432x288 with 1 Axes>"
      ]
     },
     "metadata": {
      "needs_background": "light"
     },
     "output_type": "display_data"
    }
   ],
   "source": [
    "#### importance des variables de notre modèle de forêt aléatoire de la plus importante à la moins importante :\n",
    "\n",
    "indices = np.argsort(modelforest.feature_importances_)\n",
    "liste_variables = X_train.columns\n",
    "# style du graphique \n",
    "plt.style.use('fivethirtyeight')\n",
    "%matplotlib inline\n",
    "plt.figure(1)\n",
    "plt.title('Feature Importances')\n",
    "plt.barh(range(len(indices)), modelforest.feature_importances_[indices], color='b', align='center')\n",
    "plt.yticks(range(len(indices)), [liste_variables[i] for i in indices])\n",
    "plt.xlabel('Relative Importance')\n",
    "###On voit que la variable la plus importante pour faire la discrimination entre les variables par rapport à Y4 est u10.\n",
    "### et la moins importante est r3_MAR"
   ]
  },
  {
   "cell_type": "code",
   "execution_count": 487,
   "id": "94a3e4c6",
   "metadata": {},
   "outputs": [
    {
     "data": {
      "text/plain": [
       "array([0, 0, 0, 0, 0, 0, 0, 0, 0, 0, 0, 0, 0, 0, 0, 0, 0, 0, 0, 0, 0, 0,\n",
       "       0, 0, 0, 0, 0, 0, 0, 0, 0, 0, 0, 0, 0, 1, 0, 0, 0, 0, 0, 0, 0, 0,\n",
       "       0, 0, 0, 0, 0, 0, 0, 0, 0, 0, 0, 0, 0, 0, 0, 0, 0, 0, 0, 0, 0, 0,\n",
       "       0, 0, 0, 0, 0, 0, 0, 0, 0, 0, 0, 0, 0, 0, 0, 0, 0, 0, 0, 0, 0, 0,\n",
       "       0, 0, 0, 0, 0, 0, 0, 0, 0, 0, 0, 0, 0, 0, 0, 0, 0, 0, 0, 0, 0, 0,\n",
       "       0, 1, 0, 0, 0, 0, 0, 0, 0, 0, 0, 0, 0, 0, 1, 1, 0, 0, 0, 0, 0, 0,\n",
       "       0, 0, 0, 0, 0, 0, 0, 0, 0, 0, 0, 0, 0, 0, 0, 0, 0, 0, 0, 0, 0, 0,\n",
       "       0, 0, 0, 0, 0, 0, 0, 0, 0, 0, 1, 0, 0, 0, 0, 0, 0, 0, 1, 0, 0, 0,\n",
       "       0, 0, 0, 0, 0, 0, 0, 0, 0, 0, 0, 0, 0, 0, 0, 0, 0, 0, 0, 0, 0, 0,\n",
       "       1, 0, 0, 0, 0, 0, 0, 0, 0, 0, 0, 0, 0, 0, 1, 0, 0, 0, 0, 0, 0, 0,\n",
       "       1, 0, 0, 0, 0, 0, 0, 0, 0, 0, 0, 0, 0, 0, 1, 0, 0, 0, 0, 0, 0, 0,\n",
       "       0, 0, 0, 0, 0, 0, 0, 0, 0, 0, 0, 0, 0, 0, 0, 0, 0, 0, 0, 0, 0, 0,\n",
       "       0, 0, 0, 0, 0, 0, 0, 0, 0, 0, 0, 0, 0, 0, 1, 0, 0, 0, 0, 0, 0, 0,\n",
       "       0, 0, 0, 0, 0, 0, 0, 0, 0, 0, 0, 0, 0, 0, 0, 1, 0, 0, 0, 0, 0, 0,\n",
       "       0, 0, 0, 0, 0, 1, 0, 0, 0, 0, 0, 0, 0, 0, 0, 0, 0, 0, 0, 0, 0, 0,\n",
       "       0, 0, 0, 0, 0, 0, 0, 0, 0, 0, 0, 0, 0, 0, 0, 0, 0, 0, 0, 0, 0, 0,\n",
       "       0, 0, 0, 0, 0, 1, 0, 0, 0, 1, 0, 0, 0, 0, 0, 0, 0, 0, 0, 0, 0, 0,\n",
       "       0, 0, 0, 0, 0, 0, 0, 0, 0, 0, 0, 0, 0, 0, 0, 0, 0, 0, 0, 0, 0, 0,\n",
       "       0, 0, 0, 0, 0, 0, 0, 0, 0, 0, 0, 0, 0, 0, 0, 0, 0, 0, 0, 0, 0, 0,\n",
       "       0, 0, 1, 0, 0, 0, 0, 0, 0, 0, 0, 0, 0, 0, 0, 0, 0, 0, 0, 1, 0, 0,\n",
       "       0, 0, 0, 0, 0, 0, 0, 0, 0, 0, 0, 0, 0, 0, 0, 0, 0, 0, 0, 0, 0, 0,\n",
       "       0, 0, 0, 0, 0, 0, 0, 0, 0, 0, 0, 0, 0, 0, 0, 0, 0, 0, 0, 0, 0, 0,\n",
       "       0, 0, 0, 0, 0, 0, 0, 0, 0, 0, 0, 0, 0, 0, 0, 0, 1, 0, 0, 0, 0, 0,\n",
       "       0, 0, 0, 0, 0, 0])"
      ]
     },
     "execution_count": 487,
     "metadata": {},
     "output_type": "execute_result"
    }
   ],
   "source": [
    "#######################################   ADABOOST \n",
    "\n",
    "from sklearn.ensemble import AdaBoostClassifier\n",
    "adamodel = AdaBoostClassifier()\n",
    "adamodel.fit(X_train, Y_train)\n",
    "ada_pred = adamodel.predict(X_test)\n",
    "ada_pred"
   ]
  },
  {
   "cell_type": "code",
   "execution_count": 488,
   "id": "b5151d2a",
   "metadata": {},
   "outputs": [
    {
     "name": "stdout",
     "output_type": "stream",
     "text": [
      "              precision    recall  f1-score   support\n",
      "\n",
      "           0       0.82      0.98      0.89       411\n",
      "           1       0.56      0.10      0.17       101\n",
      "\n",
      "    accuracy                           0.81       512\n",
      "   macro avg       0.69      0.54      0.53       512\n",
      "weighted avg       0.76      0.81      0.75       512\n",
      "\n"
     ]
    }
   ],
   "source": [
    "print(classification_report(Y_test, ada_pred))"
   ]
  },
  {
   "cell_type": "code",
   "execution_count": 489,
   "id": "8c665c2f",
   "metadata": {},
   "outputs": [
    {
     "name": "stdout",
     "output_type": "stream",
     "text": [
      "[[403   8]\n",
      " [ 91  10]]\n",
      "\n",
      "True Negatives(TN) =  403\n",
      "\n",
      "True Positives(TP) =  10\n",
      "\n",
      "False Positives(FP) =  8\n",
      "\n",
      "False Negatives(FN) =  91\n"
     ]
    }
   ],
   "source": [
    "######### Evaluate the model (test de performance)\n",
    "from sklearn import metrics\n",
    "from sklearn.metrics import confusion_matrix ###3 show tp, tn, fp et fn\n",
    "\n",
    "########## matrice de confusion\n",
    "confusion_matrix_ada = metrics.confusion_matrix(Y_test, ada_pred)\n",
    "\n",
    "print(confusion_matrix_ada)\n",
    "\n",
    "print('\\nTrue Negatives(TN) = ', confusion_matrix_ada[0,0])\n",
    "\n",
    "print('\\nTrue Positives(TP) = ', confusion_matrix_ada[1,1])\n",
    "\n",
    "print('\\nFalse Positives(FP) = ', confusion_matrix_ada[0,1])\n",
    "\n",
    "print('\\nFalse Negatives(FN) = ', confusion_matrix_ada[1,0])"
   ]
  },
  {
   "cell_type": "code",
   "execution_count": 490,
   "id": "c22e817a",
   "metadata": {},
   "outputs": [
    {
     "name": "stdout",
     "output_type": "stream",
     "text": [
      "<sklearn.metrics._plot.confusion_matrix.ConfusionMatrixDisplay object at 0x0000019ED6896460>\n"
     ]
    },
    {
     "data": {
      "image/png": "[encoded data removed]",
      "text/plain": [
       "<Figure size 432x288 with 2 Axes>"
      ]
     },
     "metadata": {
      "needs_background": "light"
     },
     "output_type": "display_data"
    }
   ],
   "source": [
    "cm_display_ada = metrics.ConfusionMatrixDisplay(confusion_matrix = confusion_matrix_ada, display_labels = [False, True])\n",
    "\n",
    "print(cm_display_ada)\n",
    "cm_display_ada.plot()\n",
    "plt.show()"
   ]
  },
  {
   "cell_type": "code",
   "execution_count": 491,
   "id": "a2f0bbfb",
   "metadata": {},
   "outputs": [
    {
     "name": "stdout",
     "output_type": "stream",
     "text": [
      "Number of mislabeled points out of a total 512 points : 99\n"
     ]
    }
   ],
   "source": [
    "print(\"Number of mislabeled points out of a total %d points : %d\"\n",
    "...       % (X_test.shape[0], (Y_test != ada_pred).sum()))"
   ]
  },
  {
   "cell_type": "code",
   "execution_count": 492,
   "id": "e7d9e6aa",
   "metadata": {},
   "outputs": [
    {
     "name": "stdout",
     "output_type": "stream",
     "text": [
      "Accuracy= 80.6640625\n",
      "f1.score= 16.80672268907563\n",
      "precision.score= 55.55555555555556\n",
      "recall_score= 9.900990099009901\n",
      "Specificity= 0.9805352798053528\n"
     ]
    }
   ],
   "source": [
    "accuracyscore = metrics.accuracy_score(Y_test, ada_pred)*100\n",
    "print (\"Accuracy=\", accuracyscore)\n",
    "\n",
    "f1score = metrics.f1_score(Y_test,ada_pred)*100\n",
    "print (\"f1.score=\", f1score)\n",
    "\n",
    "precisionscore = metrics.precision_score(Y_test, ada_pred)*100\n",
    "print (\"precision.score=\", precisionscore)\n",
    "\n",
    "recallscore = recall_score(Y_test,ada_pred)*100\n",
    "print (\"recall_score=\", recallscore)\n",
    "\n",
    "specificityscore = metrics.recall_score(Y_test, ada_pred, pos_label=0)\n",
    "print(\"Specificity=\", specificityscore)"
   ]
  },
  {
   "cell_type": "code",
   "execution_count": 493,
   "id": "d76f16a6",
   "metadata": {},
   "outputs": [
    {
     "name": "stdout",
     "output_type": "stream",
     "text": [
      "AUC Adaboost= 0.6707740117077402\n"
     ]
    },
    {
     "data": {
      "image/png": "[encoded data removed]",
      "text/plain": [
       "<Figure size 432x288 with 1 Axes>"
      ]
     },
     "metadata": {
      "needs_background": "light"
     },
     "output_type": "display_data"
    }
   ],
   "source": [
    "######## COURBE DE ROC\n",
    "\n",
    "import sklearn.metrics as metrics\n",
    "from sklearn.metrics import roc_auc_score\n",
    "from sklearn.metrics import roc_curve\n",
    "# calculate the fpr and tpr for all thresholds of the classification\n",
    "prob = adamodel.predict_proba(X_test)\n",
    "pred = prob[:,1]\n",
    "fpr_a, tpr_a, threshold = metrics.roc_curve(Y_test, pred)\n",
    "roc_auc = metrics.auc(fpr_a, tpr_a)\n",
    "print(\"AUC Adaboost=\", roc_auc)\n",
    "auc_a = roc_auc_score(Y_test, pred)\n",
    "\n",
    "import matplotlib.pyplot as plt\n",
    "plt.title('Courbe de ROC - Adaboost')\n",
    "plt.plot(fpr_a, tpr_a, 'b', label = 'AUC = %0.2f' % auc_a)\n",
    "plt.legend(loc = 'lower right')\n",
    "plt.plot([0, 1], [0, 1],'r--')\n",
    "plt.xlim([0, 1])\n",
    "plt.ylim([0, 1])\n",
    "plt.ylabel('True Positive Rate - Sensitivity')\n",
    "plt.xlabel('False Positive Rate - (1-Specificity)')\n",
    "plt.show()"
   ]
  },
  {
   "cell_type": "code",
   "execution_count": 494,
   "id": "b4eaea61",
   "metadata": {},
   "outputs": [
    {
     "data": {
      "text/plain": [
       "[0.8117647058823529]"
      ]
     },
     "execution_count": 494,
     "metadata": {},
     "output_type": "execute_result"
    }
   ],
   "source": [
    "##### CROSS VALIDATION                                 ADABOOST\n",
    "\n",
    "skf = StratifiedKFold(n_splits=10, shuffle=True, random_state=1) \n",
    "lst_accu_stratified = []\n",
    "\n",
    "for train_index, test_index in skf.split(X, Y): \n",
    "    X_train_fold_ada, X_test_fold_ada = X.iloc[train_index], X.iloc[test_index] \n",
    "    Y_train_fold_ada, Y_test_fold_ada = X.iloc[train_index], Y.iloc[test_index] \n",
    "     \n",
    "lst_accu_stratified.append(adamodel.score(X_test_fold_ada, Y_test_fold_ada))\n",
    "\n",
    "lst_accu_stratified "
   ]
  },
  {
   "cell_type": "code",
   "execution_count": 495,
   "id": "2bf964c6",
   "metadata": {},
   "outputs": [
    {
     "name": "stdout",
     "output_type": "stream",
     "text": [
      "Accuracy - Cross Validation:  79.59756097560977\n",
      "Precision - Cross Validation:  35.61904761904762\n",
      "Recall - Cross Validation:  4.2439024390243905\n",
      "f1 - Cross Validation:  7.5023926418629845\n",
      "roc_auc_crossval= [0.55560606 0.64378788 0.65143939 0.51591315 0.65342988 0.60007622\n",
      " 0.58574695 0.62233232 0.5336128  0.64817073]\n"
     ]
    }
   ],
   "source": [
    "accuracy_crossval = cross_val_score(adamodel, X_train, Y_train, cv=skf, scoring='accuracy')\n",
    "print(\"Accuracy - Cross Validation: \", accuracy_crossval.mean()*100)\n",
    "\n",
    "precision_crossval = cross_val_score(adamodel, X_train, Y_train, cv= skf, scoring='precision')\n",
    "print(\"Precision - Cross Validation: \", precision_crossval.mean()*100)\n",
    "\n",
    "recall_crossval = cross_val_score(adamodel, X_train, Y_train, cv= skf, scoring='recall')\n",
    "print(\"Recall - Cross Validation: \", recall_crossval.mean()*100)\n",
    "\n",
    "f1_crossval = cross_val_score(adamodel,X_train, Y_train, cv= skf, scoring='f1')\n",
    "print(\"f1 - Cross Validation: \", f1_crossval.mean()*100)\n",
    "\n",
    "roc_auc_crossval = cross_val_score(adamodel, X_train, Y_train, cv= skf, scoring='roc_auc')\n",
    "print(\"roc_auc_crossval=\", roc_auc_crossval)"
   ]
  },
  {
   "cell_type": "code",
   "execution_count": 496,
   "id": "15410d6f",
   "metadata": {},
   "outputs": [
    {
     "data": {
      "text/plain": [
       "array([0, 0, 0, 0, 0, 0, 0, 0, 0, 0, 0, 0, 0, 0, 0, 0, 0, 0, 0, 0, 0, 0,\n",
       "       0, 0, 0, 0, 0, 0, 0, 0, 0, 0, 0, 0, 0, 1, 0, 0, 0, 0, 0, 0, 0, 0,\n",
       "       0, 0, 0, 0, 0, 0, 0, 0, 0, 0, 0, 0, 0, 0, 0, 0, 0, 0, 0, 0, 0, 0,\n",
       "       0, 0, 0, 0, 0, 0, 0, 0, 0, 0, 0, 0, 0, 0, 0, 0, 0, 0, 0, 0, 0, 0,\n",
       "       0, 0, 0, 0, 0, 0, 0, 0, 0, 0, 0, 0, 0, 0, 0, 0, 0, 0, 0, 0, 0, 0,\n",
       "       0, 0, 0, 0, 0, 0, 0, 0, 0, 0, 0, 0, 0, 0, 1, 0, 0, 0, 0, 0, 0, 0,\n",
       "       0, 0, 0, 0, 0, 0, 0, 0, 0, 0, 0, 0, 0, 0, 0, 0, 0, 0, 0, 0, 0, 0,\n",
       "       0, 0, 0, 0, 0, 0, 0, 0, 0, 0, 0, 0, 0, 0, 0, 0, 0, 0, 1, 0, 0, 0,\n",
       "       0, 0, 0, 0, 0, 0, 0, 0, 0, 0, 0, 0, 0, 0, 0, 0, 0, 0, 0, 0, 0, 0,\n",
       "       0, 0, 0, 0, 0, 0, 0, 0, 0, 0, 0, 0, 0, 0, 1, 0, 0, 0, 0, 0, 0, 0,\n",
       "       1, 0, 0, 0, 0, 0, 0, 0, 0, 0, 0, 0, 0, 0, 1, 0, 0, 0, 0, 0, 0, 0,\n",
       "       0, 0, 0, 0, 0, 0, 0, 0, 0, 0, 0, 0, 0, 0, 0, 0, 0, 0, 0, 0, 0, 0,\n",
       "       0, 0, 0, 0, 0, 0, 0, 0, 0, 0, 0, 0, 0, 0, 0, 0, 0, 0, 0, 0, 0, 0,\n",
       "       0, 1, 0, 0, 0, 0, 0, 0, 0, 0, 0, 0, 0, 0, 0, 0, 0, 0, 0, 0, 0, 0,\n",
       "       0, 0, 0, 0, 0, 0, 0, 0, 0, 0, 0, 0, 0, 0, 0, 0, 0, 0, 0, 0, 0, 0,\n",
       "       0, 0, 0, 0, 0, 0, 0, 0, 0, 0, 0, 0, 0, 0, 0, 0, 0, 0, 0, 0, 0, 0,\n",
       "       0, 0, 0, 0, 0, 0, 0, 0, 0, 0, 0, 0, 0, 0, 0, 0, 0, 0, 0, 0, 0, 0,\n",
       "       0, 0, 0, 0, 0, 0, 0, 0, 0, 0, 0, 0, 0, 0, 0, 0, 0, 0, 0, 0, 0, 0,\n",
       "       0, 0, 0, 0, 0, 0, 0, 0, 0, 0, 0, 0, 0, 0, 0, 0, 0, 0, 0, 0, 0, 0,\n",
       "       0, 0, 0, 0, 0, 0, 0, 0, 0, 0, 0, 0, 0, 0, 0, 0, 0, 0, 0, 0, 0, 0,\n",
       "       0, 0, 0, 0, 0, 0, 0, 0, 0, 0, 0, 0, 0, 0, 0, 0, 0, 0, 0, 0, 0, 0,\n",
       "       0, 0, 0, 0, 0, 0, 0, 0, 0, 0, 0, 0, 0, 0, 1, 0, 0, 0, 0, 0, 0, 0,\n",
       "       0, 0, 0, 0, 0, 0, 0, 0, 0, 0, 0, 0, 0, 0, 0, 0, 1, 0, 0, 0, 0, 0,\n",
       "       0, 0, 0, 0, 0, 0])"
      ]
     },
     "execution_count": 496,
     "metadata": {},
     "output_type": "execute_result"
    }
   ],
   "source": [
    "##################    GRADIENT BOOSTING\n",
    "\n",
    "from sklearn.ensemble import GradientBoostingClassifier\n",
    "gradmodel = GradientBoostingClassifier()\n",
    "gradmodel.fit(X_train, Y_train)\n",
    "grad_pred = gradmodel.predict(X_test)\n",
    "grad_pred"
   ]
  },
  {
   "cell_type": "code",
   "execution_count": 197,
   "id": "90e6cf0f",
   "metadata": {},
   "outputs": [
    {
     "name": "stdout",
     "output_type": "stream",
     "text": [
      "              precision    recall  f1-score   support\n",
      "\n",
      "           0       0.81      0.99      0.89       411\n",
      "           1       0.44      0.04      0.07       101\n",
      "\n",
      "    accuracy                           0.80       512\n",
      "   macro avg       0.63      0.51      0.48       512\n",
      "weighted avg       0.74      0.80      0.73       512\n",
      "\n"
     ]
    }
   ],
   "source": [
    "print(classification_report(Y_test, grad_pred))"
   ]
  },
  {
   "cell_type": "code",
   "execution_count": 497,
   "id": "9b24d1af",
   "metadata": {},
   "outputs": [
    {
     "name": "stdout",
     "output_type": "stream",
     "text": [
      "[[406   5]\n",
      " [ 97   4]]\n",
      "\n",
      "True Negatives(TN) =  406\n",
      "\n",
      "True Positives(TP) =  4\n",
      "\n",
      "False Positives(FP) =  5\n",
      "\n",
      "False Negatives(FN) =  97\n"
     ]
    }
   ],
   "source": [
    "\n",
    "########## matrice de confusion\n",
    "confusion_matrix_grad = metrics.confusion_matrix(Y_test, grad_pred)\n",
    "\n",
    "print(confusion_matrix_grad)\n",
    "\n",
    "print('\\nTrue Negatives(TN) = ', confusion_matrix_grad[0,0])\n",
    "\n",
    "print('\\nTrue Positives(TP) = ', confusion_matrix_grad[1,1])\n",
    "\n",
    "print('\\nFalse Positives(FP) = ', confusion_matrix_grad[0,1])\n",
    "\n",
    "print('\\nFalse Negatives(FN) = ', confusion_matrix_grad[1,0])"
   ]
  },
  {
   "cell_type": "code",
   "execution_count": 498,
   "id": "52ead12f",
   "metadata": {},
   "outputs": [
    {
     "name": "stdout",
     "output_type": "stream",
     "text": [
      "<sklearn.metrics._plot.confusion_matrix.ConfusionMatrixDisplay object at 0x0000019ED6AF9D30>\n"
     ]
    },
    {
     "data": {
      "image/png": "[encoded data removed]",
      "text/plain": [
       "<Figure size 432x288 with 2 Axes>"
      ]
     },
     "metadata": {
      "needs_background": "light"
     },
     "output_type": "display_data"
    }
   ],
   "source": [
    "cm_display_grad = metrics.ConfusionMatrixDisplay(confusion_matrix = confusion_matrix_grad, display_labels = [False, True])\n",
    "\n",
    "print(cm_display_grad)\n",
    "cm_display_grad.plot()\n",
    "plt.show()"
   ]
  },
  {
   "cell_type": "code",
   "execution_count": 499,
   "id": "0da02d34",
   "metadata": {},
   "outputs": [
    {
     "name": "stdout",
     "output_type": "stream",
     "text": [
      "Number of mislabeled points out of a total 512 points : 102\n"
     ]
    }
   ],
   "source": [
    "print(\"Number of mislabeled points out of a total %d points : %d\"\n",
    "...       % (X_test.shape[0], (Y_test != grad_pred).sum()))"
   ]
  },
  {
   "cell_type": "code",
   "execution_count": 500,
   "id": "0f44ef9a",
   "metadata": {},
   "outputs": [
    {
     "name": "stdout",
     "output_type": "stream",
     "text": [
      "Accuracy= 80.078125\n",
      "f1.score= 7.2727272727272725\n",
      "precision.score= 44.44444444444444\n",
      "recall_score= 3.9603960396039604\n",
      "Specificity= 0.9878345498783455\n"
     ]
    }
   ],
   "source": [
    "accuracyscore = metrics.accuracy_score(Y_test, grad_pred)*100\n",
    "print (\"Accuracy=\", accuracyscore)\n",
    "\n",
    "f1score = metrics.f1_score(Y_test,grad_pred)*100\n",
    "print (\"f1.score=\", f1score)\n",
    "\n",
    "precisionscore = metrics.precision_score(Y_test, grad_pred)*100\n",
    "print (\"precision.score=\", precisionscore)\n",
    "\n",
    "recallscore = recall_score(Y_test,grad_pred)*100\n",
    "print (\"recall_score=\", recallscore)\n",
    "\n",
    "specificityscore = metrics.recall_score(Y_test,grad_pred, pos_label=0)\n",
    "print(\"Specificity=\", specificityscore)"
   ]
  },
  {
   "cell_type": "code",
   "execution_count": 501,
   "id": "56bd0185",
   "metadata": {},
   "outputs": [
    {
     "name": "stdout",
     "output_type": "stream",
     "text": [
      "AUC Gradient boosting= 0.6728698417286985\n"
     ]
    },
    {
     "data": {
      "image/png": "[encoded data removed]",
      "text/plain": [
       "<Figure size 432x288 with 1 Axes>"
      ]
     },
     "metadata": {
      "needs_background": "light"
     },
     "output_type": "display_data"
    }
   ],
   "source": [
    "######## COURBE DE ROC\n",
    "\n",
    "import sklearn.metrics as metrics\n",
    "from sklearn.metrics import roc_auc_score\n",
    "from sklearn.metrics import roc_curve\n",
    "# calculate the fpr and tpr for all thresholds of the classification\n",
    "prob = gradmodel.predict_proba(X_test)\n",
    "pred = prob[:,1]\n",
    "fpr_gb, tpr_gb, threshold = metrics.roc_curve(Y_test, pred)\n",
    "roc_auc = metrics.auc(fpr_gb, tpr_gb)\n",
    "print(\"AUC Gradient boosting=\", roc_auc)\n",
    "auc_gb = roc_auc_score(Y_test, pred)\n",
    "\n",
    "import matplotlib.pyplot as plt\n",
    "plt.title('Courbe de ROC - Gradient boosting')\n",
    "plt.plot(fpr_gb, tpr_gb, 'b', label = 'AUC = %0.2f' % auc_gb)\n",
    "plt.legend(loc = 'lower right')\n",
    "plt.plot([0, 1], [0, 1],'r--')\n",
    "plt.xlim([0, 1])\n",
    "plt.ylim([0, 1])\n",
    "plt.ylabel('True Positive Rate - Sensitivity')\n",
    "plt.xlabel('False Positive Rate - (1-Specificity)')\n",
    "plt.show()"
   ]
  },
  {
   "cell_type": "code",
   "execution_count": 502,
   "id": "a5409815",
   "metadata": {},
   "outputs": [
    {
     "data": {
      "text/plain": [
       "[0.8352941176470589]"
      ]
     },
     "execution_count": 502,
     "metadata": {},
     "output_type": "execute_result"
    }
   ],
   "source": [
    "##### CROSS VALIDATION                                 \n",
    "skf = StratifiedKFold(n_splits=10, shuffle=True, random_state=1) \n",
    "lst_accu_stratified = []\n",
    "\n",
    "for train_index, test_index in skf.split(X, Y): \n",
    "    X_train_fold_grad, X_test_fold_grad = X.iloc[train_index], X.iloc[test_index] \n",
    "    Y_train_fold_grad, Y_test_fold_grad = X.iloc[train_index], Y.iloc[test_index] \n",
    "     \n",
    "lst_accu_stratified.append(gradmodel.score(X_test_fold_grad, Y_test_fold_grad))\n",
    "\n",
    "lst_accu_stratified "
   ]
  },
  {
   "cell_type": "code",
   "execution_count": 503,
   "id": "69f10fcf",
   "metadata": {},
   "outputs": [
    {
     "name": "stdout",
     "output_type": "stream",
     "text": [
      "Accuracy - Cross Validation:  80.1377331420373\n",
      "Precision - Cross Validation:  52.33333333333333\n",
      "Recall - Cross Validation:  5.987804878048782\n",
      "f1 - Cross Validation:  10.436312466885706\n",
      "roc_auc_crossval= [0.65909091 0.67212121 0.65075758 0.58544021 0.67004573 0.65289634\n",
      " 0.67301829 0.63528963 0.5839939  0.68467988]\n"
     ]
    }
   ],
   "source": [
    "accuracy_crossval = cross_val_score(gradmodel, X_train, Y_train, cv=skf, scoring='accuracy')\n",
    "print(\"Accuracy - Cross Validation: \", accuracy_crossval.mean()*100)\n",
    "\n",
    "precision_crossval = cross_val_score(gradmodel, X_train, Y_train, cv= skf, scoring='precision')\n",
    "print(\"Precision - Cross Validation: \", precision_crossval.mean()*100)\n",
    "\n",
    "recall_crossval = cross_val_score(gradmodel, X_train, Y_train, cv= skf, scoring='recall')\n",
    "print(\"Recall - Cross Validation: \", recall_crossval.mean()*100)\n",
    "\n",
    "f1_crossval = cross_val_score(gradmodel,X_train, Y_train, cv= skf, scoring='f1')\n",
    "print(\"f1 - Cross Validation: \", f1_crossval.mean()*100)\n",
    "\n",
    "roc_auc_crossval = cross_val_score(gradmodel, X_train, Y_train, cv= skf, scoring='roc_auc')\n",
    "print(\"roc_auc_crossval=\", roc_auc_crossval)"
   ]
  },
  {
   "cell_type": "code",
   "execution_count": 505,
   "id": "4d530343",
   "metadata": {},
   "outputs": [
    {
     "data": {
      "text/plain": [
       "array([0, 0, 0, 0, 0, 0, 0, 0, 0, 0, 0, 0, 0, 0, 0, 0, 0, 1, 0, 0, 0, 0,\n",
       "       0, 0, 0, 0, 0, 0, 0, 0, 0, 0, 0, 0, 0, 1, 0, 0, 0, 0, 0, 0, 0, 0,\n",
       "       0, 0, 0, 0, 0, 0, 0, 0, 0, 0, 0, 0, 0, 0, 0, 0, 0, 0, 0, 0, 0, 0,\n",
       "       0, 0, 0, 0, 0, 0, 0, 0, 0, 1, 0, 0, 0, 0, 0, 0, 0, 0, 0, 0, 0, 0,\n",
       "       0, 0, 0, 0, 0, 0, 0, 0, 1, 0, 0, 0, 0, 0, 0, 0, 0, 0, 0, 0, 0, 0,\n",
       "       0, 0, 0, 0, 0, 0, 0, 0, 1, 0, 0, 0, 0, 0, 0, 1, 0, 0, 0, 0, 0, 0,\n",
       "       0, 0, 0, 0, 0, 0, 0, 0, 0, 0, 0, 0, 0, 0, 0, 0, 0, 0, 0, 0, 0, 0,\n",
       "       0, 0, 0, 0, 0, 0, 0, 0, 0, 0, 0, 0, 0, 0, 0, 0, 0, 0, 1, 0, 0, 1,\n",
       "       0, 0, 0, 0, 0, 0, 0, 0, 0, 0, 0, 0, 0, 0, 0, 0, 0, 0, 0, 0, 0, 0,\n",
       "       0, 0, 0, 0, 0, 1, 0, 0, 0, 0, 0, 0, 0, 0, 1, 0, 0, 0, 0, 0, 0, 0,\n",
       "       0, 0, 0, 0, 0, 0, 0, 0, 0, 0, 0, 0, 0, 0, 0, 0, 0, 0, 0, 0, 0, 0,\n",
       "       0, 0, 0, 0, 0, 0, 0, 0, 0, 0, 0, 0, 0, 0, 0, 0, 0, 0, 0, 0, 0, 0,\n",
       "       0, 0, 0, 0, 0, 0, 0, 0, 0, 0, 0, 0, 0, 0, 0, 0, 0, 0, 0, 0, 0, 0,\n",
       "       0, 1, 0, 0, 0, 0, 0, 0, 0, 0, 0, 0, 0, 0, 0, 0, 0, 0, 0, 0, 0, 0,\n",
       "       0, 0, 0, 0, 0, 0, 0, 0, 0, 0, 0, 0, 0, 0, 0, 0, 0, 0, 0, 0, 0, 0,\n",
       "       0, 0, 0, 0, 0, 0, 0, 0, 0, 0, 0, 0, 0, 0, 0, 0, 0, 0, 0, 0, 0, 0,\n",
       "       0, 0, 0, 0, 0, 0, 0, 0, 0, 1, 0, 0, 0, 0, 0, 0, 0, 0, 0, 0, 0, 0,\n",
       "       0, 0, 0, 0, 0, 0, 0, 0, 0, 0, 0, 0, 0, 0, 0, 0, 0, 0, 0, 0, 0, 0,\n",
       "       0, 0, 0, 0, 0, 0, 0, 0, 0, 0, 0, 0, 0, 0, 0, 0, 0, 0, 0, 0, 0, 0,\n",
       "       0, 0, 0, 0, 0, 0, 0, 0, 0, 0, 0, 0, 0, 0, 0, 0, 0, 0, 0, 0, 0, 0,\n",
       "       0, 0, 0, 0, 0, 0, 0, 0, 0, 0, 0, 0, 0, 0, 0, 0, 0, 0, 0, 0, 0, 0,\n",
       "       0, 0, 0, 0, 0, 0, 0, 0, 0, 0, 0, 0, 0, 0, 0, 0, 0, 0, 0, 0, 0, 0,\n",
       "       0, 0, 0, 0, 0, 0, 0, 0, 0, 0, 0, 0, 0, 0, 0, 0, 0, 0, 0, 0, 0, 0,\n",
       "       0, 0, 0, 0, 0, 0])"
      ]
     },
     "execution_count": 505,
     "metadata": {},
     "output_type": "execute_result"
    }
   ],
   "source": [
    "############################    Stacking\n",
    "\n",
    "from sklearn.ensemble import StackingClassifier\n",
    "estimators = [('Bayes', model), ('RF', modelforest),('GB',gradmodel),('Ab',adamodel), ('k', knnmodel), ('QDA', qdamodel),\n",
    "             ('extra trees', modelextra), ('decision tree', decision_tree_model), ('bagging', bagmodel),('reg', logregoptimal)]\n",
    "stack = StackingClassifier(estimators = estimators, final_estimator =  LogisticRegressionWithThreshold())\n",
    "stack.fit(X_train, Y_train)\n",
    "stack_pred = stack.predict(X_test)\n",
    "stack_pred"
   ]
  },
  {
   "cell_type": "code",
   "execution_count": 506,
   "id": "c820920e",
   "metadata": {},
   "outputs": [
    {
     "name": "stdout",
     "output_type": "stream",
     "text": [
      "              precision    recall  f1-score   support\n",
      "\n",
      "           0       0.81      0.99      0.89       411\n",
      "           1       0.58      0.07      0.12       101\n",
      "\n",
      "    accuracy                           0.81       512\n",
      "   macro avg       0.70      0.53      0.51       512\n",
      "weighted avg       0.77      0.81      0.74       512\n",
      "\n"
     ]
    }
   ],
   "source": [
    "print(classification_report(Y_test, stack_pred))"
   ]
  },
  {
   "cell_type": "code",
   "execution_count": 507,
   "id": "da086ab0",
   "metadata": {},
   "outputs": [
    {
     "name": "stdout",
     "output_type": "stream",
     "text": [
      "[[406   5]\n",
      " [ 94   7]]\n",
      "\n",
      "True Negatives(TN) =  406\n",
      "\n",
      "True Positives(TP) =  7\n",
      "\n",
      "False Positives(FP) =  5\n",
      "\n",
      "False Negatives(FN) =  94\n"
     ]
    }
   ],
   "source": [
    "\n",
    "########## matrice de confusion\n",
    "confusion_matrix_stack = metrics.confusion_matrix(Y_test, stack_pred)\n",
    "\n",
    "print(confusion_matrix_stack)\n",
    "\n",
    "print('\\nTrue Negatives(TN) = ', confusion_matrix_stack[0,0])\n",
    "\n",
    "print('\\nTrue Positives(TP) = ', confusion_matrix_stack[1,1])\n",
    "\n",
    "print('\\nFalse Positives(FP) = ', confusion_matrix_stack[0,1])\n",
    "\n",
    "print('\\nFalse Negatives(FN) = ', confusion_matrix_stack[1,0])"
   ]
  },
  {
   "cell_type": "code",
   "execution_count": 508,
   "id": "22645cc8",
   "metadata": {},
   "outputs": [
    {
     "name": "stdout",
     "output_type": "stream",
     "text": [
      "<sklearn.metrics._plot.confusion_matrix.ConfusionMatrixDisplay object at 0x0000019ECF7C9490>\n"
     ]
    },
    {
     "data": {
      "image/png": "[encoded data removed]",
      "text/plain": [
       "<Figure size 432x288 with 2 Axes>"
      ]
     },
     "metadata": {
      "needs_background": "light"
     },
     "output_type": "display_data"
    }
   ],
   "source": [
    "cm_display_stack = metrics.ConfusionMatrixDisplay(confusion_matrix = confusion_matrix_stack, display_labels = [False, True])\n",
    "\n",
    "print(cm_display_stack)\n",
    "cm_display_stack.plot()\n",
    "plt.show()"
   ]
  },
  {
   "cell_type": "code",
   "execution_count": 509,
   "id": "0af6219b",
   "metadata": {},
   "outputs": [
    {
     "name": "stdout",
     "output_type": "stream",
     "text": [
      "Number of mislabeled points out of a total 512 points : 99\n"
     ]
    }
   ],
   "source": [
    "print(\"Number of mislabeled points out of a total %d points : %d\"\n",
    "...       % (X_test.shape[0], (Y_test != stack_pred).sum()))"
   ]
  },
  {
   "cell_type": "code",
   "execution_count": 510,
   "id": "e32b07ac",
   "metadata": {},
   "outputs": [
    {
     "name": "stdout",
     "output_type": "stream",
     "text": [
      "Accuracy= 80.6640625\n",
      "f1.score= 12.389380530973453\n",
      "precision.score= 58.333333333333336\n",
      "recall_score= 6.9306930693069315\n",
      "Specificity= 0.9878345498783455\n"
     ]
    }
   ],
   "source": [
    "accuracyscore = metrics.accuracy_score(Y_test, stack_pred)*100\n",
    "print (\"Accuracy=\", accuracyscore)\n",
    "\n",
    "f1score = metrics.f1_score(Y_test, stack_pred)*100\n",
    "print (\"f1.score=\", f1score)\n",
    "\n",
    "precisionscore = metrics.precision_score(Y_test, stack_pred)*100\n",
    "print (\"precision.score=\", precisionscore)\n",
    "\n",
    "recallscore = recall_score(Y_test, stack_pred)*100\n",
    "print (\"recall_score=\", recallscore)\n",
    "\n",
    "specificityscore = metrics.recall_score(Y_test, stack_pred, pos_label=0)\n",
    "print(\"Specificity=\", specificityscore)"
   ]
  },
  {
   "cell_type": "code",
   "execution_count": 511,
   "id": "b4a899a7",
   "metadata": {},
   "outputs": [
    {
     "data": {
      "image/png": "[encoded data removed]",
      "text/plain": [
       "<Figure size 432x288 with 1 Axes>"
      ]
     },
     "metadata": {
      "needs_background": "light"
     },
     "output_type": "display_data"
    }
   ],
   "source": [
    "######## COURBE DE ROC\n",
    "\n",
    "import sklearn.metrics as metrics\n",
    "from sklearn.metrics import roc_auc_score\n",
    "from sklearn.metrics import roc_curve\n",
    "# calculate the fpr and tpr for all thresholds of the classification\n",
    "prob = stack.predict_proba(X_test)\n",
    "pred = prob[:,1]\n",
    "fpr_s, tpr_s, threshold = metrics.roc_curve(Y_test, pred)\n",
    "roc_auc = metrics.auc(fpr_s, tpr_s)\n",
    "\n",
    "auc_s = roc_auc_score(Y_test, pred)\n",
    "\n",
    "import matplotlib.pyplot as plt\n",
    "plt.title('Courbe de ROC - Stacking')\n",
    "plt.plot(fpr_s, tpr_s, 'b', label = 'AUC = %0.2f' % auc_s)\n",
    "plt.legend(loc = 'lower right')\n",
    "plt.plot([0, 1], [0, 1],'r--')\n",
    "plt.xlim([0, 1])\n",
    "plt.ylim([0, 1])\n",
    "plt.ylabel('True Positive Rate - Sensitivity')\n",
    "plt.xlabel('False Positive Rate - (1-Specificity)')\n",
    "plt.show()"
   ]
  },
  {
   "cell_type": "code",
   "execution_count": 512,
   "id": "e2ae7b1c",
   "metadata": {},
   "outputs": [
    {
     "data": {
      "text/plain": [
       "[0.9333333333333333]"
      ]
     },
     "execution_count": 512,
     "metadata": {},
     "output_type": "execute_result"
    }
   ],
   "source": [
    "\n",
    "skf = StratifiedKFold(n_splits=10, shuffle=True, random_state=1) \n",
    "lst_accu_stratified = []\n",
    "\n",
    "for train_index, test_index in skf.split(X, Y): \n",
    "    X_train_fold_stack, X_test_fold_stack = X.iloc[train_index], X.iloc[test_index] \n",
    "    Y_train_fold_stack, Y_test_fold_stack = X.iloc[train_index], Y.iloc[test_index] \n",
    "     \n",
    "lst_accu_stratified.append(stack.score(X_test_fold_stack, Y_test_fold_stack))\n",
    "\n",
    "lst_accu_stratified "
   ]
  },
  {
   "cell_type": "code",
   "execution_count": 513,
   "id": "8830fafe",
   "metadata": {},
   "outputs": [
    {
     "name": "stdout",
     "output_type": "stream",
     "text": [
      "Accuracy - Cross Validation:  80.92109038737446\n",
      "Precision - Cross Validation:  60.642857142857146\n",
      "Recall - Cross Validation:  7.725609756097561\n",
      "f1 - Cross Validation:  14.20175210139821\n",
      "roc_auc_crossval= [0.68530303 0.71348485 0.68212121 0.60737656 0.7589939  0.70929878\n",
      " 0.72057927 0.66280488 0.68963415 0.76158537]\n"
     ]
    }
   ],
   "source": [
    "accuracy_crossval = cross_val_score(stack, X_train, Y_train, cv=skf, scoring='accuracy')\n",
    "print(\"Accuracy - Cross Validation: \", accuracy_crossval.mean()*100)\n",
    "\n",
    "precision_crossval = cross_val_score(stack, X_train, Y_train, cv= skf, scoring='precision')\n",
    "print(\"Precision - Cross Validation: \", precision_crossval.mean()*100)\n",
    "\n",
    "recall_crossval = cross_val_score(stack, X_train, Y_train, cv= skf, scoring='recall')\n",
    "print(\"Recall - Cross Validation: \", recall_crossval.mean()*100)\n",
    "\n",
    "f1_crossval = cross_val_score(stack,X_train, Y_train, cv= skf, scoring='f1')\n",
    "print(\"f1 - Cross Validation: \", f1_crossval.mean()*100)\n",
    "\n",
    "roc_auc_crossval = cross_val_score(stack, X_train, Y_train, cv= skf, scoring='roc_auc')\n",
    "print(\"roc_auc_crossval=\", roc_auc_crossval)"
   ]
  },
  {
   "cell_type": "code",
   "execution_count": 516,
   "id": "cd22739a",
   "metadata": {},
   "outputs": [
    {
     "data": {
      "image/png": "[encoded data removed]",
      "text/plain": [
       "<Figure size 504x504 with 1 Axes>"
      ]
     },
     "metadata": {
      "needs_background": "light"
     },
     "output_type": "display_data"
    }
   ],
   "source": [
    "######################       Comparaison des performances\n",
    "\n",
    "plt.figure(figsize=(7,7))\n",
    "plt.plot(fpr_b,tpr_b,linewidth=2,label='Naive Bayes, AUC = %0.2f' % auc_b)\n",
    "plt.plot(fpr_lda,tpr_lda,linewidth=2,label='LDA, AUC = %0.2f' % auc_lda)\n",
    "plt.plot(fpr_qda,tpr_qda,linewidth=2,label='QDA, AUC = %0.2f' % auc_qda)\n",
    "plt.plot(fpr_l,tpr_l,linewidth=2,label='Logistic Regression, AUC = %0.2f' % auc_l)\n",
    "plt.plot(fpr_k,tpr_k,linewidth=2,label='KNN, AUC = %0.2f' % auc_k)\n",
    "plt.plot(fpr_e,tpr_e,linewidth=2,label='Extra trees, AUC = %0.2f' % auc_e)\n",
    "plt.plot(fpr_d,tpr_d,linewidth=2,label='Decision Tree, AUC = %0.2f' % auc_d)\n",
    "plt.plot(fpr_bag,tpr_bag,linewidth=2,label='Bagging, AUC = %0.2f' % auc_bag)\n",
    "plt.plot(fpr_r,tpr_r,linewidth=2,label='Random Forest, AUC = %0.2f' % auc_r)\n",
    "plt.plot(fpr_a,tpr_a,linewidth=2,label='AdaBoost, AUC = %0.2f' % auc_a)\n",
    "plt.plot(fpr_gb,tpr_gb,linewidth=2,label='Gradient Boosting, AUC = %0.2f' % auc_gb)\n",
    "plt.title('Courbes ROC de tous les modèles')\n",
    "plt.plot([0, 1], [0, 1],'r--')\n",
    "plt.xlim([0, 1])\n",
    "plt.ylim([0, 1])\n",
    "plt.ylabel('True Positive Rate - Sensitivity')\n",
    "plt.xlabel('False Positive Rate - (1-Specificity)')\n",
    "plt.grid(linestyle=\"dashed\")\n",
    "plt.legend()\n",
    "plt.show()"
   ]
  },
  {
   "cell_type": "code",
   "execution_count": null,
   "id": "1b55d692",
   "metadata": {},
   "outputs": [],
   "source": []
  }
 ],
 "metadata": {
  "kernelspec": {
   "display_name": "Python 3",
   "language": "python",
   "name": "python3"
  },
  "language_info": {
   "codemirror_mode": {
    "name": "ipython",
    "version": 3
   },
   "file_extension": ".py",
   "mimetype": "text/x-python",
   "name": "python",
   "nbconvert_exporter": "python",
   "pygments_lexer": "ipython3",
   "version": "3.8.8"
  }
 },
 "nbformat": 4,
 "nbformat_minor": 5
}
